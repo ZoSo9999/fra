{
 "cells": [
  {
   "cell_type": "code",
   "execution_count": 1,
   "metadata": {},
   "outputs": [],
   "source": [
    "# plots will be shown inline \n",
    "%matplotlib inline \n",
    "import matplotlib.pyplot as plt\n",
    "\n",
    "import numpy\n",
    "from numpy import sqrt,floor\n",
    "\n",
    "import numpy as np\n",
    "import scipy as sp\n",
    "from scipy import stats\n",
    "\n",
    "import pandas as pd\n",
    "import random\n",
    "import math\n",
    "\n",
    "# libreria locale\n",
    "import my_lib_santanastasio as my\n",
    "\n",
    "##NOTA IMPORTANTE: se cambi qualcosa in my_lib_santanastasio \n",
    "# devi fare Kernel --> Restart prima di rigirare il codice\n",
    "# altrimenti i cambiamenti non saranno applicati.\n",
    "\n",
    "# set global random seed\n",
    "random_Gseed = 1112\n",
    "np.random.seed(random_Gseed)"
   ]
  },
  {
   "cell_type": "markdown",
   "metadata": {},
   "source": [
    "# MISURA 1"
   ]
  },
  {
   "cell_type": "markdown",
   "metadata": {},
   "source": [
    "# Massa 1"
   ]
  },
  {
   "cell_type": "code",
   "execution_count": null,
   "metadata": {},
   "outputs": [],
   "source": []
  },
  {
   "cell_type": "markdown",
   "metadata": {},
   "source": [
    "# Lunghezza 1"
   ]
  },
  {
   "cell_type": "code",
   "execution_count": null,
   "metadata": {},
   "outputs": [],
   "source": []
  },
  {
   "cell_type": "markdown",
   "metadata": {},
   "source": [
    "# Periodo ricordarsi l'offset 1"
   ]
  },
  {
   "cell_type": "code",
   "execution_count": 2,
   "metadata": {},
   "outputs": [],
   "source": [
    "#nome_array=nome_array+0.035"
   ]
  },
  {
   "cell_type": "markdown",
   "metadata": {},
   "source": [
    "# MISURA 2"
   ]
  },
  {
   "cell_type": "markdown",
   "metadata": {},
   "source": [
    "# Massa 2"
   ]
  },
  {
   "cell_type": "code",
   "execution_count": null,
   "metadata": {},
   "outputs": [],
   "source": []
  },
  {
   "cell_type": "markdown",
   "metadata": {},
   "source": [
    "# Lunghezza 2"
   ]
  },
  {
   "cell_type": "code",
   "execution_count": null,
   "metadata": {},
   "outputs": [],
   "source": []
  },
  {
   "cell_type": "markdown",
   "metadata": {},
   "source": [
    "# Periodo ricordarsi l'offset 2"
   ]
  },
  {
   "cell_type": "code",
   "execution_count": 3,
   "metadata": {},
   "outputs": [],
   "source": [
    "#nome_array=nome_array+0.035"
   ]
  },
  {
   "cell_type": "code",
   "execution_count": 4,
   "metadata": {},
   "outputs": [],
   "source": [
    "##TABELLA DA FARE IO\n",
    "#for ix,x in enumerate(masse):\n",
    "   # print ('{0} & {1} & {2} & {3} & {4} \\\\\\\\'.format(ix+1,masse[ix],lunghezze[ix],diametri[ix],densità[ix]))\n",
    "    ##print ('\\hline')"
   ]
  },
  {
   "cell_type": "markdown",
   "metadata": {},
   "source": [
    "# Fit lineare"
   ]
  },
  {
   "cell_type": "markdown",
   "metadata": {},
   "source": [
    "##### fare attenzione ai nomi cambiare le X e Y con le grandezze in gioco"
   ]
  },
  {
   "cell_type": "markdown",
   "metadata": {},
   "source": [
    "#### Prima iterazione (assumo sigma x=0)"
   ]
  },
  {
   "cell_type": "code",
   "execution_count": 5,
   "metadata": {
    "scrolled": true
   },
   "outputs": [],
   "source": [
    "#m0, sm0, c0, sc0, cov0, rho0 = my.lin_fit(x, y, uy, \"x [ux]\", \"y [uy]\", m, xM, ym, yM, plot=True, setrange=True)"
   ]
  },
  {
   "cell_type": "markdown",
   "metadata": {},
   "source": [
    "#### Seconda iterazione"
   ]
  },
  {
   "cell_type": "code",
   "execution_count": 6,
   "metadata": {},
   "outputs": [],
   "source": [
    "## nuove y     non sempre necessario vedere se uy>>m0ux\n",
    "\n",
    "#uy_new = np.sqrt(uy**2+(m0*ux)**2)    \n",
    "#m, sm, c, sc, cov, rho = my.lin_fit(x, y, uy_new, \"x [ux]\", \"y [uy]\", xm, xM, ym, yM, plot=True, setrange=True)"
   ]
  },
  {
   "cell_type": "markdown",
   "metadata": {},
   "source": [
    "#### Residui"
   ]
  },
  {
   "cell_type": "code",
   "execution_count": 7,
   "metadata": {},
   "outputs": [],
   "source": [
    "## Studio dei residui\n",
    "\n",
    "#y_atteso = m*x + c\n",
    "#d = y - y_atteso\n",
    "#d_norm = d / uy_new"
   ]
  },
  {
   "cell_type": "code",
   "execution_count": 8,
   "metadata": {},
   "outputs": [],
   "source": [
    "#plt.errorbar(x,d,uy_new,marker='.',linestyle=\"\")\n",
    "#plt.ylabel(\"Residui $d=y-y_{atteso}$ [uy]\")\n",
    "#plt.xlabel(\"$x$ [ux]\")\n",
    "#plt.grid()"
   ]
  },
  {
   "cell_type": "markdown",
   "metadata": {},
   "source": [
    "##### normalizzati"
   ]
  },
  {
   "cell_type": "code",
   "execution_count": 9,
   "metadata": {},
   "outputs": [],
   "source": [
    "#plt.errorbar(x,d_norm,uy_new/uy_new,marker='.',linestyle=\"\")\n",
    "#plt.ylabel(\"Residui normalizzati $d/\\sigma_y=(y-y_{atteso})/\\sigma_y$\")\n",
    "#plt.xlabel(\"$x$ [ux]\")\n",
    "#plt.grid()"
   ]
  },
  {
   "cell_type": "markdown",
   "metadata": {},
   "source": [
    "#### Incertezze a posteriori     NON SEMPRE NECESSARIO STUDIARE PRIMA I RESIDUI"
   ]
  },
  {
   "cell_type": "code",
   "execution_count": 10,
   "metadata": {},
   "outputs": [],
   "source": [
    "#sigmy_post = math.sqrt( np.sum(d**2)/(d.size-2) )\n",
    "#uy_post = np.repeat(sigmy_post,y.size)\n",
    "#print (sigmy_post)\n",
    "\n",
    "## Nuovo fit con incertezze a posteriori sulle y\n",
    "\n",
    "#m1, sm1, c1, sc1, cov1, rho1 = my.lin_fit(x, y, uy_post, \"x [ux]\", \"y [uy]\", xm, xM, ym, yM, plot=True, setrange=True)"
   ]
  },
  {
   "cell_type": "markdown",
   "metadata": {},
   "source": [
    "## Scrittura risultati"
   ]
  },
  {
   "cell_type": "code",
   "execution_count": 11,
   "metadata": {
    "scrolled": true
   },
   "outputs": [],
   "source": [
    "#my.PrintResult(\"g\",9.81,0.01,3,\"m/s^2\")"
   ]
  },
  {
   "cell_type": "markdown",
   "metadata": {},
   "source": [
    "## Calcoli fit"
   ]
  },
  {
   "cell_type": "markdown",
   "metadata": {},
   "source": [
    "#### somma dell'inverso delle incertezze al quadrato"
   ]
  },
  {
   "cell_type": "code",
   "execution_count": 12,
   "metadata": {
    "scrolled": true
   },
   "outputs": [],
   "source": [
    "#my.my_denominatore(a) ##sum_i(1/sigma_i^2)"
   ]
  },
  {
   "cell_type": "markdown",
   "metadata": {},
   "source": [
    "#### pesi"
   ]
  },
  {
   "cell_type": "code",
   "execution_count": 13,
   "metadata": {},
   "outputs": [],
   "source": [
    "#my.my_weight(a) ##prende le incertezze e fa un nuovo array con l'inverso di quelle incertezze al quadrato (i pesi)"
   ]
  },
  {
   "cell_type": "markdown",
   "metadata": {},
   "source": [
    "#### media"
   ]
  },
  {
   "cell_type": "code",
   "execution_count": 14,
   "metadata": {},
   "outputs": [],
   "source": [
    "#my.my_mean(array, array_pesi) in array posso metterci prodotti di array"
   ]
  },
  {
   "cell_type": "markdown",
   "metadata": {},
   "source": [
    "#### covarianza"
   ]
  },
  {
   "cell_type": "code",
   "execution_count": 15,
   "metadata": {},
   "outputs": [],
   "source": [
    "#my.my_cov(array1, array2, array_pesi)"
   ]
  },
  {
   "cell_type": "markdown",
   "metadata": {},
   "source": [
    "#### varianza"
   ]
  },
  {
   "cell_type": "code",
   "execution_count": 16,
   "metadata": {},
   "outputs": [],
   "source": [
    "#my.my_var(array, array_pesi)"
   ]
  },
  {
   "cell_type": "markdown",
   "metadata": {},
   "source": [
    "## Tabelle"
   ]
  },
  {
   "cell_type": "code",
   "execution_count": 17,
   "metadata": {},
   "outputs": [],
   "source": [
    "#for ix,x in enumerate(masse):\n",
    "   # print ('{0} & {1} & {2} & {3} & {4} \\\\\\\\'.format(ix+1,masse[ix],lunghezze[ix],diametri[ix],densità[ix]))\n",
    "    ##print ('\\hline')"
   ]
  },
  {
   "cell_type": "markdown",
   "metadata": {},
   "source": [
    "## Istogrammi"
   ]
  },
  {
   "cell_type": "code",
   "execution_count": 18,
   "metadata": {},
   "outputs": [],
   "source": [
    "#binsize=np.std(ARRAY,ddof=1)*0.7\n",
    "#interval=np.max(ARRAY)-np.min(ARRAY)\n",
    "#nbin=int(interval/binsize)\n",
    "#nbin"
   ]
  },
  {
   "cell_type": "code",
   "execution_count": 19,
   "metadata": {},
   "outputs": [],
   "source": [
    "##istogramma\n",
    "#plt.hist(ARRAY,bins=nbin,color='blue', alpha=0.75)\n",
    "#plt.xlabel('X[U]')\n",
    "#plt.ylabel('Conteggi')\n",
    "#plt.title(label='Istogramma di X: $\\mu$={0:.3f} S={1:.3f}'.format(np.mean(ARRAY),np.std(ARRAY,ddof=1)))"
   ]
  },
  {
   "cell_type": "markdown",
   "metadata": {},
   "source": [
    "## Grafico punti"
   ]
  },
  {
   "cell_type": "code",
   "execution_count": 20,
   "metadata": {},
   "outputs": [],
   "source": [
    "#plt.errorbar(x, y, yerr=sd_y, xerr=0, ls='', marker='.', color=\"black\",label='dati')\n",
    "#plt.xlabel('X[U]')\n",
    "#plt.ylabel('Y[U]')\n",
    "#plt.title(label='Y vs X')\n",
    "\n",
    "#plt.grid()\n",
    "        \n",
    "#plt.legend()"
   ]
  },
  {
   "cell_type": "markdown",
   "metadata": {},
   "source": [
    "# Altre prove "
   ]
  },
  {
   "cell_type": "code",
   "execution_count": 21,
   "metadata": {},
   "outputs": [],
   "source": [
    "my.swichComaDot(\"di\")"
   ]
  },
  {
   "cell_type": "code",
   "execution_count": 22,
   "metadata": {},
   "outputs": [
    {
     "data": {
      "text/html": [
       "<div>\n",
       "<style scoped>\n",
       "    .dataframe tbody tr th:only-of-type {\n",
       "        vertical-align: middle;\n",
       "    }\n",
       "\n",
       "    .dataframe tbody tr th {\n",
       "        vertical-align: top;\n",
       "    }\n",
       "\n",
       "    .dataframe thead th {\n",
       "        text-align: right;\n",
       "    }\n",
       "</style>\n",
       "<table border=\"1\" class=\"dataframe\">\n",
       "  <thead>\n",
       "    <tr style=\"text-align: right;\">\n",
       "      <th></th>\n",
       "      <th>44.3</th>\n",
       "      <th>54.2</th>\n",
       "    </tr>\n",
       "  </thead>\n",
       "  <tbody>\n",
       "    <tr>\n",
       "      <th>0</th>\n",
       "      <td>87.0</td>\n",
       "      <td>212.5</td>\n",
       "    </tr>\n",
       "    <tr>\n",
       "      <th>1</th>\n",
       "      <td>34.7</td>\n",
       "      <td>1.0</td>\n",
       "    </tr>\n",
       "  </tbody>\n",
       "</table>\n",
       "</div>"
      ],
      "text/plain": [
       "   44.3   54.2\n",
       "0  87.0  212.5\n",
       "1  34.7    1.0"
      ]
     },
     "execution_count": 22,
     "metadata": {},
     "output_type": "execute_result"
    }
   ],
   "source": [
    "df = pd.read_csv('di',header=0,sep='\\t') \n",
    "df"
   ]
  },
  {
   "cell_type": "code",
   "execution_count": 23,
   "metadata": {},
   "outputs": [],
   "source": [
    "lunghezze=np.array([20.003,20.455,20.488,20.489,20.070,20.811,20.595,21.136,21.685,20.085,20.202,20.490,20.051,21.318,21.102,20.090,20.030,20.491,20.490,18.00,21.621,18.462,21.100,20.888,20.475,20.560,20.045,20.489,20.038,20.050])"
   ]
  },
  {
   "cell_type": "code",
   "execution_count": 26,
   "metadata": {},
   "outputs": [
    {
     "data": {
      "image/png": "[encoded data removed]",
      "text/plain": [
       "<Figure size 432x288 with 1 Axes>"
      ]
     },
     "metadata": {
      "needs_background": "light"
     },
     "output_type": "display_data"
    }
   ],
   "source": [
    "my.isto(lunghezze, 0.4, 'l[mm]', 'l')"
   ]
  }
 ],
 "metadata": {
  "kernelspec": {
   "display_name": "Python 3 (ipykernel)",
   "language": "python",
   "name": "python3"
  },
  "language_info": {
   "codemirror_mode": {
    "name": "ipython",
    "version": 3
   },
   "file_extension": ".py",
   "mimetype": "text/x-python",
   "name": "python",
   "nbconvert_exporter": "python",
   "pygments_lexer": "ipython3",
   "version": "3.8.10"
  }
 },
 "nbformat": 4,
 "nbformat_minor": 4
}
