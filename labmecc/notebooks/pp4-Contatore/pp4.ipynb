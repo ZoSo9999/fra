{
 "cells": [
  {
   "cell_type": "code",
   "execution_count": 2,
   "id": "83c63fbe",
   "metadata": {},
   "outputs": [],
   "source": [
    "import numpy as np\n",
    "import matplotlib.pyplot as plt\n",
    "import matplotlib.mlab as mlab\n",
    "from scipy import stats\n",
    "import pandas as pd\n",
    "import fra_lib as fra\n",
    "import my_lib_santanastasio as my"
   ]
  },
  {
   "cell_type": "markdown",
   "id": "183d5c21",
   "metadata": {},
   "source": [
    "## Converisone conteggi da 6 a 10 min"
   ]
  },
  {
   "cell_type": "code",
   "execution_count": 3,
   "id": "34665ad3",
   "metadata": {},
   "outputs": [
    {
     "data": {
      "text/plain": [
       "(1388.3333333333335, 580.0)"
      ]
     },
     "execution_count": 3,
     "metadata": {},
     "output_type": "execute_result"
    }
   ],
   "source": [
    "rate_tufo=833/6\n",
    "tufo_count = rate_tufo * 10\n",
    "\n",
    "rate_vert= 348/6\n",
    "vert_count = rate_vert * 10\n",
    "\n",
    "tufo_count, vert_count"
   ]
  },
  {
   "cell_type": "markdown",
   "id": "d65ef160",
   "metadata": {},
   "source": [
    "# Misura dei conteggi per unità di tempo dovuti al fondo ed al fondo più tufo"
   ]
  },
  {
   "cell_type": "code",
   "execution_count": 4,
   "id": "2c62561c",
   "metadata": {},
   "outputs": [
    {
     "name": "stdout",
     "output_type": "stream",
     "text": [
      "19.0 7.08519583356734\n"
     ]
    }
   ],
   "source": [
    "r_a = (2*580-675) / 10\n",
    "u_r_a = np.sqrt(4*580+675)/10\n",
    "\n",
    "half_c = 675 - 580\n",
    "r_c = 2 * half_c/10\n",
    "u_r_c = np.sqrt(675+580) / 5\n",
    "print(r_c, u_r_c)\n",
    "\n",
    "r_t = (1388-675) / 10\n",
    "u_r_t = np.sqrt(1388+675)/10"
   ]
  }
 ],
 "metadata": {
  "interpreter": {
   "hash": "916dbcbb3f70747c44a77c7bcd40155683ae19c65e1c03b4aa3499c5328201f1"
  },
  "kernelspec": {
   "display_name": "Python 3.8.10 64-bit",
   "language": "python",
   "name": "python3"
  },
  "language_info": {
   "codemirror_mode": {
    "name": "ipython",
    "version": 3
   },
   "file_extension": ".py",
   "mimetype": "text/x-python",
   "name": "python",
   "nbconvert_exporter": "python",
   "pygments_lexer": "ipython3",
   "version": "3.8.10"
  }
 },
 "nbformat": 4,
 "nbformat_minor": 5
}
