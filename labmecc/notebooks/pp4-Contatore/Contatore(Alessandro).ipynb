{
 "cells": [
  {
   "cell_type": "code",
   "execution_count": 1,
   "id": "e81719d5",
   "metadata": {},
   "outputs": [],
   "source": [
    "#plots will be shown inline \n",
    "%matplotlib inline \n",
    "\n",
    "import numpy as np\n",
    "import matplotlib.pyplot as plt\n",
    "import matplotlib.mlab as mlab\n",
    "from scipy import stats\n",
    "import pandas as pd\n",
    "import math\n",
    "import fra_lib as fra"
   ]
  },
  {
   "cell_type": "code",
   "execution_count": 2,
   "id": "ad9eab2f",
   "metadata": {},
   "outputs": [
    {
     "name": "stdout",
     "output_type": "stream",
     "text": [
      "55 110 162 201 569\n"
     ]
    },
    {
     "data": {
      "text/plain": [
       "429"
      ]
     },
     "execution_count": 2,
     "metadata": {},
     "output_type": "execute_result"
    }
   ],
   "source": [
    "#t1 = np.array([2,1,1,1,0,1,0,0,0,1,0,1,0,1,3,2,1,1,0,1,0,0,0,3,0,0,0,1,1,1,3,0,2,0,0,0,1,0,0,0,1,0,1,0,0,1,0,2,1,1,1])\n",
    "t1=np.array([1,3,1,1,1,1,0,1,1,0,2,2,3,1,2,1,1,0,0,1,1,0,0,1,1,3,2,0,1,0,0,2,0,2,0,2,2,1,1,0,0,1,1,1,2,1,1,3,1,2])\n",
    "t2 = np.array([1,2,2,1,2,5,4,5,2,1,1,3,1,6,1,0,0,2,2,3,3,1,3,0,0,4,2,0,2,1,3,1,1,2,3,1,3,3,0,3,0,4,4,3,4,3,5,2,3,2])\n",
    "t3 = np.array([3,2,2,7,3,2,3,7,3,2,3,1,4,7,1,4,1,2,1,5,3,6,6,2,1,4,3,5,4,0,1,4,5,5,2,2,1,6,2,3,7,1,4,6,2,0,4,3,2,2,3])\n",
    "t4 = np.array([4,3,9,5,4,3,2,2,4,4,2,4,3,5,2,2,4,6,3,3,7,5,3,3,3,3,3,5,3,5,4,7,9,3,0,8,6,5,2,2,5,8,4,5,7,1,3,0,2,6])\n",
    "t10 = np.array([9,7,12,11,11,13,17,13,10,13,15,7,11,8,8,13,10,13,13,13,11,13,8,13,14,12,6,11,9,9,20,14,12,17,8,17,8,11,13,8,6,16,10,9,6,10,18,10,14,9])\n",
    "\n",
    "print(sum(t1), sum(t2), sum(t3), sum(t4), sum(t10))\n",
    "500+4*50+3*50+100+50\n",
    "429\n",
    "    "
   ]
  },
  {
   "cell_type": "code",
   "execution_count": 3,
   "id": "3e019e5a",
   "metadata": {},
   "outputs": [
    {
     "name": "stdout",
     "output_type": "stream",
     "text": [
      "rbest e incertezza:\n",
      "1.097 0.03312099032335839\n"
     ]
    }
   ],
   "source": [
    "xtot = np.sum(t1)+np.sum(t2)+np.sum(t3)+np.sum(t4)+np.sum(t10)\n",
    "DTtot = 50+50*2+50*3+50*4+50*10\n",
    "\n",
    "rbest=xtot/DTtot\n",
    "urbest = np.sqrt(xtot)/DTtot\n",
    "print('rbest e incertezza:')\n",
    "print(rbest,urbest)"
   ]
  },
  {
   "cell_type": "code",
   "execution_count": 11,
   "id": "86ba073f",
   "metadata": {},
   "outputs": [
    {
     "name": "stdout",
     "output_type": "stream",
     "text": [
      "[16.69355982 18.31283512 10.04459006  3.67297177]\n"
     ]
    },
    {
     "data": {
      "text/plain": [
       "Text(0.5, 1.0, 'Istogramma delle misure ripetute di conteggo, $\\\\Delta t=1s$')"
      ]
     },
     "execution_count": 11,
     "metadata": {},
     "output_type": "execute_result"
    },
    {
     "data": {
      "image/png": "[encoded data removed]",
      "text/plain": [
       "<Figure size 432x288 with 1 Axes>"
      ]
     },
     "metadata": {
      "needs_background": "light"
     },
     "output_type": "display_data"
    }
   ],
   "source": [
    "N=50\n",
    "DT1=50\n",
    "X1=np.sum(t1)\n",
    "L1=X1/N\n",
    "uL1=np.sqrt(X1)/N\n",
    "\n",
    "r1=L1\n",
    "ur1=uL1\n",
    "#print(r1,ur1)\n",
    "\n",
    "nbins1=np.arange(np.min(t1)-0.5,np.max(t1)+1.5,1)\n",
    "x1=plt.hist(t1,bins=nbins1 , )\n",
    "P1=np.zeros(np.max(t1)+1)\n",
    "for i in range(0,np.max(t1)+1):\n",
    "    P1[i]=(np.power(rbest,i)*np.exp(-rbest))/math.factorial(i)\n",
    "\n",
    "#print(P1)\n",
    "Attesi1 = 50*P1\n",
    "uAttesi1 = np.sqrt(50*P1*(1-P1))\n",
    "\n",
    "asse1=np.arange(np.min(t1),np.max(t1)+1,1)\n",
    "plt.errorbar(asse1,Attesi1,uAttesi1, xerr=0, marker='.', ls='',color=\"black\")\n",
    "plt.xticks([0,1,2,3])\n",
    "print(Attesi1)\n",
    "plt.xlabel('Conteggi')\n",
    "plt.ylabel('Occorrenze')\n",
    "plt.title('Istogramma delle misure ripetute di conteggo, $\\Delta t=1s$')"
   ]
  },
  {
   "cell_type": "code",
   "execution_count": 12,
   "id": "c6ca8b09",
   "metadata": {},
   "outputs": [
    {
     "name": "stdout",
     "output_type": "stream",
     "text": [
      "1.1 0.10488088481701516\n",
      "[0.11146998 0.24456513 0.26828794 0.19620792 0.10762004 0.04722367\n",
      " 0.01726812]\n"
     ]
    },
    {
     "data": {
      "text/plain": [
       "Text(0.5, 1.0, 'Istogramma delle misure ripetute di conteggo, $\\\\Delta t=2s$')"
      ]
     },
     "execution_count": 12,
     "metadata": {},
     "output_type": "execute_result"
    },
    {
     "data": {
      "image/png": "[encoded data removed]",
      "text/plain": [
       "<Figure size 432x288 with 1 Axes>"
      ]
     },
     "metadata": {
      "needs_background": "light"
     },
     "output_type": "display_data"
    }
   ],
   "source": [
    "\n",
    "DT2=50*2\n",
    "X2=np.sum(t2)\n",
    "L2=X2/N\n",
    "uL2=np.sqrt(X2)/N\n",
    "\n",
    "r2=L2/2\n",
    "ur2=uL2/2\n",
    "print(r2,ur2)\n",
    "\n",
    "nbins2=np.arange(np.min(t2)-0.5,np.max(t2)+1.5,1)\n",
    "x2=plt.hist(t2,bins=nbins2)\n",
    "\n",
    "P2=np.zeros(np.max(t2)+1)\n",
    "for i in range(0,np.max(t2)+1):\n",
    "    P2[i]=(np.power(rbest*2,i)*np.exp(-rbest*2))/math.factorial(i)\n",
    "\n",
    "print(P2)\n",
    "Attesi2 = 50*P2\n",
    "uAttesi2 = np.sqrt(50*P2*(1-P2))\n",
    "\n",
    "asse2=np.arange(np.min(t2),np.max(t2)+1,1)\n",
    "plt.errorbar(asse2,Attesi2,uAttesi2, xerr=0, marker='.', ls='',color=\"black\")\n",
    "plt.xticks(asse2)\n",
    "plt.yticks(np.arange(0,18,2))\n",
    "plt.xlabel('Conteggi')\n",
    "plt.ylabel('Occorrenze')\n",
    "plt.title('Istogramma delle misure ripetute di conteggo, $\\Delta t=2s$')"
   ]
  },
  {
   "cell_type": "code",
   "execution_count": 13,
   "id": "28d74356",
   "metadata": {},
   "outputs": [
    {
     "name": "stdout",
     "output_type": "stream",
     "text": [
      "1.08 0.0848528137423857\n",
      "[0.03721661 0.12247988 0.20154064 0.22109008 0.18190186 0.11972781\n",
      " 0.0656707  0.03087461]\n"
     ]
    },
    {
     "data": {
      "text/plain": [
       "Text(0.5, 1.0, 'Istogramma delle misure ripetute di conteggo, $\\\\Delta t=3s$')"
      ]
     },
     "execution_count": 13,
     "metadata": {},
     "output_type": "execute_result"
    },
    {
     "data": {
      "image/png": "[encoded data removed]",
      "text/plain": [
       "<Figure size 432x288 with 1 Axes>"
      ]
     },
     "metadata": {
      "needs_background": "light"
     },
     "output_type": "display_data"
    }
   ],
   "source": [
    "DT3=50*3\n",
    "X3=np.sum(t3)\n",
    "L3=X3/N\n",
    "uL3=np.sqrt(X3)/N\n",
    "\n",
    "r3=L3/3\n",
    "ur3=uL3/3\n",
    "print(r3,ur3)\n",
    "\n",
    "nbins3=np.arange(np.min(t3)-0.5,np.max(t3)+1.5,1)\n",
    "x3=plt.hist(t3,bins=nbins3)\n",
    "\n",
    "P3=np.zeros(np.max(t3)+1)\n",
    "for i in range(0,np.max(t3)+1):\n",
    "    P3[i]=(np.power(rbest*3,i)*np.exp(-rbest*3))/math.factorial(i)\n",
    "\n",
    "print(P3)\n",
    "Attesi3 = 50*P3\n",
    "uAttesi3 = np.sqrt(50*P3*(1-P3))\n",
    "\n",
    "asse3=np.arange(np.min(t3),np.max(t3)+1,1)\n",
    "plt.errorbar(asse3,Attesi3,uAttesi3, xerr=0, marker='.', ls='',color=\"black\")\n",
    "plt.xticks(asse3)\n",
    "plt.yticks(np.arange(0,15,2))\n",
    "plt.xlabel('Conteggi')\n",
    "plt.ylabel('Occorrenze')\n",
    "plt.title('Istogramma delle misure ripetute di conteggo, $\\Delta t=3s$')"
   ]
  },
  {
   "cell_type": "code",
   "execution_count": 22,
   "id": "d4d5de12",
   "metadata": {},
   "outputs": [
    {
     "name": "stdout",
     "output_type": "stream",
     "text": [
      "1.005 0.07088723439378913\n",
      "[0.01242556 0.05452334 0.1196242  0.17497033 0.19194246 0.1684487\n",
      " 0.12319215 0.07722388 0.0423573  0.02065154]\n"
     ]
    },
    {
     "data": {
      "text/plain": [
       "Text(0.5, 1.0, 'Istogramma delle misure ripetute di conteggo, $\\\\Delta t=4s$')"
      ]
     },
     "execution_count": 22,
     "metadata": {},
     "output_type": "execute_result"
    },
    {
     "data": {
      "image/png": "[encoded data removed]",
      "text/plain": [
       "<Figure size 432x288 with 1 Axes>"
      ]
     },
     "metadata": {
      "needs_background": "light"
     },
     "output_type": "display_data"
    }
   ],
   "source": [
    "DT4=50*4\n",
    "X4=np.sum(t4)\n",
    "L4=X4/N\n",
    "uL4=np.sqrt(X4)/N\n",
    "\n",
    "r4=L4/4\n",
    "ur4=uL4/4\n",
    "print(r4,ur4)\n",
    "\n",
    "nbins4=np.arange(np.min(t4)-0.5,np.max(t4)+1.5,1)\n",
    "x4=plt.hist(t4,bins=nbins4)\n",
    "\n",
    "P4=np.zeros(np.max(t4)+1)\n",
    "for i in range(0,np.max(t4)+1):\n",
    "    P4[i]=(np.power(rbest*4,i)*np.exp(-rbest*4))/math.factorial(i)\n",
    "\n",
    "print(P4)\n",
    "Attesi4 = 50*P4\n",
    "uAttesi4 = np.sqrt(50*P4*(1-P4))\n",
    "\n",
    "asse4=np.arange(np.min(t4),np.max(t4)+1,1)\n",
    "plt.errorbar(asse4,Attesi4,uAttesi4, marker='.', ls='',color=\"black\")\n",
    "plt.xticks(asse4)\n",
    "plt.yticks(np.arange(0,15,2))\n",
    "plt.xlabel('Conteggi')\n",
    "plt.ylabel('Occorrenze')\n",
    "plt.title('Istogramma delle misure ripetute di conteggo, $\\Delta t=4s$')"
   ]
  },
  {
   "cell_type": "code",
   "execution_count": 15,
   "id": "fee96b02",
   "metadata": {},
   "outputs": [
    {
     "name": "stdout",
     "output_type": "stream",
     "text": [
      "1.1380000000000001 0.047707441767506256\n",
      "[1.72103433e-05 1.88797466e-04 1.03555410e-03 3.78667616e-03\n",
      " 1.03849594e-02 2.27846009e-02 4.16578453e-02 6.52837947e-02\n",
      " 8.95204034e-02 1.09115425e-01 1.19699621e-01 1.19373168e-01\n",
      " 1.09126971e-01 9.20863747e-02 7.21562521e-02 5.27702724e-02\n",
      " 3.61806180e-02 2.33471400e-02 1.42287848e-02 8.21525099e-03\n",
      " 4.50606517e-03]\n",
      "(array([ 3.,  2.,  6.,  5.,  5.,  6.,  3., 10.,  3.,  1.,  1.,  3.,  1.,\n",
      "        0.,  1.]), array([ 5.5,  6.5,  7.5,  8.5,  9.5, 10.5, 11.5, 12.5, 13.5, 14.5, 15.5,\n",
      "       16.5, 17.5, 18.5, 19.5, 20.5]), <BarContainer object of 15 artists>)\n"
     ]
    },
    {
     "data": {
      "image/png": "[encoded data removed]",
      "text/plain": [
       "<Figure size 432x288 with 1 Axes>"
      ]
     },
     "metadata": {
      "needs_background": "light"
     },
     "output_type": "display_data"
    }
   ],
   "source": [
    "DT10=50*10\n",
    "X10=np.sum(t10)\n",
    "L10=X10/N\n",
    "uL10=np.sqrt(X10)/N\n",
    "\n",
    "r10=L10/10\n",
    "ur10=uL10/10\n",
    "print(r10,ur10)\n",
    "\n",
    "nbins10=np.arange(np.min(t10)-0.5,np.max(t10)+1.5,1)\n",
    "x=plt.hist(t10,bins=nbins10)\n",
    "\n",
    "P10=np.zeros(np.max(t10)+1)\n",
    "for i in range(0,np.max(t10)+1):\n",
    "    P10[i]=(np.power(rbest*10,i)*np.exp(-rbest*10))/math.factorial(i)\n",
    "\n",
    "print(P10)\n",
    "Attesi10 = 50*P10\n",
    "uAttesi10 = np.sqrt(50*P10*(1-P10))\n",
    "lista=[0,1,2,3,4,5]\n",
    "Attesi10=np.delete(Attesi10,lista)\n",
    "uAttesi10=np.delete(uAttesi10,lista)\n",
    "\n",
    "asse10=np.arange(np.min(t10),np.max(t10)+1,1)\n",
    "plt.errorbar(asse10,Attesi10,uAttesi10, marker='.', ls='',color=\"black\")\n",
    "plt.xticks(np.arange(6,np.max(asse10)+1,2))\n",
    "plt.yticks(np.arange(0,12,2))\n",
    "plt.xlabel('Conteggi')\n",
    "plt.ylabel('Occorrenze')\n",
    "plt.title('Istogramma delle misure ripetute di conteggo, $\\Delta t=10s$')\n",
    "print(x)"
   ]
  },
  {
   "cell_type": "markdown",
   "id": "9d57e127",
   "metadata": {},
   "source": [
    "### Residui in $\\Delta t=10s$"
   ]
  },
  {
   "cell_type": "code",
   "execution_count": 16,
   "id": "a6fe44dd",
   "metadata": {},
   "outputs": [
    {
     "data": {
      "text/plain": [
       "Text(0.5, 1.0, 'Residui normalizzati, $\\\\Delta t=10s$')"
      ]
     },
     "execution_count": 16,
     "metadata": {},
     "output_type": "execute_result"
    },
    {
     "data": {
      "image/png": "[encoded data removed]",
      "text/plain": [
       "<Figure size 432x288 with 1 Axes>"
      ]
     },
     "metadata": {
      "needs_background": "light"
     },
     "output_type": "display_data"
    }
   ],
   "source": [
    "d=(x[0]-Attesi10)/uAttesi10\n",
    "\n",
    "plt.errorbar(asse10,d,1, marker='.', ls='')\n",
    "plt.grid()\n",
    "plt.xlabel(\"Conteggi\")\n",
    "plt.ylabel('Residui normalizzati $d=x-x_{atteso}/\\sigma_x$')\n",
    "plt.title('Residui normalizzati, $\\Delta t=10s$')"
   ]
  },
  {
   "cell_type": "code",
   "execution_count": 17,
   "id": "a6fe44dd",
   "metadata": {},
   "outputs": [
    {
     "data": {
      "text/plain": [
       "Text(0.5, 1.0, 'Residui normalizzati, $\\\\Delta t=1s$')"
      ]
     },
     "execution_count": 17,
     "metadata": {},
     "output_type": "execute_result"
    },
    {
     "data": {
      "image/png": "[encoded data removed]",
      "text/plain": [
       "<Figure size 432x288 with 1 Axes>"
      ]
     },
     "metadata": {
      "needs_background": "light"
     },
     "output_type": "display_data"
    }
   ],
   "source": [
    "d=(x1[0]-Attesi1)/uAttesi1\n",
    "\n",
    "plt.errorbar(asse1,d,1, marker='.', ls='')\n",
    "plt.grid()\n",
    "plt.xlabel(\"Conteggi\")\n",
    "plt.ylabel('Residui normalizzati $d=x-x_{atteso}/\\sigma_x$')\n",
    "plt.title('Residui normalizzati, $\\Delta t=1s$')"
   ]
  },
  {
   "cell_type": "code",
   "execution_count": 18,
   "id": "a6fe44dd",
   "metadata": {},
   "outputs": [
    {
     "data": {
      "text/plain": [
       "Text(0.5, 1.0, 'Residui normalizzati, $\\\\Delta t=2s$')"
      ]
     },
     "execution_count": 18,
     "metadata": {},
     "output_type": "execute_result"
    },
    {
     "data": {
      "image/png": "[encoded data removed]",
      "text/plain": [
       "<Figure size 432x288 with 1 Axes>"
      ]
     },
     "metadata": {
      "needs_background": "light"
     },
     "output_type": "display_data"
    }
   ],
   "source": [
    "d=(x2[0]-Attesi2)/uAttesi2\n",
    "\n",
    "plt.errorbar(asse2,d,1, marker='.', ls='')\n",
    "plt.grid()\n",
    "plt.xlabel(\"Conteggi\")\n",
    "plt.ylabel('Residui normalizzati $d=x-x_{atteso}/\\sigma_x$')\n",
    "plt.title('Residui normalizzati, $\\Delta t=2s$')"
   ]
  },
  {
   "cell_type": "code",
   "execution_count": 19,
   "id": "a6fe44dd",
   "metadata": {},
   "outputs": [
    {
     "data": {
      "text/plain": [
       "Text(0.5, 1.0, 'Residui normalizzati, $\\\\Delta t=3s$')"
      ]
     },
     "execution_count": 19,
     "metadata": {},
     "output_type": "execute_result"
    },
    {
     "data": {
      "image/png": "[encoded data removed]",
      "text/plain": [
       "<Figure size 432x288 with 1 Axes>"
      ]
     },
     "metadata": {
      "needs_background": "light"
     },
     "output_type": "display_data"
    }
   ],
   "source": [
    "d=(x3[0]-Attesi3)/uAttesi3\n",
    "\n",
    "plt.errorbar(asse3,d,1, marker='.', ls='')\n",
    "plt.grid()\n",
    "plt.xlabel(\"Conteggi\")\n",
    "plt.ylabel('Residui normalizzati $d=x-x_{atteso}/\\sigma_x$')\n",
    "plt.title('Residui normalizzati, $\\Delta t=3s$')"
   ]
  },
  {
   "cell_type": "code",
   "execution_count": 20,
   "id": "a6fe44dd",
   "metadata": {},
   "outputs": [
    {
     "data": {
      "text/plain": [
       "Text(0.5, 1.0, 'Residui normalizzati, $\\\\Delta t=4s$')"
      ]
     },
     "execution_count": 20,
     "metadata": {},
     "output_type": "execute_result"
    },
    {
     "data": {
      "image/png": "[encoded data removed]",
      "text/plain": [
       "<Figure size 432x288 with 1 Axes>"
      ]
     },
     "metadata": {
      "needs_background": "light"
     },
     "output_type": "display_data"
    }
   ],
   "source": [
    "d=(x4[0]-Attesi4)/uAttesi4\n",
    "\n",
    "plt.errorbar(asse4,d,1, marker='.', ls='')\n",
    "plt.grid()\n",
    "plt.xlabel(\"Conteggi\")\n",
    "plt.ylabel('Residui normalizzati $d=x-x_{atteso}/\\sigma_x$')\n",
    "plt.title('Residui normalizzati, $\\Delta t=4s$')"
   ]
  },
  {
   "cell_type": "markdown",
   "id": "cc666c0d",
   "metadata": {},
   "source": [
    "## Confronti tra le rate"
   ]
  },
  {
   "cell_type": "code",
   "execution_count": null,
   "id": "6e96d02b",
   "metadata": {},
   "outputs": [
    {
     "name": "stdout",
     "output_type": "stream",
     "text": [
      "$r_{0}$ & \n",
      "-\n",
      " & \n",
      "0.0\n",
      " & \n",
      "0.11704114719613067\n",
      " & \n",
      "0.577884111438851\n",
      " & \n",
      "-0.24389058320493287\n",
      "\\ \n",
      "\\hline\n",
      "$r_{0}$ & \n",
      "0.0\n",
      " & \n",
      "-\n",
      " & \n",
      "0.14824986333222037\n",
      " & \n",
      "0.7504548802566976\n",
      " & \n",
      "-0.3297994862257881\n",
      "\\ \n",
      "\\hline\n",
      "$r_{0}$ & \n",
      "-0.11704114719613067\n",
      " & \n",
      "-0.14824986333222037\n",
      " & \n",
      "-\n",
      " & \n",
      "0.6783234474692035\n",
      " & \n",
      "-0.5958205355601539\n",
      "\\ \n",
      "\\hline\n",
      "$r_{0}$ & \n",
      "-0.577884111438851\n",
      " & \n",
      "-0.7504548802566976\n",
      " & \n",
      "-0.6783234474692035\n",
      " & \n",
      "-\n",
      " & \n",
      "-1.5565406489861795\n",
      "\\ \n",
      "\\hline\n",
      "$r_{0}$ & \n",
      "0.24389058320493287\n",
      " & \n",
      "0.3297994862257881\n",
      " & \n",
      "0.5958205355601539\n",
      " & \n",
      "1.5565406489861795\n",
      " & \n",
      "-\n",
      "\\ \n",
      "\\hline\n"
     ]
    }
   ],
   "source": [
    "rate=np.array([r1, r2, r3, r4, r10])\n",
    "urate=np.array([ur1, ur2, ur3, ur4, ur10])\n",
    "for ix,x in enumerate(rate):\n",
    "    print('$r_{{0}}$ & '.format(ix+1))\n",
    "    for jy,y in enumerate(rate):\n",
    "        if (ix==jy):\n",
    "            print('-')\n",
    "        else:\n",
    "            z=(rate[ix]-rate[jy])/np.sqrt(urate[ix]**2+urate[jy]**2)\n",
    "            print('{0}'.format(z))\n",
    "        if(jy!=4):\n",
    "            print(' & ')\n",
    "        else:\n",
    "            print('\\\\ \\n\\hline')    "
   ]
  },
  {
   "cell_type": "code",
   "execution_count": null,
   "id": "1617f27c",
   "metadata": {},
   "outputs": [
    {
     "name": "stdout",
     "output_type": "stream",
     "text": [
      "r = (1.1\\pm0.03 ) conteggi/secondo [2.73%]\n"
     ]
    }
   ],
   "source": [
    "fra.PrintResult(\"r\",rbest,urbest,2,\"conteggi/secondo\")"
   ]
  }
 ],
 "metadata": {
  "interpreter": {
   "hash": "916dbcbb3f70747c44a77c7bcd40155683ae19c65e1c03b4aa3499c5328201f1"
  },
  "kernelspec": {
   "display_name": "Python 3.8.10 64-bit",
   "language": "python",
   "name": "python3"
  },
  "language_info": {
   "codemirror_mode": {
    "name": "ipython",
    "version": 3
   },
   "file_extension": ".py",
   "mimetype": "text/x-python",
   "name": "python",
   "nbconvert_exporter": "python",
   "pygments_lexer": "ipython3",
   "version": "3.8.10"
  }
 },
 "nbformat": 4,
 "nbformat_minor": 5
}
