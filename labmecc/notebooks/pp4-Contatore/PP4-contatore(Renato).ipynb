{
 "cells": [
  {
   "cell_type": "code",
   "execution_count": 2,
   "id": "64f7cfae",
   "metadata": {},
   "outputs": [],
   "source": [
    "import numpy as np\n",
    "import matplotlib.pyplot as plt\n",
    "import matplotlib.mlab as mlab\n",
    "from scipy import stats\n",
    "import pandas as pd\n",
    "import math\n",
    "from math import factorial\n",
    "import fra_lib as fra\n",
    "import my_lib_santanastasio as my"
   ]
  },
  {
   "cell_type": "code",
   "execution_count": 3,
   "id": "433575d5",
   "metadata": {},
   "outputs": [],
   "source": [
    "#t1 = np.array([1,3,1,1,1,1,0,1,1,0,2,2,3,1,2,1,1,0,0,1,1,0,0,1,1,3,2,0,1,0,0,2,0,2,0,2,2,1,1,0,0,1,1,1,2,1,1,3,1,2])"
   ]
  },
  {
   "cell_type": "code",
   "execution_count": 4,
   "id": "5a58d926",
   "metadata": {},
   "outputs": [],
   "source": [
    "#t2 = np.array([1,2,2,1,2,5,4,5,2,1,1,3,1,6,1,0,0,2,2,3,3,1,3,0,0,4,2,0,2,1,3,1,1,2,3,1,3,3,0,3,0,4,4,3,4,3,5,2,3,2])"
   ]
  },
  {
   "cell_type": "code",
   "execution_count": 5,
   "id": "4004ff04",
   "metadata": {},
   "outputs": [],
   "source": [
    "#t3 = np.array([4,1,2,4,0,5,6,5,0,0,4,6,4,4,4,1,5,2,0,4,5,2,1,2,1,2,6,2,2,0,2,2,2,1,5,2,1,2,5,4,4,6,4,4,1,3,6,4,1,4])"
   ]
  },
  {
   "cell_type": "code",
   "execution_count": 6,
   "id": "b07c50b1",
   "metadata": {},
   "outputs": [],
   "source": [
    "#t4 = np.array([4,3,9,5,4,3,2,2,4,4,2,4,3,5,2,2,4,6,3,3,7,5,3,3,3,3,3,5,3,5,4,7,9,3,0,8,6,5,2,2,5,8,4,5,7,1,3,0,2,6])"
   ]
  },
  {
   "cell_type": "code",
   "execution_count": 7,
   "id": "a7c9a19c",
   "metadata": {},
   "outputs": [],
   "source": [
    "#t10 = np.array([9,7,12,11,11,13,17,13,10,13,15,7,11,8,8,13,10,13,13,13,11,13,8,13,14,12,6,11,9,9,20,14,12,17,8,17,8,11,13,8,6,16,10,9,6,10,18,10,14,9])"
   ]
  },
  {
   "cell_type": "code",
   "execution_count": 8,
   "id": "c12a7904",
   "metadata": {},
   "outputs": [],
   "source": [
    "t1 = np.array([2,1,1,1,0,1,0,0,0,1,0,1,0,1,3,2,1,1,0,1,0,0,0,3,0,0,0,1,1,1,3,0,2,0,0,0,1,0,0,0,1,0,1,0,0,1,0,2,1,1,1])\n",
    "t2 = np.array([1,2,2,1,2,5,4,5,2,1,1,3,1,6,1,0,0,2,2,3,3,1,3,0,0,4,2,0,2,1,3,1,1,2,3,1,3,3,0,3,0,4,4,3,4,3,5,2,3,2])\n",
    "t3 = np.array([3,2,2,7,3,2,3,7,3,2,3,1,4,7,1,4,1,2,1,5,3,6,6,2,1,4,3,5,4,0,1,4,5,5,2,2,1,6,2,3,7,1,4,6,2,0,4,3,2,2,3])\n",
    "t4 = np.array([4,3,9,5,4,3,2,2,4,4,2,4,3,5,2,2,4,6,3,3,7,5,3,3,3,3,3,5,3,5,4,7,9,3,0,8,6,5,2,2,5,8,4,5,7,1,3,0,2,6])\n",
    "t10 = np.array([9,7,12,11,11,13,17,13,10,13,15,7,11,8,8,13,10,13,13,13,11,13,8,13,14,12,6,11,9,9,20,14,12,17,8,17,8,11,13,8,6,16,10,9,6,10,18,10,14,9])"
   ]
  },
  {
   "cell_type": "code",
   "execution_count": 9,
   "id": "11eef1a8",
   "metadata": {},
   "outputs": [
    {
     "name": "stdout",
     "output_type": "stream",
     "text": [
      "rate1 = 0.74\n",
      "urate1 = 0.12165525060596438\n",
      "\t\n",
      "rate2 = 1.1\n",
      "urate2 = 0.10488088481701516\n",
      "\t\n",
      "rate3 = 1.08\n",
      "urate3 = 0.08485281374238571\n",
      "\t\n",
      "rate4 = 1.005\n",
      "urate4 = 0.07088723439378913\n",
      "\t\n",
      "rate5 = 1.138\n",
      "urate5 = 0.047707441767506256\n",
      "\t\n",
      "0.74 \\pm 0.12165525060596438 &\n",
      "1.1 \\pm 0.10488088481701516 &\n",
      "1.08 \\pm 0.08485281374238571 &\n",
      "1.005 \\pm 0.07088723439378913 &\n",
      "1.138 \\pm 0.047707441767506256 &\n"
     ]
    }
   ],
   "source": [
    "lambda_1 = np.sum(t1)/50\n",
    "ulambda_1 = np.sqrt(np.sum(t1))/50\n",
    "\n",
    "lambda_2 = np.sum(t2)/50\n",
    "ulambda_2 = np.sqrt(np.sum(t2))/50\n",
    "\n",
    "lambda_3 = np.sum(t3)/50\n",
    "ulambda_3 = np.sqrt(np.sum(t3))/50\n",
    "\n",
    "lambda_4 = np.sum(t4)/50\n",
    "ulambda_4 = np.sqrt(np.sum(t4))/50\n",
    "\n",
    "lambda_10 = np.sum(t10)/50\n",
    "ulambda_10 = np.sqrt(np.sum(t10))/50\n",
    "\n",
    "lambda_array = ([lambda_1,lambda_2,lambda_3,lambda_4,lambda_10])\n",
    "ulambda_array = ([ulambda_1,ulambda_2,ulambda_3,ulambda_4,ulambda_10])\n",
    "\n",
    "delta_t=([50,100,150,200,500])\n",
    "\n",
    "r_array = np.zeros(5)\n",
    "ur_array = np.zeros(5)\n",
    "for ix,x in enumerate(lambda_array):\n",
    "    r_array[ix:]=lambda_array[ix]*50/delta_t[ix]\n",
    "    print('rate{0} = {1}'.format(ix+1,r_array[ix]))\n",
    "    \n",
    "    ur_array[ix:]=ulambda_array[ix]*50/delta_t[ix]\n",
    "    print('urate{0} = {1}'.format(ix+1,ur_array[ix]))\n",
    "    \n",
    "\n",
    "    print('\\t')\n",
    "\n",
    "for ix,x in enumerate(lambda_array):\n",
    "    print(\"{0} \\pm {1} &\". format(r_array[ix], ur_array[ix]))    \n",
    "    \n",
    "#Migliore stima della rate: \n",
    "rate_num = 0 \n",
    "rate_den = 0\n",
    "\n",
    "for ix,x in enumerate(r_array):\n",
    "    rate_num += (r_array[ix]/(ur_array[ix]**2))\n",
    "    rate_den += 1/(ur_array[ix]**2)\n",
    "    \n",
    "conteggi_totali = np.array([np.sum(t1) + np.sum(t2) + np.sum(t3) + np.sum(t4) + np.sum(t10)])\n",
    "tempo_totale = np.sum(delta_t)\n",
    "\n",
    "#rate = rate_num/rate_den\n",
    "rate = conteggi_totali/tempo_totale\n",
    "#urate = np.sqrt(rate_den)\n",
    "urate = np.sqrt(conteggi_totali)/tempo_totale\n",
    "#print('rbest = {0}\\nurbest = {1}'.format(rate2,urate2))\n",
    "\n",
    "\n",
    "\n",
    "    "
   ]
  },
  {
   "cell_type": "code",
   "execution_count": 10,
   "id": "d0d91c2f",
   "metadata": {},
   "outputs": [
    {
     "name": "stdout",
     "output_type": "stream",
     "text": [
      "lambda_tot_atteso1 = 53.949999999999996\n",
      "lambda_tot_atteso2 = 107.89999999999999\n",
      "lambda_tot_atteso3 = 161.85\n",
      "lambda_tot_atteso4 = 215.79999999999998\n",
      "lambda_tot_atteso5 = 539.5\n",
      "\n",
      "\n",
      "ulambda_tot_atteso1 = 0.14690132742763082\n",
      "ulambda_tot_atteso2 = 0.10387492478938311\n",
      "ulambda_tot_atteso3 = 0.08481352093465601\n",
      "ulambda_tot_atteso4 = 0.07345066371381541\n",
      "ulambda_tot_atteso5 = 0.046454278597347735\n"
     ]
    }
   ],
   "source": [
    "lambda_tot = np.zeros(5)\n",
    "for ix,x in enumerate(lambda_array):\n",
    "    lambda_tot[ix:] = lambda_array[ix]*50\n",
    "\n",
    "\n",
    "lambda_tot_attesi = np.zeros(5)\n",
    "ulambda_tot_attesi = np.zeros(5)\n",
    "for ix,x in enumerate(delta_t):\n",
    "    lambda_tot_attesi[ix:] = rate*delta_t[ix]\n",
    "    print('lambda_tot_atteso{0} = {1}'.format(ix+1,lambda_tot_attesi[ix]))\n",
    "    \n",
    "print('\\n')\n",
    "    \n",
    "for ix,x in enumerate(delta_t):\n",
    "    ulambda_tot_attesi[ix:] = np.sqrt(lambda_tot_attesi[ix])/delta_t[ix]\n",
    "    print('ulambda_tot_atteso{0} = {1}'.format(ix+1,ulambda_tot_attesi[ix]))\n",
    "\n",
    "x = np.array([1,2,3,4,10])"
   ]
  },
  {
   "cell_type": "code",
   "execution_count": 11,
   "id": "6f74198f",
   "metadata": {},
   "outputs": [
    {
     "name": "stdout",
     "output_type": "stream",
     "text": [
      "[ 1  2  3  4 10]\n",
      "[ 37. 110. 162. 201. 569.]\n"
     ]
    },
    {
     "data": {
      "text/plain": [
       "<matplotlib.legend.Legend at 0x7f007562db80>"
      ]
     },
     "execution_count": 11,
     "metadata": {},
     "output_type": "execute_result"
    },
    {
     "data": {
      "image/png": "[encoded data removed]",
      "text/plain": [
       "<Figure size 432x288 with 1 Axes>"
      ]
     },
     "metadata": {
      "needs_background": "light"
     },
     "output_type": "display_data"
    }
   ],
   "source": [
    "#Grafico conteggi confrontati con l'andamento atteso\n",
    "plt.bar(x,lambda_tot,alpha=0.50,label=\"Distribuzione di probabilità\")\n",
    "plt.errorbar(x,lambda_tot_attesi,yerr=ulambda_tot_attesi,marker='o',markersize=3,linestyle='none',label=\"Previsione della distr. statistica\")\n",
    "print (x)\n",
    "print (lambda_tot)\n",
    "\n",
    "plt.plot(x,lambda_tot,linestyle='none',marker='o',label=\"Distrbuzione statistica\")\n",
    "\n",
    "plt.xlabel('T [s]')\n",
    "plt.ylabel('Frequenza relativa in 50 misure')\n",
    "plt.legend()"
   ]
  },
  {
   "cell_type": "code",
   "execution_count": 12,
   "id": "71c40fdb",
   "metadata": {},
   "outputs": [
    {
     "name": "stdout",
     "output_type": "stream",
     "text": [
      "P1 = 0.2692307692307692 +- 0.060927665452982185\n",
      "\n",
      "P2 = 0.15384615384615385 +- 0.049559857994089615\n",
      "\n",
      "P3 = 0.057692307692307696 +- 0.03202708326938659\n",
      "\n",
      "P4 = 0.057692307692307696 +- 0.03202708326938659\n",
      "\n"
     ]
    }
   ],
   "source": [
    "#Valori attesi di P(0):\n",
    "y=np.array([1,2,3,4])\n",
    "P_attese = np.array([14/52,8/52,3/52,3/52])\n",
    "uP_attese = np.zeros(4)\n",
    "for ix,x in enumerate(P_attese):\n",
    "    uP_attese[ix:] = np.sqrt((P_attese[ix]*(1-P_attese[ix]))/53)\n",
    "\n",
    "for ix,x in enumerate(P_attese):\n",
    "    print('P{0} = {1} +- {2}\\n'.format(ix+1,P_attese[ix],uP_attese[ix]))"
   ]
  },
  {
   "cell_type": "code",
   "execution_count": 31,
   "id": "e70e6665",
   "metadata": {
    "scrolled": true
   },
   "outputs": [
    {
     "data": {
      "image/png": "[encoded data removed]",
      "text/plain": [
       "<Figure size 432x288 with 1 Axes>"
      ]
     },
     "metadata": {
      "needs_background": "light"
     },
     "output_type": "display_data"
    }
   ],
   "source": [
    "plt.errorbar(y,P_attese,yerr=uP_attese,marker='o',markersize=3,linestyle='none',label=\"$E[P_0] \\pm \\sigma[P_0]$\")\n",
    "k=np.linspace(1,4,1000)\n",
    "z=np.exp(-k*rate)\n",
    "plt.plot(k,z,'-r',label='Andamento previsto')\n",
    "plt.xlabel('T [s]')\n",
    "plt.ylabel('Frequenza relativa in 50 misure a 0 conteggi')\n",
    "plt.legend()\n",
    "plt.yscale(\"log\")\n",
    "z[999]\n",
    "ul=0.139849\n",
    "#plt.errorbar([3,4],[0,0], [ul,ul], lolims=True,ls='',color=\"blue\")\n"
   ]
  },
  {
   "cell_type": "markdown",
   "id": "964e2f5c",
   "metadata": {},
   "source": [
    "## Postirior e upper limit"
   ]
  },
  {
   "cell_type": "code",
   "execution_count": 22,
   "id": "e0535011",
   "metadata": {},
   "outputs": [
    {
     "data": {
      "text/plain": [
       "8.643676984717068e-12"
      ]
     },
     "execution_count": 22,
     "metadata": {},
     "output_type": "execute_result"
    },
    {
     "data": {
      "image/png": "[encoded data removed]",
      "text/plain": [
       "<Figure size 432x288 with 1 Axes>"
      ]
     },
     "metadata": {
      "needs_background": "light"
     },
     "output_type": "display_data"
    }
   ],
   "source": [
    "P=np.linspace(0,1,1000)\n",
    "f_3=((50*51*52*53)/6)*P**3*(1-P)**49\n",
    "plt.plot(P,f_3)"
   ]
  },
  {
   "cell_type": "code",
   "execution_count": 15,
   "id": "6dee3a6e",
   "metadata": {},
   "outputs": [
    {
     "name": "stdout",
     "output_type": "stream",
     "text": [
      "P1 = 0.7115384615384616 +- 0.06223077550991086\n",
      "\n",
      "P2 = 0.36538461538461536 +- 0.06614431024530679\n",
      "\n",
      "P3 = 0.19230769230769232 +- 0.054135651383333136\n",
      "\n",
      "P4 = 0.07692307692307693 +- 0.036602380879298964\n",
      "\n"
     ]
    }
   ],
   "source": [
    "#Valori attesi di P(0)+P(1):\n",
    "P_attese2 = np.array([37/52,19/52,10/52,4/52])\n",
    "uP_attese2 = np.zeros(4)\n",
    "for ix,x in enumerate(P_attese2):\n",
    "    uP_attese2[ix:] = np.sqrt((P_attese2[ix]*(1-P_attese2[ix]))/53)\n",
    "\n",
    "for ix,x in enumerate(P_attese2):\n",
    "    print('P{0} = {1} +- {2}\\n'.format(ix+1,P_attese2[ix],uP_attese2[ix]))"
   ]
  },
  {
   "cell_type": "code",
   "execution_count": 16,
   "id": "df5576ed",
   "metadata": {},
   "outputs": [
    {
     "data": {
      "text/plain": [
       "<matplotlib.legend.Legend at 0x7f00754b8760>"
      ]
     },
     "execution_count": 16,
     "metadata": {},
     "output_type": "execute_result"
    },
    {
     "data": {
      "image/png": "[encoded data removed]",
      "text/plain": [
       "<Figure size 432x288 with 1 Axes>"
      ]
     },
     "metadata": {
      "needs_background": "light"
     },
     "output_type": "display_data"
    }
   ],
   "source": [
    "plt.errorbar(y,P_attese2,yerr=uP_attese2,marker='o',markersize=3,linestyle='none',label=\"$E[P_{0,1}] \\pm \\sigma[P_{0,1}]$\")\n",
    "z2=np.exp(-k*rate)+k*rate*np.exp(-k*rate)\n",
    "plt.plot(k,z2,'-r',label='Andamento previsto')\n",
    "plt.xlabel('T [s]')\n",
    "plt.ylabel('Frequenza relativa in 50 misure a 0 e 1 conteggi')\n",
    "plt.legend()"
   ]
  },
  {
   "cell_type": "code",
   "execution_count": 17,
   "id": "fa7e33ff",
   "metadata": {},
   "outputs": [
    {
     "data": {
      "text/plain": [
       "<matplotlib.legend.Legend at 0x7f00754be280>"
      ]
     },
     "execution_count": 17,
     "metadata": {},
     "output_type": "execute_result"
    },
    {
     "data": {
      "image/png": "[encoded data removed]",
      "text/plain": [
       "<Figure size 432x288 with 1 Axes>"
      ]
     },
     "metadata": {
      "needs_background": "light"
     },
     "output_type": "display_data"
    }
   ],
   "source": [
    "#Posterior PDF\n",
    "#r = ([r_array[0],r_array[1],(r_array[0]+r_array[1]+r_array[2]+r_array[3]+r_array[4])])\n",
    "t = ([delta_t[0],delta_t[3],(delta_t[0]+delta_t[1]+delta_t[2]+delta_t[3]+delta_t[4])])\n",
    "x = ([np.sum(t1),np.sum(t4),(np.sum(t1)+np.sum(t2)+np.sum(t3)+np.sum(t4)+np.sum(t10))])\n",
    "\n",
    "#plt.errorbar(y,P_attese2,yerr=uP_attese2,marker='o',markersize=3,linestyle='none',label=\"$E[P_{0,1}] \\pm \\sigma[P_{0,1}]$\")\n",
    "plt.ylim(0,5)\n",
    "plt.xlim(0.4,1.4)\n",
    "\n",
    "r=np.linspace(0.4,1.4,1000)\n",
    "z3=np.exp(x[0]*np.log(r*t[0])-r*t[0]+np.log(t[0]/(2*math.pi))+x[0]-x[0]*np.log(x[0])-0.5*np.log(x[0]))\n",
    "plt.plot(r,z3,'-r',label='$PDF(r_1)$')\n",
    "\n",
    "z4=np.exp(x[1]*np.log(r*t[1])-r*t[1]+np.log(t[1]/(2*math.pi))+x[1]-x[1]*np.log(x[1])-0.5*np.log(x[1]))\n",
    "plt.plot(r,z4,'-b',label='$PDF(r_2)$')\n",
    "\n",
    "z5=np.exp(x[2]*np.log(r*t[2])-r*t[2]+np.log(t[2]/(2*math.pi))+x[2]-x[2]*np.log(x[2])-0.5*np.log(x[2]))\n",
    "plt.plot(r,z5,'-g',label='$PDF(r_3)$')\n",
    "\n",
    "plt.xlabel('$r [s^{-1}]$')\n",
    "plt.ylabel('Frequenza relativa in 50 misure a 0 e 1 conteggi')\n",
    "plt.legend()"
   ]
  },
  {
   "cell_type": "code",
   "execution_count": 18,
   "id": "5ef32a9b",
   "metadata": {},
   "outputs": [
    {
     "name": "stdout",
     "output_type": "stream",
     "text": [
      "r1 = 0.3021490816331625\n",
      "r2 = 0.4030987906468452\n",
      "r3 = 0.4308909401186558\n"
     ]
    }
   ],
   "source": [
    "#Valore atteso degli r\n",
    "\n",
    "def z3(r):\n",
    "    return(r*np.exp(x[0]*np.log(r*t[0])-r*t[0]+np.log(t[0]/(2*math.pi))+x[0]-x[0]*np.log(x[0])-0.5*np.log(x[0])))\n",
    "\n",
    "def z4(r):\n",
    "    return(r*np.exp(x[1]*np.log(r*t[1])-r*t[1]+np.log(t[1]/(2*math.pi))+x[1]-x[1]*np.log(x[1])-0.5*np.log(x[1])))\n",
    "\n",
    "def z5(r):\n",
    "    return(r*np.exp(x[2]*np.log(r*t[2])-r*t[2]+np.log(t[2]/(2*math.pi))+x[2]-x[2]*np.log(x[2])-0.5*np.log(x[2])))\n",
    "def sin(r):\n",
    "    return(np.sin(r)**2)\n",
    "\n",
    "def rectangle_rule(low, high, f, N):\n",
    "    rectangle_edges=np.linspace(low, high, N)\n",
    "    area=0\n",
    "    \n",
    "    for i in range(len(rectangle_edges)):\n",
    "        area+=f(low+i*(high-low)/N)*(high-low)/N\n",
    "    return(area)\n",
    "\n",
    "\n",
    "a = rectangle_rule(0.5,1.7,z3,100000)\n",
    "b = rectangle_rule(0.5,1.7,z4,100000)\n",
    "c = rectangle_rule(0.5,1.7,z5,100000)\n",
    "\n",
    "print('r1 = {0}\\nr2 = {1}\\nr3 = {2}'.format(a,b,c))"
   ]
  }
 ],
 "metadata": {
  "interpreter": {
   "hash": "916dbcbb3f70747c44a77c7bcd40155683ae19c65e1c03b4aa3499c5328201f1"
  },
  "kernelspec": {
   "display_name": "Python 3.8.10 64-bit",
   "language": "python",
   "name": "python3"
  },
  "language_info": {
   "codemirror_mode": {
    "name": "ipython",
    "version": 3
   },
   "file_extension": ".py",
   "mimetype": "text/x-python",
   "name": "python",
   "nbconvert_exporter": "python",
   "pygments_lexer": "ipython3",
   "version": "3.8.10"
  }
 },
 "nbformat": 4,
 "nbformat_minor": 5
}
