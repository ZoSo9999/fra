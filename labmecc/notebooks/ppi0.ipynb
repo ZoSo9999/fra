{
 "cells": [
  {
   "cell_type": "code",
   "execution_count": 1,
   "id": "526874d0",
   "metadata": {},
   "outputs": [],
   "source": [
    "%matplotlib inline \n",
    "\n",
    "\n",
    "import numpy as np\n",
    "\n",
    "import matplotlib.pyplot as plt\n",
    "\n",
    "import matplotlib.mlab as mlab\n",
    "\n",
    "from scipy import stats\n",
    "\n",
    "import pandas as pd"
   ]
  },
  {
   "cell_type": "markdown",
   "id": "216f04ad",
   "metadata": {},
   "source": [
    "# Tempo di reazione"
   ]
  },
  {
   "cell_type": "code",
   "execution_count": 2,
   "id": "16d7d1d4",
   "metadata": {},
   "outputs": [
    {
     "data": {
      "text/plain": [
       "array([0.351, 0.356, 0.293, 0.28 , 0.266, 0.279, 0.258, 0.288, 0.276,\n",
       "       0.246, 0.32 , 0.284, 0.296, 0.25 , 0.294, 0.252, 0.267, 0.243,\n",
       "       0.243, 0.256, 0.281, 0.258, 0.245, 0.25 , 0.29 , 0.284, 0.251,\n",
       "       0.296, 0.288, 0.296])"
      ]
     },
     "execution_count": 2,
     "metadata": {},
     "output_type": "execute_result"
    }
   ],
   "source": [
    "datareactime = np.array([0.351, 0.356, 0.293, 0.28, 0.266, 0.279, 0.258, 0.288, 0.276, 0.246, 0.32, 0.284, 0.296, 0.25, 0.294, 0.252, 0.267, 0.243, 0.243, 0.256, 0.281, 0.258, 0.245, 0.25, 0.29, 0.284, 0.251, 0.296, 0.288, 0.296])\n",
    "datareactime"
   ]
  },
  {
   "cell_type": "code",
   "execution_count": 3,
   "id": "ce4a795a",
   "metadata": {},
   "outputs": [
    {
     "name": "stdout",
     "output_type": "stream",
     "text": [
      "0.351\n",
      "0.356\n",
      "0.293\n",
      "0.28\n",
      "0.266\n",
      "0.279\n",
      "0.258\n",
      "0.288\n",
      "0.276\n",
      "0.246\n",
      "0.32\n",
      "0.284\n",
      "0.296\n",
      "0.25\n",
      "0.294\n",
      "0.252\n",
      "0.267\n",
      "0.243\n",
      "0.243\n",
      "0.256\n",
      "0.281\n",
      "0.258\n",
      "0.245\n",
      "0.25\n",
      "0.29\n",
      "0.284\n",
      "0.251\n",
      "0.296\n",
      "0.288\n",
      "0.296\n"
     ]
    }
   ],
   "source": [
    "for ix,x in enumerate(datareactime):\n",
    "    print ('{0}'.format(x))\n",
    "        "
   ]
  },
  {
   "cell_type": "code",
   "execution_count": 4,
   "id": "b238df73",
   "metadata": {},
   "outputs": [
    {
     "data": {
      "text/plain": [
       "0.028856780712744928"
      ]
     },
     "execution_count": 4,
     "metadata": {},
     "output_type": "execute_result"
    }
   ],
   "source": [
    "mdatareactime = datareactime.mean()\n",
    "mdatareactime\n",
    "\n",
    "stddatareactime= np.std(datareactime,ddof=1)\n",
    "stddatareactime"
   ]
  },
  {
   "cell_type": "code",
   "execution_count": 5,
   "id": "26108a71",
   "metadata": {},
   "outputs": [],
   "source": [
    "binsize = stddatareactime/2 # half of standard deviation\n",
    "interval = datareactime.max() - datareactime.min()\n",
    "nbins = int(interval / binsize)"
   ]
  },
  {
   "cell_type": "code",
   "execution_count": 6,
   "id": "2d2c2edf",
   "metadata": {},
   "outputs": [
    {
     "data": {
      "text/plain": [
       "Text(0.5, 1.0, 'Histogram of t: $\\\\mu$=0.278 $\\\\sigma$=0.029')"
      ]
     },
     "execution_count": 6,
     "metadata": {},
     "output_type": "execute_result"
    },
    {
     "data": {
      "image/png": "[encoded data removed]",
      "text/plain": [
       "<Figure size 432x288 with 1 Axes>"
      ]
     },
     "metadata": {
      "needs_background": "light"
     },
     "output_type": "display_data"
    }
   ],
   "source": [
    "counts , bins , patches = plt.hist(datareactime,bins=nbins,color=\"blue\",alpha=0.75)\n",
    "plt.xlabel('t [s]')\n",
    "plt.ylabel('Entries')\n",
    "plt.title(label='Histogram of t: $\\mu$={0:.3f} $\\sigma$={1:.3f}'.format(mdatareactime,stddatareactime))"
   ]
  },
  {
   "cell_type": "markdown",
   "id": "5b907554",
   "metadata": {},
   "source": [
    "# Tempo 3 secondi"
   ]
  },
  {
   "cell_type": "code",
   "execution_count": 7,
   "id": "3cc6eaa7",
   "metadata": {},
   "outputs": [],
   "source": [
    "datatime3 = np.array([2.834, 2.704, 2.928, 2.912, 2.926, 3.056, 2.969, 3.073, 2.895, 2.959, 2.808, 3.039, 3.079, 2.928, 3.071, 3.095, 3.072, 2.872, 2.968, 2.950, 3.178, 2.952, 3.057, 2.929, 3.039, 2.944, 2.859, 2.926])"
   ]
  },
  {
   "cell_type": "code",
   "execution_count": 44,
   "id": "67795339",
   "metadata": {},
   "outputs": [
    {
     "name": "stdout",
     "output_type": "stream",
     "text": [
      "4.834;\n",
      "4.704000000000001;\n",
      "4.928;\n",
      "4.912;\n",
      "4.926;\n",
      "5.056;\n",
      "4.968999999999999;\n",
      "5.073;\n",
      "4.895;\n",
      "4.959;\n",
      "4.808;\n",
      "5.039;\n",
      "5.079000000000001;\n",
      "4.928;\n",
      "5.071;\n",
      "5.095000000000001;\n",
      "5.072;\n",
      "4.872;\n",
      "4.968;\n",
      "4.95;\n",
      "5.178;\n",
      "4.952;\n",
      "5.057;\n",
      "4.929;\n",
      "5.039;\n",
      "4.944;\n",
      "4.859;\n",
      "4.926;\n"
     ]
    }
   ],
   "source": [
    "for ix,x in enumerate(datatime3):\n",
    "    print ('{0};'.format(x))"
   ]
  },
  {
   "cell_type": "code",
   "execution_count": 14,
   "id": "25d7efad",
   "metadata": {},
   "outputs": [
    {
     "data": {
      "text/plain": [
       "0.018685435575482388"
      ]
     },
     "execution_count": 14,
     "metadata": {},
     "output_type": "execute_result"
    }
   ],
   "source": [
    "mdatatime3 = datatime3.mean()\n",
    "\n",
    "stddatatime3 = np.std(datatime3,ddof=1)\n",
    "ciao=stddatatime3/np.sqrt(30)\n",
    "ciao"
   ]
  },
  {
   "cell_type": "code",
   "execution_count": 15,
   "id": "c606a145",
   "metadata": {},
   "outputs": [],
   "source": [
    "binsize = stddatatime3/2 # half of standard deviation\n",
    "interval = datatime3.max() - datatime3.min()\n",
    "nbins = int(interval / binsize)"
   ]
  },
  {
   "cell_type": "code",
   "execution_count": 16,
   "id": "0887ce9c",
   "metadata": {},
   "outputs": [
    {
     "data": {
      "text/plain": [
       "Text(0.5, 1.0, 'Histogram of t: $\\\\mu$=2.965 $\\\\sigma$=0.102')"
      ]
     },
     "execution_count": 16,
     "metadata": {},
     "output_type": "execute_result"
    },
    {
     "data": {
      "image/png": "[encoded data removed]",
      "text/plain": [
       "<Figure size 432x288 with 1 Axes>"
      ]
     },
     "metadata": {
      "needs_background": "light"
     },
     "output_type": "display_data"
    }
   ],
   "source": [
    "counts , bins , patches = plt.hist(datatime3,bins=nbins,color=\"blue\",alpha=0.75)\n",
    "plt.xlabel('t [s]')\n",
    "plt.ylabel('Entries')\n",
    "plt.title(label='Histogram of t: $\\mu$={0:.3f} $\\sigma$={1:.3f}'.format(mdatatime3,stddatatime3))"
   ]
  },
  {
   "cell_type": "markdown",
   "id": "f8de9e37",
   "metadata": {},
   "source": [
    "# Tempo 6 sec"
   ]
  },
  {
   "cell_type": "code",
   "execution_count": 41,
   "id": "390c0eab",
   "metadata": {},
   "outputs": [],
   "source": [
    "datatime6 = np.array([6.150, 6.120, 6.135, 5.967, 6.184, 5.951, 5.896, 6.002, 6.053, 6.223, 5.903, 6.040, 5.913, 06.001, 6.031, 5.864, 5.665, 05.881, 5.747, 5.896, 5.743, 5.944, 6.002, 6.176, 5.919, 6.032, 6.207, 5.841])"
   ]
  },
  {
   "cell_type": "code",
   "execution_count": 42,
   "id": "8cd1d3a6",
   "metadata": {},
   "outputs": [
    {
     "data": {
      "text/plain": [
       "0.0263293580818402"
      ]
     },
     "execution_count": 42,
     "metadata": {},
     "output_type": "execute_result"
    }
   ],
   "source": [
    "mdatatime6 = datatime6.mean()\n",
    "\n",
    "stddatatime6 = np.std(datatime6,ddof=1)\n",
    "ciao=stddatatime6/np.sqrt(30)\n",
    "ciao"
   ]
  },
  {
   "cell_type": "code",
   "execution_count": 19,
   "id": "31613653",
   "metadata": {},
   "outputs": [],
   "source": [
    "binsize = stddatatime6/2 # half of standard deviation\n",
    "\n",
    "interval = datatime6.max() - datatime6.min()\n",
    "\n",
    "nbins = int(interval / binsize)"
   ]
  },
  {
   "cell_type": "code",
   "execution_count": 20,
   "id": "0982c886",
   "metadata": {
    "scrolled": true
   },
   "outputs": [
    {
     "data": {
      "text/plain": [
       "Text(0.5, 1.0, 'Histogram of t: $\\\\mu$=5.982 $\\\\sigma$=0.144')"
      ]
     },
     "execution_count": 20,
     "metadata": {},
     "output_type": "execute_result"
    },
    {
     "data": {
      "image/png": "[encoded data removed]",
      "text/plain": [
       "<Figure size 432x288 with 1 Axes>"
      ]
     },
     "metadata": {
      "needs_background": "light"
     },
     "output_type": "display_data"
    }
   ],
   "source": [
    "counts , bins , patches = plt.hist(datatime6,bins=nbins,color=\"blue\",alpha=0.75)\n",
    "plt.xlabel('t [s]')\n",
    "plt.ylabel('Entries')\n",
    "plt.title(label='Histogram of t: $\\mu$={0:.3f} $\\sigma$={1:.3f}'.format(mdatatime6,stddatatime6))"
   ]
  },
  {
   "cell_type": "code",
   "execution_count": 21,
   "id": "ab9d9b64",
   "metadata": {},
   "outputs": [
    {
     "name": "stdout",
     "output_type": "stream",
     "text": [
      "0.351 s & 2.834 s & 6.15 s \\\\\n",
      "\\hline\n",
      "0.356 s & 2.704 s & 6.12 s \\\\\n",
      "\\hline\n",
      "0.293 s & 2.928 s & 6.135 s \\\\\n",
      "\\hline\n",
      "0.28 s & 2.912 s & 5.967 s \\\\\n",
      "\\hline\n",
      "0.266 s & 2.926 s & 6.184 s \\\\\n",
      "\\hline\n",
      "0.279 s & 3.056 s & 5.951 s \\\\\n",
      "\\hline\n",
      "0.258 s & 2.969 s & 5.896 s \\\\\n",
      "\\hline\n",
      "0.288 s & 3.073 s & 6.002 s \\\\\n",
      "\\hline\n",
      "0.276 s & 2.895 s & 6.053 s \\\\\n",
      "\\hline\n",
      "0.246 s & 2.959 s & 6.223 s \\\\\n",
      "\\hline\n",
      "0.32 s & 2.808 s & 5.903 s \\\\\n",
      "\\hline\n",
      "0.284 s & 3.039 s & 6.04 s \\\\\n",
      "\\hline\n",
      "0.296 s & 3.079 s & 5.913 s \\\\\n",
      "\\hline\n",
      "0.25 s & 2.928 s & 6.001 s \\\\\n",
      "\\hline\n",
      "0.294 s & 3.071 s & 6.031 s \\\\\n",
      "\\hline\n",
      "0.252 s & 3.095 s & 5.864 s \\\\\n",
      "\\hline\n",
      "0.267 s & 3.072 s & 5.665 s \\\\\n",
      "\\hline\n",
      "0.243 s & 2.872 s & 5.881 s \\\\\n",
      "\\hline\n",
      "0.243 s & 2.968 s & 5.747 s \\\\\n",
      "\\hline\n",
      "0.256 s & 2.95 s & 5.896 s \\\\\n",
      "\\hline\n",
      "0.281 s & 3.178 s & 5.743 s \\\\\n",
      "\\hline\n",
      "0.258 s & 2.952 s & 5.944 s \\\\\n",
      "\\hline\n",
      "0.245 s & 3.057 s & 6.002 s \\\\\n",
      "\\hline\n",
      "0.25 s & 2.929 s & 6.176 s \\\\\n",
      "\\hline\n",
      "0.29 s & 3.039 s & 5.919 s \\\\\n",
      "\\hline\n",
      "0.284 s & 2.944 s & 6.032 s \\\\\n",
      "\\hline\n",
      "0.251 s & 2.859 s & 6.207 s \\\\\n",
      "\\hline\n",
      "0.296 s & 2.926 s & 5.841 s \\\\\n",
      "\\hline\n"
     ]
    }
   ],
   "source": [
    "for ix,x in enumerate(datatime3):\n",
    "    print ('{0} s & {1} s & {2} s \\\\\\\\'.format(datareactime[ix],datatime3[ix],datatime6[ix]))\n",
    "    print ('\\hline')"
   ]
  },
  {
   "cell_type": "markdown",
   "id": "d8054ca3",
   "metadata": {},
   "source": [
    "# Diametro righello"
   ]
  },
  {
   "cell_type": "code",
   "execution_count": 22,
   "id": "1a46eaf2",
   "metadata": {},
   "outputs": [],
   "source": [
    "diametrorig = np.array([2.32, 2.34, 2.32, 2.32, 2.30, 2.30, 2.32, 2.31, 2.33, 2.34, 2.31, 2.33, 2.30, 2.31, 2.33, 2.34, 2.35, 2.31, 2.34, 2.33, 2.31, 2.35, 2.33, 2.32, 2.30, 2.34, 2.35, 2.33, 2.34, 2.32])"
   ]
  },
  {
   "cell_type": "code",
   "execution_count": 23,
   "id": "e91a25ff",
   "metadata": {},
   "outputs": [],
   "source": [
    "mdiametrorig = diametrorig.mean()\n",
    "\n",
    "stddiametrorig = np.std(diametrorig,ddof=1)"
   ]
  },
  {
   "cell_type": "code",
   "execution_count": 24,
   "id": "da201563",
   "metadata": {},
   "outputs": [],
   "source": [
    "binsize=stddiametrorig/2\n",
    "interval = diametrorig.max() - diametrorig.min()\n",
    "nbins = int(interval/binsize)"
   ]
  },
  {
   "cell_type": "code",
   "execution_count": 25,
   "id": "2681937e",
   "metadata": {},
   "outputs": [
    {
     "data": {
      "text/plain": [
       "Text(0.5, 1.0, 'Histogram of x: $\\\\mu$=2.325 $\\\\sigma$=0.016')"
      ]
     },
     "execution_count": 25,
     "metadata": {},
     "output_type": "execute_result"
    },
    {
     "data": {
      "image/png": "[encoded data removed]",
      "text/plain": [
       "<Figure size 432x288 with 1 Axes>"
      ]
     },
     "metadata": {
      "needs_background": "light"
     },
     "output_type": "display_data"
    }
   ],
   "source": [
    "counts , bins , patches = plt.hist(diametrorig,bins=nbins,color=\"blue\",alpha=0.75)\n",
    "\n",
    "plt.xlabel('x [cm]')\n",
    "\n",
    "plt.ylabel('Entries')\n",
    "\n",
    "plt.title(label='Histogram of x: $\\mu$={0:.3f} $\\sigma$={1:.3f}'.format(mdiametrorig,stddiametrorig))\n"
   ]
  },
  {
   "cell_type": "markdown",
   "id": "120b0a3a",
   "metadata": {},
   "source": [
    "# Spessore righello"
   ]
  },
  {
   "cell_type": "code",
   "execution_count": 26,
   "id": "3dbaef68",
   "metadata": {},
   "outputs": [],
   "source": [
    "spessorerig = np.array([0.22, 0.21, 0.20, 0.23, 0.21, 0.22, 0.20, 0.21, 0.21, 0.22, 0.20, 0.21, 0.20, 0.21, 0.20, 0.21, 0.22, 0.21, 0.21, 0.22, 0.22, 0.22, 0.21, 0.22, 0.20, 0.23, 0.24, 0.25, 0.24, 0.23])"
   ]
  },
  {
   "cell_type": "code",
   "execution_count": 27,
   "id": "509f7b15",
   "metadata": {},
   "outputs": [],
   "source": [
    "mspessorerig = spessorerig.mean()\n",
    "\n",
    "stdspessorerig = np.std(spessorerig,ddof=1)"
   ]
  },
  {
   "cell_type": "code",
   "execution_count": 28,
   "id": "97cc1086",
   "metadata": {},
   "outputs": [],
   "source": [
    "binsize = stdspessorerig/2\n",
    "interval = spessorerig.max() - spessorerig.min()\n",
    "nbins = int(interval/binsize)"
   ]
  },
  {
   "cell_type": "code",
   "execution_count": 29,
   "id": "868c3aee",
   "metadata": {},
   "outputs": [
    {
     "data": {
      "text/plain": [
       "Text(0.5, 1.0, 'Histogram of x: $\\\\mu$=0.216 $\\\\sigma$=0.013')"
      ]
     },
     "execution_count": 29,
     "metadata": {},
     "output_type": "execute_result"
    },
    {
     "data": {
      "image/png": "[encoded data removed]",
      "text/plain": [
       "<Figure size 432x288 with 1 Axes>"
      ]
     },
     "metadata": {
      "needs_background": "light"
     },
     "output_type": "display_data"
    }
   ],
   "source": [
    "count, bins, patches = plt.hist(spessorerig, bins=nbins, color='r')\n",
    "plt.xlabel('x[cm]')\n",
    "plt.ylabel('Entries')\n",
    "plt.title(label='Histogram of x: $\\mu$={0:.3f} $\\sigma$={1:.3f}'.format(mspessorerig,stdspessorerig))"
   ]
  },
  {
   "cell_type": "markdown",
   "id": "b63c6880",
   "metadata": {},
   "source": [
    "# Spessore nonio"
   ]
  },
  {
   "cell_type": "code",
   "execution_count": 30,
   "id": "b792cdad",
   "metadata": {},
   "outputs": [],
   "source": [
    "spessorenonio = np.array([0.24, 0.245, 0.235, 0.245, 0.245, 0.235, 0.24, 0.245, 0.245, 0.24, 0.235, 0.235, 0.24, 0.235, 0.245, 0.235, 0.235, 0.235, 0.24, 0.24, 0.24, 0.245, 0.245, 0.235, 0.235, 0.245, 0.24, 0.24, 0.235, 0.235])"
   ]
  },
  {
   "cell_type": "code",
   "execution_count": 31,
   "id": "01e87c14",
   "metadata": {},
   "outputs": [],
   "source": [
    "mspessorenonio = spessorenonio.mean()\n",
    "\n",
    "stdspessorenonio = np.std(spessorenonio,ddof=1)\n"
   ]
  },
  {
   "cell_type": "code",
   "execution_count": 32,
   "id": "19ba25b6",
   "metadata": {},
   "outputs": [],
   "source": [
    "binsize = stdspessorenonio/2\n",
    "\n",
    "interval = spessorenonio.max() - spessorenonio.min()\n",
    "\n",
    "nbins = int(interval/binsize)"
   ]
  },
  {
   "cell_type": "code",
   "execution_count": 33,
   "id": "ad8a476b",
   "metadata": {},
   "outputs": [
    {
     "data": {
      "text/plain": [
       "Text(0.5, 1.0, 'Histogram of x: $\\\\mu$=0.240 $\\\\sigma$=0.004')"
      ]
     },
     "execution_count": 33,
     "metadata": {},
     "output_type": "execute_result"
    },
    {
     "data": {
      "image/png": "[encoded data removed]",
      "text/plain": [
       "<Figure size 432x288 with 1 Axes>"
      ]
     },
     "metadata": {
      "needs_background": "light"
     },
     "output_type": "display_data"
    }
   ],
   "source": [
    "count, bins, patches = plt.hist(spessorenonio, bins=nbins, color='r')\n",
    "\n",
    "plt.xlabel('x[cm]')\n",
    "\n",
    "plt.ylabel('Entries')\n",
    "\n",
    "plt.title(label='Histogram of x: $\\mu$={0:.3f} $\\sigma$={1:.3f}'.format(mspessorenonio,stdspessorenonio))"
   ]
  },
  {
   "cell_type": "markdown",
   "id": "dffacc63",
   "metadata": {},
   "source": [
    "# Diametro nonio"
   ]
  },
  {
   "cell_type": "code",
   "execution_count": 34,
   "id": "eca593ac",
   "metadata": {},
   "outputs": [],
   "source": [
    "diametrononio = np.array([2.32, 2.325, 2.32, 2.315, 2.315, 2.320, 2.320, 2.320, 2.325, 2.32, 2.315, 2.32, 2.32, 2.325, 2.325, 2.33, 2.315, 2.32, 2.32, 2.325, 2.325, 2.315, 2.33, 2.32, 2.32, 2.32, 2.32, 2.325, 2.325, 2.315])"
   ]
  },
  {
   "cell_type": "code",
   "execution_count": 35,
   "id": "9babe655",
   "metadata": {},
   "outputs": [],
   "source": [
    "mdiametrononio = diametrononio.mean()\n",
    "\n",
    "stddiametrononio = np.std(diametrononio,ddof=1)"
   ]
  },
  {
   "cell_type": "code",
   "execution_count": 36,
   "id": "b80268b1",
   "metadata": {},
   "outputs": [
    {
     "data": {
      "text/plain": [
       "7"
      ]
     },
     "execution_count": 36,
     "metadata": {},
     "output_type": "execute_result"
    }
   ],
   "source": [
    "binsize = stddiametrononio/2\n",
    "interval = diametrononio.max()-diametrononio.min()\n",
    "nbins = int(interval/binsize)\n",
    "nbins"
   ]
  },
  {
   "cell_type": "code",
   "execution_count": 37,
   "id": "53091c4b",
   "metadata": {},
   "outputs": [
    {
     "data": {
      "text/plain": [
       "Text(0.5, 1.0, 'Histogram of x: $\\\\mu$=2.321 $\\\\sigma$=0.004')"
      ]
     },
     "execution_count": 37,
     "metadata": {},
     "output_type": "execute_result"
    },
    {
     "data": {
      "image/png": "[encoded data removed]",
      "text/plain": [
       "<Figure size 432x288 with 1 Axes>"
      ]
     },
     "metadata": {
      "needs_background": "light"
     },
     "output_type": "display_data"
    }
   ],
   "source": [
    "count, bins, patches = plt.hist(diametrononio, bins=nbins, color='r')\n",
    "plt.xlabel('x[cm]')\n",
    "plt.ylabel('Entries')\n",
    "plt.title(label='Histogram of x: $\\mu$={0:.3f} $\\sigma$={1:.3f}'.format(mdiametrononio,stddiametrononio))"
   ]
  },
  {
   "cell_type": "markdown",
   "id": "54de2b16",
   "metadata": {},
   "source": [
    "# Spessore palmer"
   ]
  },
  {
   "cell_type": "code",
   "execution_count": 38,
   "id": "e95d0c78",
   "metadata": {},
   "outputs": [],
   "source": [
    "spessprepalmer = np.array([2.341, 2.377, 2.348, 2.332, 2.372, 2.371, 2.353, 2.334, 2.368, 2.351, 2.34, 2.339, 2.377, 2.368, 2.326, 2.368, 2.348, 2.377, 2.355, 2.358, 2.334, 2.355, 2.341, 2.361, 2.339, 2.358, 2.348, 2.374, 2.381, 2.342])"
   ]
  },
  {
   "cell_type": "code",
   "execution_count": 39,
   "id": "b95d941a",
   "metadata": {},
   "outputs": [
    {
     "ename": "NameError",
     "evalue": "name 'diametropalmer' is not defined",
     "output_type": "error",
     "traceback": [
      "\u001b[0;31m---------------------------------------------------------------------------\u001b[0m",
      "\u001b[0;31mNameError\u001b[0m                                 Traceback (most recent call last)",
      "Input \u001b[0;32mIn [39]\u001b[0m, in \u001b[0;36m<cell line: 1>\u001b[0;34m()\u001b[0m\n\u001b[0;32m----> 1\u001b[0m \u001b[38;5;28;01mfor\u001b[39;00m ix,x \u001b[38;5;129;01min\u001b[39;00m \u001b[38;5;28menumerate\u001b[39m(\u001b[43mdiametropalmer\u001b[49m):\n\u001b[1;32m      2\u001b[0m     \u001b[38;5;28mprint\u001b[39m (\u001b[38;5;124m'\u001b[39m\u001b[38;5;132;01m{0:.3f}\u001b[39;00m\u001b[38;5;124m cm & \u001b[39m\u001b[38;5;132;01m{1}\u001b[39;00m\u001b[38;5;124m cm & \u001b[39m\u001b[38;5;132;01m{2}\u001b[39;00m\u001b[38;5;124m mm \u001b[39m\u001b[38;5;130;01m\\\\\u001b[39;00m\u001b[38;5;130;01m\\\\\u001b[39;00m\u001b[38;5;124m'\u001b[39m\u001b[38;5;241m.\u001b[39mformat(spessorerig[ix],spessorenonio[ix],spessprepalmer[ix]))\n\u001b[1;32m      3\u001b[0m     \u001b[38;5;28mprint\u001b[39m (\u001b[38;5;124m'\u001b[39m\u001b[38;5;124m\\\u001b[39m\u001b[38;5;124mhline\u001b[39m\u001b[38;5;124m'\u001b[39m)\n",
      "\u001b[0;31mNameError\u001b[0m: name 'diametropalmer' is not defined"
     ]
    }
   ],
   "source": [
    "for ix,x in enumerate(diametropalmer):\n",
    "    print ('{0:.3f} cm & {1} cm & {2} mm \\\\\\\\'.format(spessorerig[ix],spessorenonio[ix],spessprepalmer[ix]))\n",
    "    print ('\\hline')"
   ]
  },
  {
   "cell_type": "code",
   "execution_count": null,
   "id": "3e6792f8",
   "metadata": {},
   "outputs": [],
   "source": [
    "mspessprepalmer = spessprepalmer.mean()\n",
    "\n",
    "stdspessprepalmer = np.std(spessprepalmer,ddof=1)\n"
   ]
  },
  {
   "cell_type": "code",
   "execution_count": null,
   "id": "57ef7f98",
   "metadata": {},
   "outputs": [],
   "source": [
    "\n",
    "binsize = stdspessprepalmer/2\n",
    "interval = spessprepalmer.max()-spessprepalmer.min()\n",
    "nbins = int(interval/binsize)"
   ]
  },
  {
   "cell_type": "code",
   "execution_count": null,
   "id": "05b2b221",
   "metadata": {},
   "outputs": [],
   "source": [
    "count, bins, patches = plt.hist(spessprepalmer, bins=nbins, color='r')\n",
    "plt.xlabel('x[mm]')\n",
    "plt.ylabel('Entries')\n",
    "plt.title(label='Histogram of x: $\\mu$={0:.3f} $\\sigma$={1:.3f}'.format(mspessprepalmer,stdspessprepalmer))"
   ]
  },
  {
   "cell_type": "markdown",
   "id": "24505bf3",
   "metadata": {},
   "source": [
    "# Diametro palmer"
   ]
  },
  {
   "cell_type": "code",
   "execution_count": null,
   "id": "1fe1f393",
   "metadata": {},
   "outputs": [],
   "source": [
    "diametropalmer = np.array([23.195, 23.198, 23.212, 23.213, 23.20, 23.201, 23.205, 23.212, 23.213, 23.205, 23.207, 23.218, 23.202, 23.211, 23.219, 23.198, 23.204, 23.2, 23.199, 23.206, 23.228, 23.195, 23.194, 23.193, 23.203, 23.207, 23.192, 23.21, 23.199, 23.222])"
   ]
  },
  {
   "cell_type": "code",
   "execution_count": null,
   "id": "1f368833",
   "metadata": {},
   "outputs": [],
   "source": [
    "for ix,x in enumerate(diametropalmer):\n",
    "    print ('{0:.3f} cm & {1} cm & {2} mm \\\\\\\\'.format(diametrorig[ix],diametrononio[ix],diametropalmer[ix]))\n",
    "    print ('\\hline')"
   ]
  },
  {
   "cell_type": "code",
   "execution_count": null,
   "id": "e1cb1d53",
   "metadata": {},
   "outputs": [],
   "source": [
    "mdiametropalmer = diametropalmer.mean()\n",
    "\n",
    "stddiametropalmer = np.std(diametropalmer,ddof=1)"
   ]
  },
  {
   "cell_type": "code",
   "execution_count": null,
   "id": "ecaf1e46",
   "metadata": {},
   "outputs": [],
   "source": [
    "binsize = stddiametropalmer/2\n",
    "interval = diametropalmer.max()-diametropalmer.min()\n",
    "nbins = int(interval/binsize)"
   ]
  },
  {
   "cell_type": "code",
   "execution_count": null,
   "id": "71f0ab20",
   "metadata": {},
   "outputs": [],
   "source": [
    "count, bins, patches = plt.hist(diametropalmer, bins=nbins, color='r')\n",
    "plt.xlabel('x[mm]')\n",
    "plt.ylabel('Entries')\n",
    "plt.title(label='Histogram of x: $\\mu$={0:.3f} $\\sigma$={1:.3f}'.format(mdiametropalmer,stddiametropalmer))"
   ]
  },
  {
   "cell_type": "markdown",
   "id": "20d212c3",
   "metadata": {},
   "source": [
    "# Massa\n"
   ]
  },
  {
   "cell_type": "code",
   "execution_count": null,
   "id": "2519649f",
   "metadata": {},
   "outputs": [],
   "source": [
    "massa = np.array([7.5, 7.5, 7.6, 7.4, 7.5, 7.5, 7.6, 7.6, 7.3, 7.4, 7.5, 7.5, 7.5, 7.5, 7.5, 7.5, 7.5, 7.4, 7.6, 7.5, 7.5, 7.4, 7.4, 7.4, 7.5, 7.4, 7.5, 7.5, 7.5, 7.5])"
   ]
  },
  {
   "cell_type": "code",
   "execution_count": null,
   "id": "34001168",
   "metadata": {},
   "outputs": [],
   "source": [
    "for ix,x in enumerate(massa):\n",
    "   \n",
    "        print ('{0} &'.format(massa[ix]))"
   ]
  },
  {
   "cell_type": "code",
   "execution_count": null,
   "id": "18cb8284",
   "metadata": {},
   "outputs": [],
   "source": [
    "mmassa = massa.mean()\n",
    "\n",
    "stdmassa = np.std(massa,ddof=1)"
   ]
  },
  {
   "cell_type": "code",
   "execution_count": null,
   "id": "c8d6b245",
   "metadata": {},
   "outputs": [],
   "source": [
    "binsize = stdmassa/2\n",
    "interval = massa.max()-massa.min()\n",
    "nbins = int(interval/binsize)"
   ]
  },
  {
   "cell_type": "code",
   "execution_count": null,
   "id": "f7969f98",
   "metadata": {},
   "outputs": [],
   "source": [
    "count, bins, patches = plt.hist(massa, bins=nbins, color='r')\n",
    "plt.xlabel('m[g]')\n",
    "plt.ylabel('Entries')\n",
    "plt.title(label='Histogram of m: $\\mu$={0:.3f} $\\sigma$={1:.3f}'.format(mmassa,stdmassa))"
   ]
  },
  {
   "cell_type": "markdown",
   "id": "2fea95a4",
   "metadata": {},
   "source": [
    "# Foglio"
   ]
  },
  {
   "cell_type": "code",
   "execution_count": null,
   "id": "e11be95f",
   "metadata": {},
   "outputs": [],
   "source": [
    "foglio = np.array([0.101, 0.103, 0.105, 0.104, 0.104, 0.105, 0.101, 0.102, 0.105, 0.104, 0.104, 0.102, 0.104, 0.102, 0.103, 0.105, 0.102, 0.105, 0.105, 0.104, 0.098, 0.097, 0.1, 0.101, 0.095, 0.101, 0.104, 0.099, 0.103, 0.102])"
   ]
  },
  {
   "cell_type": "code",
   "execution_count": null,
   "id": "2d4008aa",
   "metadata": {},
   "outputs": [],
   "source": [
    "for ix,x in enumerate(foglio):\n",
    "   \n",
    "        print ('{0} &'.format(foglio[ix]))"
   ]
  },
  {
   "cell_type": "code",
   "execution_count": null,
   "id": "d5e33bb7",
   "metadata": {},
   "outputs": [],
   "source": [
    "for ix,x in enumerate(foglio):\n",
    "    print ('{0};'.format(x))"
   ]
  },
  {
   "cell_type": "code",
   "execution_count": null,
   "id": "a2eb8428",
   "metadata": {},
   "outputs": [],
   "source": [
    "mfoglio = foglio.mean()\n",
    "\n",
    "stdfoglio = np.std(foglio,ddof=1)"
   ]
  },
  {
   "cell_type": "code",
   "execution_count": null,
   "id": "1f6835a4",
   "metadata": {},
   "outputs": [],
   "source": [
    "binsize = stdfoglio/2\n",
    "interval =foglio.max()-foglio.min()\n",
    "nbins = int(interval/binsize)"
   ]
  },
  {
   "cell_type": "code",
   "execution_count": null,
   "id": "d33a9258",
   "metadata": {},
   "outputs": [],
   "source": [
    "count, bins, patches = plt.hist(foglio, bins=nbins, color='r')\n",
    "plt.xlabel('x[mm]')\n",
    "plt.ylabel('Entries')\n",
    "plt.title(label='Histogram of x: $\\mu$={0:.3f} $\\sigma$={1:.3f}'.format(mfoglio,stdfoglio))"
   ]
  },
  {
   "cell_type": "code",
   "execution_count": null,
   "id": "ecbbe166",
   "metadata": {},
   "outputs": [],
   "source": []
  }
 ],
 "metadata": {
  "kernelspec": {
   "display_name": "Python 3 (ipykernel)",
   "language": "python",
   "name": "python3"
  },
  "language_info": {
   "codemirror_mode": {
    "name": "ipython",
    "version": 3
   },
   "file_extension": ".py",
   "mimetype": "text/x-python",
   "name": "python",
   "nbconvert_exporter": "python",
   "pygments_lexer": "ipython3",
   "version": "3.8.10"
  }
 },
 "nbformat": 4,
 "nbformat_minor": 5
}
