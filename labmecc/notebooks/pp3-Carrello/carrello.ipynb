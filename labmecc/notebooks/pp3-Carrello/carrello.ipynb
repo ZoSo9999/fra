{
 "cells": [
  {
   "cell_type": "code",
   "execution_count": 1,
   "id": "5618a2b0",
   "metadata": {},
   "outputs": [],
   "source": [
    "import numpy as np\n",
    "import matplotlib.pyplot as plt\n",
    "import matplotlib.mlab as mlab\n",
    "from scipy import stats\n",
    "import pandas as pd\n",
    "import fra_lib as fra\n",
    "import my_lib_santanastasio as my"
   ]
  },
  {
   "cell_type": "markdown",
   "id": "f9958643",
   "metadata": {},
   "source": [
    "# Retta calibrazione"
   ]
  },
  {
   "cell_type": "code",
   "execution_count": 2,
   "id": "eaf8da7a",
   "metadata": {},
   "outputs": [],
   "source": [
    "l = np.array([0.50,0.60,0.70,0.80,0.90,1.00,1.10,1.20,1.30,1.40,1.50])"
   ]
  },
  {
   "cell_type": "code",
   "execution_count": 3,
   "id": "b84e7eea",
   "metadata": {},
   "outputs": [
    {
     "data": {
      "text/plain": [
       "3.0592621431364277e-07"
      ]
     },
     "execution_count": 3,
     "metadata": {},
     "output_type": "execute_result"
    }
   ],
   "source": [
    "c50 = pd.read_csv(\"calibrazione 50.txt\",header=1,sep='\\t')\n",
    "c50\n",
    "fra.swichComaDot(\"calibrazione 50.txt\")\n",
    "c50 = c50.rename(columns={\"Tempo ( s )\":\"t\",\"Tempo trascorso ( s )\":\"DeltaT\"})\n",
    "DeltaT50 = c50.DeltaT.to_numpy()\n",
    "#DeltaT50\n",
    "mean50 = np.mean(DeltaT50)\n",
    "mean50\n",
    "#incertezza\n",
    "u_c50=np.sqrt( (np.std(DeltaT50, ddof=1)/np.sqrt(len(DeltaT50)))**2+((0.000001/np.sqrt(12))**2))\n",
    "u_c50\n"
   ]
  },
  {
   "cell_type": "code",
   "execution_count": 4,
   "id": "9f4cf8f8",
   "metadata": {},
   "outputs": [],
   "source": [
    "c60 = pd.read_csv(\"calibrazione 60.txt\",header=1,sep='\\t')\n",
    "c60\n",
    "fra.swichComaDot(\"calibrazione 60.txt\")\n",
    "c60 = c60.rename(columns={\"Tempo ( s )\":\"t\",\"Tempo trascorso ( s )\":\"DeltaT\"})\n",
    "DeltaT60 = c60.DeltaT.to_numpy()\n",
    "#DeltaT60\n",
    "mean60 = np.mean(DeltaT60)\n",
    "mean60\n",
    "\n",
    "#incertezza\n",
    "u_c60=np.sqrt( (np.std(DeltaT60, ddof=1)/np.sqrt(len(DeltaT60)))**2+((0.000001/np.sqrt(12))**2))"
   ]
  },
  {
   "cell_type": "code",
   "execution_count": 5,
   "id": "1209bce8",
   "metadata": {},
   "outputs": [],
   "source": [
    "c70 = pd.read_csv(\"calibrazione 70.txt\",header=1,sep='\\t')\n",
    "c70\n",
    "fra.swichComaDot(\"calibrazione 70.txt\")\n",
    "c70 = c70.rename(columns={\"Tempo ( s )\":\"t\",\"Tempo trascorso ( s )\":\"DeltaT\"})\n",
    "DeltaT70 = c70.DeltaT.to_numpy()\n",
    "#DeltaT70\n",
    "mean70 = np.mean(DeltaT70)\n",
    "mean70\n",
    "\n",
    "#incertezza\n",
    "u_c70=np.sqrt( (np.std(DeltaT70, ddof=1)/np.sqrt(len(DeltaT70)))**2+((0.000001/np.sqrt(12))**2))"
   ]
  },
  {
   "cell_type": "code",
   "execution_count": 6,
   "id": "3d232db6",
   "metadata": {},
   "outputs": [],
   "source": [
    "c80 = pd.read_csv(\"calibrazione 80.txt\",header=1,sep='\\t')\n",
    "c80\n",
    "fra.swichComaDot(\"calibrazione 80.txt\")\n",
    "c80 = c80.rename(columns={\"Tempo ( s )\":\"t\",\"Tempo trascorso ( s )\":\"DeltaT\"})\n",
    "DeltaT80 = c80.DeltaT.to_numpy()\n",
    "#DeltaT80\n",
    "mean80 = np.mean(DeltaT80)\n",
    "mean80\n",
    "\n",
    "#incertezza\n",
    "u_c80=np.sqrt( (np.std(DeltaT80, ddof=1)/np.sqrt(len(DeltaT80)))**2+((0.000001/np.sqrt(12))**2))"
   ]
  },
  {
   "cell_type": "code",
   "execution_count": 7,
   "id": "970f5e2b",
   "metadata": {},
   "outputs": [],
   "source": [
    "c90 = pd.read_csv(\"calibrazione 90.txt\",header=1,sep='\\t')\n",
    "c90\n",
    "fra.swichComaDot(\"calibrazione 90.txt\")\n",
    "c90 = c90.rename(columns={\"Tempo ( s )\":\"t\",\"Tempo trascorso ( s )\":\"DeltaT\"})\n",
    "DeltaT90 = c90.DeltaT.to_numpy()\n",
    "#DeltaT90\n",
    "mean90 = np.mean(DeltaT90)\n",
    "mean90\n",
    "\n",
    "#incertezza\n",
    "u_c90=np.sqrt( (np.std(DeltaT90, ddof=1)/np.sqrt(len(DeltaT90)))**2+((0.000001/np.sqrt(12))**2))"
   ]
  },
  {
   "cell_type": "code",
   "execution_count": 8,
   "id": "924ba441",
   "metadata": {},
   "outputs": [],
   "source": [
    "c100 = pd.read_csv(\"calibrazione 100.txt\",header=1,sep='\\t')\n",
    "c100\n",
    "fra.swichComaDot(\"calibrazione 100.txt\")\n",
    "c100 = c100.rename(columns={\"Tempo ( s )\":\"t\",\"Tempo trascorso ( s )\":\"DeltaT\"})\n",
    "DeltaT100 = c100.DeltaT.to_numpy()\n",
    "#DeltaT100\n",
    "mean100 = np.mean(DeltaT100)\n",
    "mean100\n",
    "\n",
    "#incertezza\n",
    "u_c100=np.sqrt( (np.std(DeltaT100, ddof=1)/np.sqrt(len(DeltaT100)))**2+((0.000001/np.sqrt(12))**2))"
   ]
  },
  {
   "cell_type": "code",
   "execution_count": 9,
   "id": "a76d7d44",
   "metadata": {},
   "outputs": [],
   "source": [
    "c110 = pd.read_csv(\"calibrazione 110.txt\",header=1,sep='\\t')\n",
    "c110\n",
    "fra.swichComaDot(\"calibrazione 110.txt\")\n",
    "c110 = c110.rename(columns={\"Tempo ( s )\":\"t\",\"Tempo trascorso ( s )\":\"DeltaT\"})\n",
    "DeltaT110 = c110.DeltaT.to_numpy()\n",
    "#DeltaT110\n",
    "mean110 = np.mean(DeltaT110)\n",
    "mean110\n",
    "\n",
    "#incertezza\n",
    "u_c110=np.sqrt( (np.std(DeltaT110, ddof=1)/np.sqrt(len(DeltaT110)))**2+((0.000001/np.sqrt(12))**2))"
   ]
  },
  {
   "cell_type": "code",
   "execution_count": 10,
   "id": "cf3e3f22",
   "metadata": {},
   "outputs": [],
   "source": [
    "c120 = pd.read_csv(\"calibrazione 120.txt\",header=1,sep='\\t')\n",
    "c120\n",
    "fra.swichComaDot(\"calibrazione 120.txt\")\n",
    "c120 = c120.rename(columns={\"Tempo ( s )\":\"t\",\"Tempo trascorso ( s )\":\"DeltaT\"})\n",
    "DeltaT120 = c120.DeltaT.to_numpy()\n",
    "#DeltaT120\n",
    "mean120 = np.mean(DeltaT120)\n",
    "mean120\n",
    "\n",
    "#incertezza\n",
    "u_c120=np.sqrt( (np.std(DeltaT120, ddof=1)/np.sqrt(len(DeltaT120)))**2+((0.000001/np.sqrt(12))**2))"
   ]
  },
  {
   "cell_type": "code",
   "execution_count": 11,
   "id": "afb99860",
   "metadata": {},
   "outputs": [],
   "source": [
    "c130 = pd.read_csv(\"calibrazione 130.txt\",header=1,sep='\\t')\n",
    "c130\n",
    "fra.swichComaDot(\"calibrazione 130.txt\")\n",
    "c130 = c130.rename(columns={\"Tempo ( s )\":\"t\",\"Tempo trascorso ( s )\":\"DeltaT\"})\n",
    "DeltaT130 = c130.DeltaT.to_numpy()\n",
    "#DeltaT130\n",
    "mean130 = np.mean(DeltaT130)\n",
    "mean130\n",
    "\n",
    "#incertezza\n",
    "u_c130=np.sqrt( (np.std(DeltaT130, ddof=1)/np.sqrt(len(DeltaT130)))**2+((0.000001/np.sqrt(12))**2))"
   ]
  },
  {
   "cell_type": "code",
   "execution_count": 12,
   "id": "43c31928",
   "metadata": {},
   "outputs": [],
   "source": [
    "c140 = pd.read_csv(\"calibrazione 140.txt\",header=1,sep='\\t')\n",
    "c140\n",
    "fra.swichComaDot(\"calibrazione 140.txt\")\n",
    "c140 = c140.rename(columns={\"Tempo ( s )\":\"t\",\"Tempo trascorso ( s )\":\"DeltaT\"})\n",
    "DeltaT140 = c140.DeltaT.to_numpy()\n",
    "#DeltaT140\n",
    "mean140 = np.mean(DeltaT140)\n",
    "mean140\n",
    "\n",
    "#incertezza\n",
    "u_c140=np.sqrt( (np.std(DeltaT140, ddof=1)/np.sqrt(len(DeltaT140)))**2+((0.000001/np.sqrt(12))**2))"
   ]
  },
  {
   "cell_type": "code",
   "execution_count": 13,
   "id": "3d18598d",
   "metadata": {},
   "outputs": [],
   "source": [
    "c150 = pd.read_csv(\"calibrazione 150.txt\",header=1,sep='\\t')\n",
    "c150\n",
    "fra.swichComaDot(\"calibrazione 150.txt\")\n",
    "c150 = c150.rename(columns={\"Tempo ( s )\":\"t\",\"Tempo trascorso ( s )\":\"DeltaT\"})\n",
    "DeltaT150 = c150.DeltaT.to_numpy()\n",
    "#DeltaT150\n",
    "mean150 = np.mean(DeltaT150)\n",
    "mean150\n",
    "\n",
    "#incertezza\n",
    "u_c150=np.sqrt( (np.std(DeltaT150, ddof=1)/np.sqrt(len(DeltaT150)))**2+((0.000001/np.sqrt(12))**2))"
   ]
  },
  {
   "cell_type": "code",
   "execution_count": 14,
   "id": "d557f8c5",
   "metadata": {},
   "outputs": [],
   "source": [
    "medie = np.array([mean50,mean60,mean70,mean80,mean90,mean100,mean110,mean120,mean130,mean140,mean150])"
   ]
  },
  {
   "cell_type": "code",
   "execution_count": 15,
   "id": "6f57d1ad",
   "metadata": {},
   "outputs": [
    {
     "data": {
      "image/png": "[encoded data removed]",
      "text/plain": [
       "<Figure size 432x288 with 1 Axes>"
      ]
     },
     "metadata": {
      "needs_background": "light"
     },
     "output_type": "display_data"
    }
   ],
   "source": [
    "plt.plot(medie,l,'bo-')\n",
    "plt.grid()"
   ]
  },
  {
   "cell_type": "code",
   "execution_count": 16,
   "id": "b51bd059",
   "metadata": {},
   "outputs": [],
   "source": [
    "#incertezza sulle misure di lunghezza l'abbiamo posta pari a due millimetri\n",
    "ul=np.repeat(0.0007,len(l))\n",
    "\n",
    "\n",
    "#array incertezza sui deltaT\n",
    "udT=np.array([u_c50,u_c60,u_c70,u_c80,u_c90,u_c100,u_c110,u_c120,u_c130,u_c140,u_c150])"
   ]
  },
  {
   "cell_type": "markdown",
   "id": "4ac707a1",
   "metadata": {},
   "source": [
    "# Fit di calibrazione"
   ]
  },
  {
   "cell_type": "code",
   "execution_count": 17,
   "id": "fea17daa",
   "metadata": {},
   "outputs": [
    {
     "name": "stdout",
     "output_type": "stream",
     "text": [
      "m         =  173.9497\n",
      "sigma(m)  =  0.1161\n",
      "c         =  -0.0183\n",
      "sigma(c)  =  0.0007\n",
      "cov(m, c) =  -0.0001\n",
      "rho(m, c) =  -0.955\n"
     ]
    },
    {
     "data": {
      "image/png": "[encoded data removed]",
      "text/plain": [
       "<Figure size 432x288 with 1 Axes>"
      ]
     },
     "metadata": {
      "needs_background": "light"
     },
     "output_type": "display_data"
    }
   ],
   "source": [
    "m0, sm0, c0, sc0, cov0, rho0 = my.lin_fit(medie, l, ul, \"$\\Delta$T [s]\", \"l [m]\",plot=True, setrange=False)"
   ]
  },
  {
   "cell_type": "code",
   "execution_count": 18,
   "id": "fc861499",
   "metadata": {
    "scrolled": false
   },
   "outputs": [
    {
     "name": "stdout",
     "output_type": "stream",
     "text": [
      "m         =  173.9504\n",
      "sigma(m)  =  0.1165\n",
      "c         =  -0.0183\n",
      "sigma(c)  =  0.0007\n",
      "cov(m, c) =  -0.0001\n",
      "rho(m, c) =  -0.955\n"
     ]
    },
    {
     "data": {
      "image/png": "[encoded data removed]",
      "text/plain": [
       "<Figure size 432x288 with 1 Axes>"
      ]
     },
     "metadata": {
      "needs_background": "light"
     },
     "output_type": "display_data"
    }
   ],
   "source": [
    "ul_new = np.sqrt(ul**2+(m0*udT)**2)\n",
    "m, sm, c, sc, cov, rho = my.lin_fit(medie, l, ul_new, \"$\\Delta$T [s]\", \"l [m]\",plot=True, setrange=False)"
   ]
  },
  {
   "cell_type": "code",
   "execution_count": 19,
   "id": "8a8aac6f",
   "metadata": {},
   "outputs": [
    {
     "data": {
      "image/png": "[encoded data removed]",
      "text/plain": [
       "<Figure size 432x288 with 1 Axes>"
      ]
     },
     "metadata": {
      "needs_background": "light"
     },
     "output_type": "display_data"
    }
   ],
   "source": [
    "l_atteso = m*medie + c\n",
    "d = l - l_atteso\n",
    "d_norm = d / ul_new\n",
    "\n",
    "plt.errorbar(medie,d,ul_new,marker='.',linestyle=\"\")\n",
    "plt.ylabel(\"Residui $d=y-y_{atteso}$ [uy]\")\n",
    "plt.xlabel(\"$x$ [ux]\")\n",
    "plt.grid()"
   ]
  },
  {
   "cell_type": "code",
   "execution_count": 20,
   "id": "e8cb60cd",
   "metadata": {
    "scrolled": true
   },
   "outputs": [
    {
     "data": {
      "image/png": "[encoded data removed]",
      "text/plain": [
       "<Figure size 432x288 with 1 Axes>"
      ]
     },
     "metadata": {
      "needs_background": "light"
     },
     "output_type": "display_data"
    }
   ],
   "source": [
    "plt.errorbar(medie,d_norm,ul_new/ul_new,marker='.',linestyle=\"\")\n",
    "plt.ylabel(\"Residui normalizzati $d/\\sigma_y=(y-y_{atteso})/\\sigma_y$\")\n",
    "plt.xlabel(\"$x$ [ux]\")\n",
    "plt.grid()"
   ]
  },
  {
   "cell_type": "markdown",
   "id": "d8a7b92b",
   "metadata": {},
   "source": [
    "## Nuova calibrazione"
   ]
  },
  {
   "cell_type": "code",
   "execution_count": 21,
   "id": "14f0dcdb",
   "metadata": {},
   "outputs": [
    {
     "data": {
      "text/plain": [
       "4.3535537230971537e-07"
      ]
     },
     "execution_count": 21,
     "metadata": {},
     "output_type": "execute_result"
    }
   ],
   "source": [
    "c50 = pd.read_csv(\"calibrazione 50new.txt\",header=1,sep='\\t')\n",
    "c50\n",
    "fra.swichComaDot(\"calibrazione 50new.txt\")\n",
    "c50 = c50.rename(columns={\"Tempo ( s )\":\"t\",\"Tempo trascorso ( s )\":\"DeltaT\"})\n",
    "DeltaT50 = c50.DeltaT.to_numpy()\n",
    "#DeltaT50\n",
    "mean50 = np.mean(DeltaT50)\n",
    "mean50\n",
    "#incertezza\n",
    "u_c50=np.sqrt( (np.std(DeltaT50, ddof=1)/np.sqrt(len(DeltaT50)))**2+((0.000001/np.sqrt(12))**2))\n",
    "u_c50"
   ]
  },
  {
   "cell_type": "code",
   "execution_count": 22,
   "id": "7ce43b95",
   "metadata": {},
   "outputs": [],
   "source": [
    "c60 = pd.read_csv(\"calibrazione 60new.txt\",header=1,sep='\\t')\n",
    "c60\n",
    "fra.swichComaDot(\"calibrazione 60new.txt\")\n",
    "c60 = c60.rename(columns={\"Tempo ( s )\":\"t\",\"Tempo trascorso ( s )\":\"DeltaT\"})\n",
    "DeltaT60 = c60.DeltaT.to_numpy()\n",
    "#DeltaT60\n",
    "mean60 = np.mean(DeltaT60)\n",
    "mean60\n",
    "\n",
    "#incertezza\n",
    "u_c60=np.sqrt( (np.std(DeltaT60, ddof=1)/np.sqrt(len(DeltaT60)))**2+((0.000001/np.sqrt(12))**2))"
   ]
  },
  {
   "cell_type": "code",
   "execution_count": 23,
   "id": "7fd219d9",
   "metadata": {},
   "outputs": [],
   "source": [
    "c70 = pd.read_csv(\"calibrazione 70new.txt\",header=1,sep='\\t')\n",
    "c70\n",
    "fra.swichComaDot(\"calibrazione 70new.txt\")\n",
    "c70 = c70.rename(columns={\"Tempo ( s )\":\"t\",\"Tempo trascorso ( s )\":\"DeltaT\"})\n",
    "DeltaT70 = c70.DeltaT.to_numpy()\n",
    "#DeltaT70\n",
    "mean70 = np.mean(DeltaT70)\n",
    "mean70\n",
    "\n",
    "#incertezza\n",
    "u_c70=np.sqrt( (np.std(DeltaT70, ddof=1)/np.sqrt(len(DeltaT70)))**2+((0.000001/np.sqrt(12))**2))"
   ]
  },
  {
   "cell_type": "code",
   "execution_count": 24,
   "id": "3a106868",
   "metadata": {},
   "outputs": [],
   "source": [
    "c80 = pd.read_csv(\"calibrazione 80new.txt\",header=1,sep='\\t')\n",
    "c80\n",
    "fra.swichComaDot(\"calibrazione 80new.txt\")\n",
    "c80 = c80.rename(columns={\"Tempo ( s )\":\"t\",\"Tempo trascorso ( s )\":\"DeltaT\"})\n",
    "DeltaT80 = c80.DeltaT.to_numpy()\n",
    "#DeltaT80\n",
    "mean80 = np.mean(DeltaT80)\n",
    "mean80\n",
    "\n",
    "#incertezza\n",
    "u_c80=np.sqrt( (np.std(DeltaT80, ddof=1)/np.sqrt(len(DeltaT80)))**2+((0.000001/np.sqrt(12))**2))"
   ]
  },
  {
   "cell_type": "code",
   "execution_count": 25,
   "id": "e647b6cf",
   "metadata": {},
   "outputs": [],
   "source": [
    "c90 = pd.read_csv(\"calibrazione 90new.txt\",header=1,sep='\\t')\n",
    "c90\n",
    "fra.swichComaDot(\"calibrazione 90new.txt\")\n",
    "c90 = c90.rename(columns={\"Tempo ( s )\":\"t\",\"Tempo trascorso ( s )\":\"DeltaT\"})\n",
    "DeltaT90 = c90.DeltaT.to_numpy()\n",
    "#DeltaT90\n",
    "mean90 = np.mean(DeltaT90)\n",
    "mean90\n",
    "\n",
    "#incertezza\n",
    "u_c90=np.sqrt( (np.std(DeltaT90, ddof=1)/np.sqrt(len(DeltaT90)))**2+((0.000001/np.sqrt(12))**2))"
   ]
  },
  {
   "cell_type": "code",
   "execution_count": 26,
   "id": "8d901009",
   "metadata": {},
   "outputs": [],
   "source": [
    "c100 = pd.read_csv(\"calibrazione 100new.txt\",header=1,sep='\\t')\n",
    "c100\n",
    "fra.swichComaDot(\"calibrazione 100new.txt\")\n",
    "c100 = c100.rename(columns={\"Tempo ( s )\":\"t\",\"Tempo trascorso ( s )\":\"DeltaT\"})\n",
    "DeltaT100 = c100.DeltaT.to_numpy()\n",
    "#DeltaT100\n",
    "mean100 = np.mean(DeltaT100)\n",
    "mean100\n",
    "\n",
    "#incertezza\n",
    "u_c100=np.sqrt( (np.std(DeltaT100, ddof=1)/np.sqrt(len(DeltaT100)))**2+((0.000001/np.sqrt(12))**2))"
   ]
  },
  {
   "cell_type": "code",
   "execution_count": 27,
   "id": "a2f509a8",
   "metadata": {},
   "outputs": [],
   "source": [
    "c110 = pd.read_csv(\"calibrazione 110new.txt\",header=1,sep='\\t')\n",
    "c110\n",
    "fra.swichComaDot(\"calibrazione 110new.txt\")\n",
    "c110 = c110.rename(columns={\"Tempo ( s )\":\"t\",\"Tempo trascorso ( s )\":\"DeltaT\"})\n",
    "DeltaT110 = c110.DeltaT.to_numpy()\n",
    "#DeltaT110\n",
    "mean110 = np.mean(DeltaT110)\n",
    "mean110\n",
    "\n",
    "#incertezza\n",
    "u_c110=np.sqrt( (np.std(DeltaT110, ddof=1)/np.sqrt(len(DeltaT110)))**2+((0.000001/np.sqrt(12))**2))"
   ]
  },
  {
   "cell_type": "code",
   "execution_count": 28,
   "id": "7b6914eb",
   "metadata": {},
   "outputs": [],
   "source": [
    "c120 = pd.read_csv(\"calibrazione 120new.txt\",header=1,sep='\\t')\n",
    "c120\n",
    "fra.swichComaDot(\"calibrazione 120new.txt\")\n",
    "c120 = c120.rename(columns={\"Tempo ( s )\":\"t\",\"Tempo trascorso ( s )\":\"DeltaT\"})\n",
    "DeltaT120 = c120.DeltaT.to_numpy()\n",
    "#DeltaT120\n",
    "mean120 = np.mean(DeltaT120)\n",
    "mean120\n",
    "\n",
    "#incertezza\n",
    "u_c120=np.sqrt( (np.std(DeltaT120, ddof=1)/np.sqrt(len(DeltaT120)))**2+((0.000001/np.sqrt(12))**2))"
   ]
  },
  {
   "cell_type": "code",
   "execution_count": 29,
   "id": "62272a21",
   "metadata": {},
   "outputs": [],
   "source": [
    "c130 = pd.read_csv(\"calibrazione 130new.txt\",header=1,sep='\\t')\n",
    "c130\n",
    "fra.swichComaDot(\"calibrazione 130new.txt\")\n",
    "c130 = c130.rename(columns={\"Tempo ( s )\":\"t\",\"Tempo trascorso ( s )\":\"DeltaT\"})\n",
    "DeltaT130 = c130.DeltaT.to_numpy()\n",
    "#DeltaT130\n",
    "mean130 = np.mean(DeltaT130)\n",
    "mean130\n",
    "\n",
    "#incertezza\n",
    "u_c130=np.sqrt( (np.std(DeltaT130, ddof=1)/np.sqrt(len(DeltaT130)))**2+((0.000001/np.sqrt(12))**2))"
   ]
  },
  {
   "cell_type": "code",
   "execution_count": 30,
   "id": "242f2d09",
   "metadata": {},
   "outputs": [],
   "source": [
    "c140 = pd.read_csv(\"calibrazione 140new.txt\",header=1,sep='\\t')\n",
    "c140\n",
    "fra.swichComaDot(\"calibrazione 140new.txt\")\n",
    "c140 = c140.rename(columns={\"Tempo ( s )\":\"t\",\"Tempo trascorso ( s )\":\"DeltaT\"})\n",
    "DeltaT140 = c140.DeltaT.to_numpy()\n",
    "#DeltaT140\n",
    "mean140 = np.mean(DeltaT140)\n",
    "mean140\n",
    "\n",
    "#incertezza\n",
    "u_c140=np.sqrt( (np.std(DeltaT140, ddof=1)/np.sqrt(len(DeltaT140)))**2+((0.000001/np.sqrt(12))**2))"
   ]
  },
  {
   "cell_type": "code",
   "execution_count": 31,
   "id": "c1b67040",
   "metadata": {},
   "outputs": [],
   "source": [
    "c150 = pd.read_csv(\"calibrazione 150new.txt\",header=1,sep='\\t')\n",
    "c150\n",
    "fra.swichComaDot(\"calibrazione 150new.txt\")\n",
    "c150 = c150.rename(columns={\"Tempo ( s )\":\"t\",\"Tempo trascorso ( s )\":\"DeltaT\"})\n",
    "DeltaT150 = c150.DeltaT.to_numpy()\n",
    "#DeltaT150\n",
    "mean150 = np.mean(DeltaT150)\n",
    "mean150\n",
    "\n",
    "#incertezza\n",
    "u_c150=np.sqrt( (np.std(DeltaT150, ddof=1)/np.sqrt(len(DeltaT150)))**2+((0.000001/np.sqrt(12))**2))"
   ]
  },
  {
   "cell_type": "code",
   "execution_count": 32,
   "id": "191a3711",
   "metadata": {},
   "outputs": [],
   "source": [
    "medie = np.array([mean50,mean60,mean70,mean80,mean90,mean100,mean110,mean120,mean130,mean140,mean150])"
   ]
  },
  {
   "cell_type": "code",
   "execution_count": 33,
   "id": "3d86829e",
   "metadata": {},
   "outputs": [],
   "source": [
    "#incertezza sulle misure di lunghezza l'abbiamo posta pari a due millimetri\n",
    "ul=np.repeat(0.0008,len(l))\n",
    "\n",
    "\n",
    "#array incertezza sui deltaT\n",
    "udT=np.array([u_c50,u_c60,u_c70,u_c80,u_c90,u_c100,u_c110,u_c120,u_c130,u_c140,u_c150])"
   ]
  },
  {
   "cell_type": "code",
   "execution_count": 34,
   "id": "183d701d",
   "metadata": {
    "scrolled": true
   },
   "outputs": [
    {
     "name": "stdout",
     "output_type": "stream",
     "text": [
      "m         =  173.3816\n",
      "sigma(m)  =  0.1323\n",
      "c         =  -0.0169\n",
      "sigma(c)  =  0.0008\n",
      "cov(m, c) =  -0.0001\n",
      "rho(m, c) =  -0.9549\n"
     ]
    },
    {
     "data": {
      "image/png": "[encoded data removed]",
      "text/plain": [
       "<Figure size 432x288 with 1 Axes>"
      ]
     },
     "metadata": {
      "needs_background": "light"
     },
     "output_type": "display_data"
    }
   ],
   "source": [
    "m0, sm0, c0, sc0, cov0, rho0 = my.lin_fit(medie, l, ul, \"$\\Delta$T [s]\", \"l [m]\",plot=True, setrange=False)"
   ]
  },
  {
   "cell_type": "code",
   "execution_count": 35,
   "id": "acf6c289",
   "metadata": {
    "scrolled": false
   },
   "outputs": [
    {
     "name": "stdout",
     "output_type": "stream",
     "text": [
      "m         =  173.3804\n",
      "sigma(m)  =  0.1327\n",
      "c         =  -0.0169\n",
      "sigma(c)  =  0.0008\n",
      "cov(m, c) =  -0.0001\n",
      "rho(m, c) =  -0.9549\n"
     ]
    },
    {
     "data": {
      "image/png": "[encoded data removed]",
      "text/plain": [
       "<Figure size 432x288 with 1 Axes>"
      ]
     },
     "metadata": {
      "needs_background": "light"
     },
     "output_type": "display_data"
    }
   ],
   "source": [
    "ul_new = np.sqrt(ul**2+(m0*udT)**2)\n",
    "m, sm, c, sc, cov, rho = my.lin_fit(medie, l, ul_new, \"$\\Delta$T [s]\", \"l [m]\",plot=True, setrange=False)"
   ]
  },
  {
   "cell_type": "code",
   "execution_count": 36,
   "id": "af340699",
   "metadata": {
    "scrolled": true
   },
   "outputs": [
    {
     "data": {
      "image/png": "[encoded data removed]",
      "text/plain": [
       "<Figure size 432x288 with 1 Axes>"
      ]
     },
     "metadata": {
      "needs_background": "light"
     },
     "output_type": "display_data"
    }
   ],
   "source": [
    "l_atteso = m*medie + c\n",
    "d = l - l_atteso\n",
    "d_norm = d / ul_new\n",
    "\n",
    "plt.errorbar(medie,d,ul_new,marker='.',linestyle=\"\")\n",
    "plt.ylabel(\"Residui $d=y-y_{atteso}$ [uy]\")\n",
    "plt.xlabel(\"$x$ [ux]\")\n",
    "plt.grid()"
   ]
  },
  {
   "cell_type": "code",
   "execution_count": 37,
   "id": "7e2e3305",
   "metadata": {
    "scrolled": true
   },
   "outputs": [
    {
     "data": {
      "image/png": "[encoded data removed]",
      "text/plain": [
       "<Figure size 432x288 with 1 Axes>"
      ]
     },
     "metadata": {
      "needs_background": "light"
     },
     "output_type": "display_data"
    }
   ],
   "source": [
    "plt.errorbar(medie,d_norm,ul_new/ul_new,marker='.',linestyle=\"\")\n",
    "plt.ylabel(\"Residui normalizzati $d/\\sigma_y=(y-y_{atteso})/\\sigma_y$\")\n",
    "plt.xlabel(\"$x$ [ux]\")\n",
    "plt.grid()"
   ]
  },
  {
   "cell_type": "markdown",
   "id": "5fab8f52",
   "metadata": {},
   "source": [
    "# Posizioni"
   ]
  },
  {
   "cell_type": "code",
   "execution_count": 38,
   "id": "aa94e159",
   "metadata": {},
   "outputs": [],
   "source": [
    "T11=pd.read_csv(\"discesa1.1.txt\",header=1,sep='\\t')\n",
    "fra.swichComaDot(\"discesa1.1.txt\")\n",
    "T11 = T11.rename(columns={\"Tempo ( s )\":\"t\",\"Tempo trascorso ( s )\":\"DeltaT\"})\n",
    "dT11 = T11.DeltaT.to_numpy()"
   ]
  },
  {
   "cell_type": "code",
   "execution_count": 39,
   "id": "e27998f0",
   "metadata": {
    "scrolled": true
   },
   "outputs": [],
   "source": [
    "uT11=np.repeat(0.000001/np.sqrt(12),len(dT11))\n",
    "\n",
    "x11, ux11 = fra.y_estrapolato2(dT11, m, c, uT11, sm, sc, cov)"
   ]
  },
  {
   "cell_type": "code",
   "execution_count": 40,
   "id": "2528a304",
   "metadata": {},
   "outputs": [],
   "source": [
    "T21=pd.read_csv(\"discesa2.1.txt\",header=1,sep='\\t')\n",
    "fra.swichComaDot(\"discesa2.1.txt\")\n",
    "T21 = T21.rename(columns={\"Tempo ( s )\":\"t\",\"Tempo trascorso ( s )\":\"DeltaT\"})\n",
    "dT21 = T21.DeltaT.to_numpy()"
   ]
  },
  {
   "cell_type": "code",
   "execution_count": 41,
   "id": "6f3f154a",
   "metadata": {
    "scrolled": true
   },
   "outputs": [],
   "source": [
    "uT21=np.repeat(0.000001/np.sqrt(12),len(dT21))\n",
    "\n",
    "x21, ux21 = fra.y_estrapolato2(dT21, m, c, uT21, sm, sc, cov)"
   ]
  },
  {
   "cell_type": "code",
   "execution_count": 42,
   "id": "44273559",
   "metadata": {},
   "outputs": [],
   "source": [
    "T31=pd.read_csv(\"discesa3.1.txt\",header=1,sep='\\t')\n",
    "fra.swichComaDot(\"discesa3.1.txt\")\n",
    "T31 = T31.rename(columns={\"Tempo ( s )\":\"t\",\"Tempo trascorso ( s )\":\"DeltaT\"})\n",
    "dT31 = T31.DeltaT.to_numpy()"
   ]
  },
  {
   "cell_type": "code",
   "execution_count": 43,
   "id": "b60bc141",
   "metadata": {
    "scrolled": true
   },
   "outputs": [],
   "source": [
    "uT31=np.repeat(0.000001/np.sqrt(12),len(dT31))\n",
    "\n",
    "x31, ux31 = fra.y_estrapolato2(dT31, m, c, uT31, sm, sc, cov)"
   ]
  },
  {
   "cell_type": "code",
   "execution_count": 44,
   "id": "2b7adf5b",
   "metadata": {},
   "outputs": [],
   "source": [
    "T41=pd.read_csv(\"discesa4.1.txt\",header=1,sep='\\t')\n",
    "fra.swichComaDot(\"discesa4.1.txt\")\n",
    "T41 = T41.rename(columns={\"Tempo ( s )\":\"t\",\"Tempo trascorso ( s )\":\"DeltaT\"})\n",
    "dT41 = T41.DeltaT.to_numpy()"
   ]
  },
  {
   "cell_type": "code",
   "execution_count": 45,
   "id": "a5b636fe",
   "metadata": {
    "scrolled": true
   },
   "outputs": [],
   "source": [
    "uT41=np.repeat(0.000001/np.sqrt(12),len(dT41))\n",
    "\n",
    "x41, ux41 = fra.y_estrapolato2(dT41, m, c, uT41, sm, sc, cov)"
   ]
  },
  {
   "cell_type": "markdown",
   "id": "23be8940",
   "metadata": {},
   "source": [
    "## Grafico x(t)"
   ]
  },
  {
   "cell_type": "code",
   "execution_count": 46,
   "id": "0d8edacb",
   "metadata": {
    "scrolled": false
   },
   "outputs": [
    {
     "data": {
      "image/png": "[encoded data removed]",
      "text/plain": [
       "<Figure size 432x288 with 1 Axes>"
      ]
     },
     "metadata": {
      "needs_background": "light"
     },
     "output_type": "display_data"
    }
   ],
   "source": [
    "fra.t_plot(x11, 'x[m]', 'x(t)')"
   ]
  },
  {
   "cell_type": "code",
   "execution_count": 47,
   "id": "3434c034",
   "metadata": {
    "scrolled": true
   },
   "outputs": [
    {
     "data": {
      "image/png": "[encoded data removed]",
      "text/plain": [
       "<Figure size 432x288 with 1 Axes>"
      ]
     },
     "metadata": {
      "needs_background": "light"
     },
     "output_type": "display_data"
    }
   ],
   "source": [
    "fra.t_plot(x41, 'x[m]', 'x(t)')\n"
   ]
  },
  {
   "cell_type": "markdown",
   "id": "06d32e91",
   "metadata": {},
   "source": [
    "# Velocità e grafico"
   ]
  },
  {
   "cell_type": "code",
   "execution_count": 48,
   "id": "7f2fee2f",
   "metadata": {},
   "outputs": [
    {
     "data": {
      "text/plain": [
       "array([0.00144334, 0.00141571, 0.00141573, 0.00141565, 0.00141577,\n",
       "       0.00141571, 0.0014162 , 0.00141577, 0.00141571, 0.00142711,\n",
       "       0.00142921, 0.00143033, 0.00143351, 0.00143611, 0.00143887,\n",
       "       0.00144334, 0.00145222, 0.00144081, 0.00145281, 0.00144875,\n",
       "       0.00145965, 0.00146294, 0.00146497, 0.00146986, 0.00147497,\n",
       "       0.00147952, 0.00148423, 0.00148503, 0.00148992, 0.00149411,\n",
       "       0.00150104, 0.00150641, 0.00151007, 0.00151474, 0.00151855,\n",
       "       0.00152538, 0.00153239, 0.00155023, 0.00154487, 0.00154807,\n",
       "       0.00155569, 0.00152145])"
      ]
     },
     "execution_count": 48,
     "metadata": {},
     "output_type": "execute_result"
    }
   ],
   "source": [
    "v11, uv11=fra.velocità(x11, m, sm, uT11, dT11)\n",
    "uv11"
   ]
  },
  {
   "cell_type": "code",
   "execution_count": 49,
   "id": "fb2af501",
   "metadata": {
    "scrolled": true
   },
   "outputs": [
    {
     "data": {
      "image/png": "[encoded data removed]",
      "text/plain": [
       "<Figure size 432x288 with 1 Axes>"
      ]
     },
     "metadata": {
      "needs_background": "light"
     },
     "output_type": "display_data"
    }
   ],
   "source": [
    "fra.t_plot(v11, 'v[m/s]', 'v(t)')"
   ]
  },
  {
   "cell_type": "code",
   "execution_count": 50,
   "id": "f100e7d5",
   "metadata": {},
   "outputs": [
    {
     "name": "stderr",
     "output_type": "stream",
     "text": [
      "/home/zoso/Documenti/notebooks/pp3-Carrello/fra_lib.py:46: FutureWarning: Index.__or__ operating as a set operation is deprecated, in the future this will be a logical operation matching Series.__or__.  Use index.union(other) instead.\n",
      "  df = df.drop(df[df.v < a].index | df[df.v > b].index)\n"
     ]
    },
    {
     "data": {
      "text/plain": [
       "(array([0.46465937, 0.48199741, 0.49240023, 0.51667348, 0.54094673,\n",
       "        0.56175238, 0.58255802, 0.58602563, 0.60683127, 0.62416931,\n",
       "        0.65191017, 0.67271581, 0.68658624, 0.70392427, 0.7177947 ]),\n",
       " array([0.00145965, 0.00146294, 0.00146497, 0.00146986, 0.00147497,\n",
       "        0.00147952, 0.00148423, 0.00148503, 0.00148992, 0.00149411,\n",
       "        0.00150104, 0.00150641, 0.00151007, 0.00151474, 0.00151855]))"
      ]
     },
     "execution_count": 50,
     "metadata": {},
     "output_type": "execute_result"
    }
   ],
   "source": [
    "#taglio gli intervalli\n",
    "\n",
    "v11, uv11 =fra.dfCut(v11, uv11, 0.45, 0.72)\n",
    "v11, uv11"
   ]
  },
  {
   "cell_type": "code",
   "execution_count": 51,
   "id": "12f8b559",
   "metadata": {
    "scrolled": true
   },
   "outputs": [
    {
     "name": "stdout",
     "output_type": "stream",
     "text": [
      "m         =  0.3454\n",
      "sigma(m)  =  0.0017\n",
      "c         =  0.4632\n",
      "sigma(c)  =  0.0007\n",
      "cov(m, c) =  -0.0\n",
      "rho(m, c) =  -0.8474\n"
     ]
    },
    {
     "data": {
      "image/png": "[encoded data removed]",
      "text/plain": [
       "<Figure size 432x288 with 1 Axes>"
      ]
     },
     "metadata": {
      "needs_background": "light"
     },
     "output_type": "display_data"
    }
   ],
   "source": [
    "#fit sulle velocità\n",
    "\n",
    "t=np.linspace(0,0.05*len(v11),len(v11))\n",
    "m, sm, c, sc, cov, rho = fra.lin_fit(t, v11, uv11, xlabel=\"t [s]\", ylabel=\"v [m/s]\", verbose=True, plot=True)"
   ]
  },
  {
   "cell_type": "code",
   "execution_count": 52,
   "id": "3743a40f",
   "metadata": {
    "scrolled": false
   },
   "outputs": [
    {
     "data": {
      "image/png": "[encoded data removed]",
      "text/plain": [
       "<Figure size 432x288 with 1 Axes>"
      ]
     },
     "metadata": {
      "needs_background": "light"
     },
     "output_type": "display_data"
    }
   ],
   "source": [
    "fra.residui_norm(m, c, t, v11, uv11, y_label=\"v\", uy_label=\"m/s\", x_label=\"t\", ux_label=\"s\")"
   ]
  },
  {
   "cell_type": "code",
   "execution_count": 53,
   "id": "0816acd8",
   "metadata": {},
   "outputs": [
    {
     "ename": "TypeError",
     "evalue": "velocità() missing 4 required positional arguments: 'm', 'sigma_m', 'sigma_DT', and 'DT'",
     "output_type": "error",
     "traceback": [
      "\u001b[0;31m---------------------------------------------------------------------------\u001b[0m",
      "\u001b[0;31mTypeError\u001b[0m                                 Traceback (most recent call last)",
      "Input \u001b[0;32mIn [53]\u001b[0m, in \u001b[0;36m<cell line: 1>\u001b[0;34m()\u001b[0m\n\u001b[0;32m----> 1\u001b[0m v21\u001b[38;5;241m=\u001b[39m\u001b[43mfra\u001b[49m\u001b[38;5;241;43m.\u001b[39;49m\u001b[43mvelocità\u001b[49m\u001b[43m(\u001b[49m\u001b[43mx21\u001b[49m\u001b[43m)\u001b[49m\n\u001b[1;32m      2\u001b[0m v21\n",
      "\u001b[0;31mTypeError\u001b[0m: velocità() missing 4 required positional arguments: 'm', 'sigma_m', 'sigma_DT', and 'DT'"
     ]
    }
   ],
   "source": [
    "v21=fra.velocità(x21)\n",
    "v21"
   ]
  },
  {
   "cell_type": "code",
   "execution_count": null,
   "id": "ddb036e9",
   "metadata": {
    "scrolled": true
   },
   "outputs": [],
   "source": [
    "fra.t_plot(v21, 'v[m/s]', 'v(t)')"
   ]
  },
  {
   "cell_type": "code",
   "execution_count": null,
   "id": "1553862b",
   "metadata": {},
   "outputs": [],
   "source": [
    "v31=fra.velocità(x31)\n"
   ]
  },
  {
   "cell_type": "code",
   "execution_count": null,
   "id": "d240c249",
   "metadata": {
    "scrolled": true
   },
   "outputs": [],
   "source": [
    "fra.t_plot(v31, 'v[m/s]', 'v(t)')"
   ]
  }
 ],
 "metadata": {
  "kernelspec": {
   "display_name": "Python 3 (ipykernel)",
   "language": "python",
   "name": "python3"
  },
  "language_info": {
   "codemirror_mode": {
    "name": "ipython",
    "version": 3
   },
   "file_extension": ".py",
   "mimetype": "text/x-python",
   "name": "python",
   "nbconvert_exporter": "python",
   "pygments_lexer": "ipython3",
   "version": "3.8.10"
  }
 },
 "nbformat": 4,
 "nbformat_minor": 5
}
