{
 "cells": [
  {
   "cell_type": "code",
   "execution_count": null,
   "id": "b26e3120",
   "metadata": {},
   "outputs": [],
   "source": [
    "import numpy as np\n",
    "import math\n",
    "import matplotlib.pyplot as plt\n",
    "import matplotlib.mlab as mlab\n",
    "from scipy import stats\n",
    "import pandas as pd"
   ]
  },
  {
   "cell_type": "markdown",
   "id": "4fdb0da9",
   "metadata": {},
   "source": [
    "# Misure dei 30 cilindri"
   ]
  },
  {
   "cell_type": "code",
   "execution_count": null,
   "id": "49dedb19",
   "metadata": {},
   "outputs": [],
   "source": [
    "masse=np.array([6.1,6.1,6.1,4.2,4.1,4.3,4.3,6.5,6.7,4.1,6.1,4.2,4.0,4.3,4.5,2.7,6.1,6.1,2.7,2.4,6.7,3.6,4.4,4.3,2.6,2.7,2.7,2.6,4.2,4.1])\n",
    "masse=np.round(masse,3)\n",
    "masse"
   ]
  },
  {
   "cell_type": "code",
   "execution_count": null,
   "id": "f8621589",
   "metadata": {},
   "outputs": [],
   "source": [
    "lunghezze=np.array([20.003,20.455,20.488,20.489,20.070,20.811,20.595,21.136,21.685,20.085,20.202,20.490,20.051,21.318,21.102,20.090,20.030,20.491,20.490,18.00,21.621,18.462,21.100,20.888,20.475,20.560,20.045,20.489,20.038,20.050])\n",
    "\n",
    "for ix,x in enumerate(lunghezze):\n",
    "    print(ix+1,lunghezze[ix])"
   ]
  },
  {
   "cell_type": "markdown",
   "id": "ddaaf329",
   "metadata": {},
   "source": [
    "5,8 su,9 su,10,(13),(14),16 su,21 su,22,25,26 su,28,30"
   ]
  },
  {
   "cell_type": "code",
   "execution_count": null,
   "id": "8b412aa5",
   "metadata": {},
   "outputs": [],
   "source": [
    "for ix,x in enumerate(lunghezze):\n",
    "    lunghezze[ix]=lunghezze[ix]+0.003\n",
    "\n",
    "lunghezze[1]=lunghezze[1]-0.5\n",
    "lunghezze[2]=lunghezze[2]-0.5\n",
    "\n",
    "lunghezze[3]=lunghezze[3]-0.5\n",
    "lunghezze[11]=lunghezze[11]-0.5\n",
    "lunghezze[17]=lunghezze[17]-0.5\n",
    "lunghezze[18]=lunghezze[18]-0.5\n",
    "lunghezze[21]=lunghezze[21]-0.5\n",
    "lunghezze[24]=lunghezze[24]-0.5\n",
    "\n",
    "lunghezze[27]=lunghezze[27]-0.5\n",
    "\n",
    "\n",
    "    \n",
    "lunghezze"
   ]
  },
  {
   "cell_type": "code",
   "execution_count": null,
   "id": "ea7cbb31",
   "metadata": {},
   "outputs": [],
   "source": [
    "2,3,4,12,18,19,22,25,28\n"
   ]
  },
  {
   "cell_type": "code",
   "execution_count": null,
   "id": "a011ae4e",
   "metadata": {},
   "outputs": [],
   "source": [
    "diametri=np.array([12.465,12.460,12.467,10.435,10.459,10.456,10.458,12.115,12.115,10.454,12.452,10.447,10.463,10.460,10.458,8.026,12.463,12.455,8.458,8.500,12.110,10.453,10.453,10.459,8.461,8.042,8.458,8.443,10.455,10.458])\n",
    "diametri"
   ]
  },
  {
   "cell_type": "markdown",
   "id": "db1aa40d",
   "metadata": {},
   "source": [
    "5,8 su,9 su,10,(13),(14),16 su,21 su,22,25,26 su,28,30"
   ]
  },
  {
   "cell_type": "code",
   "execution_count": null,
   "id": "2a643f35",
   "metadata": {},
   "outputs": [],
   "source": [
    "for ix,x in enumerate(diametri):\n",
    "    diametri[ix]=diametri[ix]-0.497\n",
    "diametri[7]=diametri[7]+0.5\n",
    "diametri[8]=diametri[8]+0.5\n",
    "diametri[15]=diametri[15]+0.5\n",
    "diametri[20]=diametri[20]+0.5\n",
    "diametri[25]=diametri[25]+0.5\n",
    "\n",
    "\n",
    "\n",
    "\n",
    "\n",
    "\n",
    "\n",
    "diametri"
   ]
  },
  {
   "cell_type": "code",
   "execution_count": null,
   "id": "b06d633e",
   "metadata": {},
   "outputs": [],
   "source": [
    "densità=np.empty((30))"
   ]
  },
  {
   "cell_type": "code",
   "execution_count": null,
   "id": "357020cc",
   "metadata": {
    "scrolled": true
   },
   "outputs": [],
   "source": [
    "for ix,x in enumerate(masse):\n",
    "    densità[ix]=4*masse[ix]/(math.pi*pow(diametri[ix],2)*lunghezze[ix])*1000\n",
    "    \n",
    "densità    "
   ]
  },
  {
   "cell_type": "markdown",
   "id": "d5aa5226",
   "metadata": {},
   "source": [
    "5,8 su,9 su,10,(13),(14),16 su,21 su,22,25,26 su,28,30\n",
    "26,28,13,14,25"
   ]
  },
  {
   "cell_type": "code",
   "execution_count": null,
   "id": "d3be2cfc",
   "metadata": {},
   "outputs": [],
   "source": [
    "for ix,x in enumerate(masse):\n",
    "    print ('{0} & {1} & {2} & {3} & {4} \\\\\\\\'.format(ix+1,masse[ix],lunghezze[ix],diametri[ix],densità[ix]))\n",
    "    ##print ('\\hline')"
   ]
  },
  {
   "cell_type": "code",
   "execution_count": null,
   "id": "b5e8e3ea",
   "metadata": {
    "scrolled": false
   },
   "outputs": [],
   "source": [
    "media=np.mean(densità)\n",
    "media"
   ]
  },
  {
   "cell_type": "markdown",
   "id": "eac27422",
   "metadata": {},
   "source": [
    "# Massa campione 1"
   ]
  },
  {
   "cell_type": "code",
   "execution_count": null,
   "id": "a7576e09",
   "metadata": {},
   "outputs": [],
   "source": [
    "massa1=np.array([6.1, 6.1, 6.0, 6.0, 6.1, 6.0, 6.0, 6.0, 6.1, 6.0, 6.0, 6.1, 6.0, 6.1, 6.1, 6.0, 6.1, 6.1, 6.0, 6.1, 6.1, 6.0, 6.1, 6.1, 6.1, 6.1, 6.1, 6.0, 6.2, 6.1, 6.1])"
   ]
  },
  {
   "cell_type": "code",
   "execution_count": null,
   "id": "f1d8c90f",
   "metadata": {},
   "outputs": [],
   "source": [
    "len(massa1)"
   ]
  },
  {
   "cell_type": "code",
   "execution_count": null,
   "id": "519a26a5",
   "metadata": {},
   "outputs": [],
   "source": [
    "std_massa1=np.std(massa1,ddof=1)"
   ]
  },
  {
   "cell_type": "code",
   "execution_count": null,
   "id": "9a77e837",
   "metadata": {},
   "outputs": [],
   "source": [
    "std_massa1"
   ]
  },
  {
   "cell_type": "code",
   "execution_count": null,
   "id": "4fedac49",
   "metadata": {},
   "outputs": [],
   "source": [
    "sigmaB=0.1/pow(12,1/2)\n",
    "sigmaB"
   ]
  },
  {
   "cell_type": "code",
   "execution_count": null,
   "id": "b82d5c8b",
   "metadata": {},
   "outputs": [],
   "source": [
    "sigmaA=std_massa1/pow(31,1/2)\n",
    "sigmaA"
   ]
  },
  {
   "cell_type": "code",
   "execution_count": null,
   "id": "acd50fa2",
   "metadata": {},
   "outputs": [],
   "source": [
    "sigmatotM=pow(pow(std_massa1,2)+pow(sigmaB,2),1/2)"
   ]
  },
  {
   "cell_type": "code",
   "execution_count": null,
   "id": "39f2908d",
   "metadata": {
    "scrolled": true
   },
   "outputs": [],
   "source": [
    "sigmatotM"
   ]
  },
  {
   "cell_type": "markdown",
   "id": "a9bb4d6d",
   "metadata": {},
   "source": [
    "# Altezza campione 1"
   ]
  },
  {
   "cell_type": "code",
   "execution_count": null,
   "id": "1f8beb4e",
   "metadata": {},
   "outputs": [],
   "source": [
    "altezza1=np.array([20.003, 20.003, 20.001, 20.004, 20.000, 20.000, 20.002, 20.003, 20.002, 20.001, 20.002, 20.003, 20.001, 20.002, 20.001, 20.000, 20.000, 20.000, 20.003, 20.001, 20.001, 20.000, 20.000, 20.000, 20.005, 20.003, 20.003, 20.003, 20.000, 20.002  ])\n",
    "for ix,x in enumerate(altezza1):\n",
    "    altezza1[ix]=altezza1[ix]+0.003"
   ]
  },
  {
   "cell_type": "code",
   "execution_count": null,
   "id": "7a31e1e0",
   "metadata": {},
   "outputs": [],
   "source": [
    "std_altezza1=np.std(altezza1, ddof=1)\n",
    "std_altezza1"
   ]
  },
  {
   "cell_type": "code",
   "execution_count": null,
   "id": "daaa96c1",
   "metadata": {
    "scrolled": true
   },
   "outputs": [],
   "source": [
    "sigmaB=0.004/pow(12,1/2)\n",
    "sigmaB"
   ]
  },
  {
   "cell_type": "code",
   "execution_count": null,
   "id": "75da2aaf",
   "metadata": {},
   "outputs": [],
   "source": [
    "sigmatotA=pow(pow(std_altezza1,2)+pow(sigmaB,2),1/2)\n",
    "sigmatotA"
   ]
  },
  {
   "cell_type": "markdown",
   "id": "b01c62e8",
   "metadata": {},
   "source": [
    "# Diametro campione 1"
   ]
  },
  {
   "cell_type": "code",
   "execution_count": null,
   "id": "d0eab564",
   "metadata": {},
   "outputs": [],
   "source": [
    "diametro1=np.array([12.465, 12.467, 12.468, 12.468,12.469, 12.468, 12.475, 12.463, 12.470, 12.462,12.466, 12.465, 12.471, 12.469, 12.459, 12.469, 12.468, 12.467, 12.463, 12.468, \n",
    "12.460, 12.455, 12.466, 12.467, 12.470, 12.460, 12.458, 12.459, 12.464, 12.467])\n",
    "for ix,x in enumerate(diametro1):\n",
    "    diametro1[ix]=diametro1[ix]-0.497"
   ]
  },
  {
   "cell_type": "code",
   "execution_count": null,
   "id": "81e492a5",
   "metadata": {},
   "outputs": [],
   "source": [
    "std_diametro1=np.std(diametro1, ddof=1)\n",
    "std_diametro1"
   ]
  },
  {
   "cell_type": "code",
   "execution_count": null,
   "id": "f09eb6f8",
   "metadata": {},
   "outputs": [],
   "source": [
    "sigmatotD=pow(pow(std_diametro1,2)+pow(sigmaB,2),1/2)\n",
    "sigmatotD"
   ]
  },
  {
   "cell_type": "markdown",
   "id": "5e11e616",
   "metadata": {},
   "source": [
    "# Incertezza su densità"
   ]
  },
  {
   "cell_type": "code",
   "execution_count": null,
   "id": "be8d7efd",
   "metadata": {},
   "outputs": [],
   "source": [
    "rel_masse=np.empty((30))\n",
    "rel_alt=np.empty((30))\n",
    "rel_diam=np.empty((30))\n",
    "sigmarho=np.empty((30))\n",
    "for ix,x in enumerate(masse):\n",
    "    rel_masse[ix]=sigmatotM/masse[ix]\n",
    "    rel_alt[ix]=sigmatotA/lunghezze[ix]\n",
    "    rel_diam[ix]=sigmatotD/diametri[ix]\n",
    "    sigmarho[ix]=densità[ix]*pow(pow(rel_masse[ix],2)+4*pow(rel_diam[ix],2)+pow(rel_alt[ix],2),1/2)"
   ]
  },
  {
   "cell_type": "code",
   "execution_count": null,
   "id": "894aa808",
   "metadata": {},
   "outputs": [],
   "source": [
    "sigmarho"
   ]
  },
  {
   "cell_type": "code",
   "execution_count": null,
   "id": "fc2a45a8",
   "metadata": {},
   "outputs": [],
   "source": [
    "sigmarho_round=np.round(sigmarho,3)\n",
    "sigmarho"
   ]
  },
  {
   "cell_type": "code",
   "execution_count": null,
   "id": "aa25a8ac",
   "metadata": {},
   "outputs": [],
   "source": [
    "densità_round=np.round(densità,3)\n",
    "densità"
   ]
  },
  {
   "cell_type": "code",
   "execution_count": null,
   "id": "d49df479",
   "metadata": {},
   "outputs": [],
   "source": [
    "len(densità)"
   ]
  },
  {
   "cell_type": "code",
   "execution_count": null,
   "id": "d5cb8fb4",
   "metadata": {
    "scrolled": true
   },
   "outputs": [],
   "source": [
    "for ix,x in enumerate(masse):\n",
    "    print ('{0} & {1} & {2} & {3} & {4}$\\pm${5} \\\\\\\\'.format(ix+1,masse[ix],np.round(lunghezze[ix],3),np.round(diametri[ix],3),densità_round[ix],sigmarho_round[ix]))\n",
    "    ##print ('\\hline')"
   ]
  },
  {
   "cell_type": "markdown",
   "id": "24287bb8",
   "metadata": {},
   "source": [
    "# Migliore stima densità"
   ]
  },
  {
   "cell_type": "code",
   "execution_count": null,
   "id": "1a519c40",
   "metadata": {
    "scrolled": true
   },
   "outputs": [],
   "source": [
    "N=0\n",
    "D=0\n",
    "for ix,x in enumerate(densità):\n",
    "    N=N+densità[ix]*(1/pow(sigmarho[ix],2))\n",
    "    D=D+1/pow(sigmarho[ix],2)\n",
    "rho=N/D\n",
    "s_rho=1/pow(D,1/2)\n",
    "print(s_rho)\n",
    "rho"
   ]
  },
  {
   "cell_type": "markdown",
   "id": "9e7ba54f",
   "metadata": {},
   "source": [
    "rho è la migliore stima della densità, mentre s_rho è la sua incertezza"
   ]
  },
  {
   "cell_type": "markdown",
   "id": "9a3ef643",
   "metadata": {},
   "source": [
    "# Istogrmma densità"
   ]
  },
  {
   "cell_type": "code",
   "execution_count": null,
   "id": "21924a95",
   "metadata": {},
   "outputs": [],
   "source": [
    "binsize=np.std(densità,ddof=1)*0.5\n",
    "interval=densità.max()-densità.min()\n",
    "nbins=int(interval/binsize)\n",
    "nbins"
   ]
  },
  {
   "cell_type": "code",
   "execution_count": null,
   "id": "03440fb3",
   "metadata": {},
   "outputs": [],
   "source": [
    "density_mean=np.mean(densità)\n",
    "density_mean\n"
   ]
  },
  {
   "cell_type": "code",
   "execution_count": null,
   "id": "862982fb",
   "metadata": {},
   "outputs": [],
   "source": [
    "counts , bins , patches = plt.hist(densità,bins=nbins,label='binsize=S/2',color=\"blue\",alpha=0.75)\n",
    "plt.xlabel('densità [g/cm^3]')\n",
    "plt.ylabel('Conteggi')\n",
    "plt.title(label='Istogramma delle densità:  $\\mu$={0:.3f} S={1:.3f}'.format(density_mean,np.std(densità,ddof=1)))\n",
    "plt.legend()\n",
    "\n",
    "\n",
    "lnspc = np.linspace(densità.min()-densità.std(), densità.max()+densità.std(), 100) \n",
    "norm_factor = densità.size * binsize\n",
    "f_gaus = norm_factor*stats.norm.pdf(lnspc,densità.mean(),densità.std())  \n",
    "plt.plot(lnspc, f_gaus, linewidth=1, color='r',linestyle='--')"
   ]
  },
  {
   "cell_type": "markdown",
   "id": "a9e2634b",
   "metadata": {},
   "source": [
    "# Metodo grafico"
   ]
  },
  {
   "cell_type": "code",
   "execution_count": null,
   "id": "008872ef",
   "metadata": {},
   "outputs": [],
   "source": [
    "masseG=np.array([18.3,30.7,48.2,62.5,75.3, 90.2,102.1,114.6,122.7,133.7])"
   ]
  },
  {
   "cell_type": "code",
   "execution_count": null,
   "id": "9e340c95",
   "metadata": {},
   "outputs": [],
   "source": [
    "volumiG=np.array([6,11,18,23,28,34,38,42,44,49])"
   ]
  },
  {
   "cell_type": "code",
   "execution_count": null,
   "id": "f0c5912c",
   "metadata": {},
   "outputs": [],
   "source": [
    "for ix,x in enumerate(masseG):\n",
    "    print ('{0} & {1} & {2} \\\\\\\\'.format(ix+1,masseG[ix],volumiG[ix]))"
   ]
  }
 ],
 "metadata": {
  "kernelspec": {
   "display_name": "Python 3 (ipykernel)",
   "language": "python",
   "name": "python3"
  },
  "language_info": {
   "codemirror_mode": {
    "name": "ipython",
    "version": 3
   },
   "file_extension": ".py",
   "mimetype": "text/x-python",
   "name": "python",
   "nbconvert_exporter": "python",
   "pygments_lexer": "ipython3",
   "version": "3.8.10"
  }
 },
 "nbformat": 4,
 "nbformat_minor": 5
}
