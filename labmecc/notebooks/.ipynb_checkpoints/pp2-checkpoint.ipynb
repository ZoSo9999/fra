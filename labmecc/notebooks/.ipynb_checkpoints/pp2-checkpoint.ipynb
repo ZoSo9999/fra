{
 "cells": [
  {
   "cell_type": "code",
   "execution_count": 1,
   "id": "7655bd48",
   "metadata": {},
   "outputs": [],
   "source": [
    "import numpy as np\n",
    "import math\n",
    "import matplotlib.pyplot as plt\n",
    "import matplotlib.mlab as mlab\n",
    "from scipy import stats\n",
    "import pandas as pd"
   ]
  },
  {
   "cell_type": "markdown",
   "id": "50fd51d7",
   "metadata": {},
   "source": [
    "# Array masse"
   ]
  },
  {
   "cell_type": "code",
   "execution_count": 2,
   "id": "267a9916",
   "metadata": {},
   "outputs": [],
   "source": [
    "masse5=np.array([392.2,392.1,392.2,392.1,392.2,392.2,392.2,392.2,392.2,392.2, 392.2,392.2,392.2,392.2,392.2,392.2,392.2,392.2,392.2,392.1])"
   ]
  },
  {
   "cell_type": "code",
   "execution_count": 3,
   "id": "dc97a4e0",
   "metadata": {},
   "outputs": [],
   "source": [
    "masse10=np.array([797.3,797.3,797.4,797.3,797.3,797.3,797.4,797.4,797.3,797.4,797.3,797.3,797.3,797.3,797.3,797.3,797.4,797.4,797.3,797.3])"
   ]
  },
  {
   "cell_type": "code",
   "execution_count": 4,
   "id": "1bc058eb",
   "metadata": {},
   "outputs": [
    {
     "name": "stdout",
     "output_type": "stream",
     "text": [
      "0.392185 0.7973299999999998 4.0824829046386304e-05\n"
     ]
    }
   ],
   "source": [
    "#medie\n",
    "M_masse5=np.mean(masse5)/1000\n",
    "M_masse10=np.mean(masse10)/1000\n",
    "\n",
    "#devizioni standard\n",
    "S_masse5=np.std(masse5)\n",
    "S_masse10=np.std(masse10)\n",
    "S_masse5     #TRASCURABILI\n",
    "S_masse10    #TRASCURABILI\n",
    "\n",
    "\n",
    "#sigma masse\n",
    "sigma_m=np.sqrt(2)*(0.1/np.sqrt(12))/1000\n",
    "print(M_masse5,M_masse10 ,sigma_m)"
   ]
  },
  {
   "cell_type": "markdown",
   "id": "f69c96cd",
   "metadata": {},
   "source": [
    "# Array equilibri"
   ]
  },
  {
   "cell_type": "code",
   "execution_count": 5,
   "id": "36e0eda8",
   "metadata": {},
   "outputs": [
    {
     "name": "stdout",
     "output_type": "stream",
     "text": [
      "0.04 0.00014433756729740645\n"
     ]
    }
   ],
   "source": [
    "M_eq1=40/1000\n",
    "\n",
    "#sigma equilibrio 1\n",
    "sigma_eq1=0.5/np.sqrt(12)/1000\n",
    "print(M_eq1,sigma_eq1)"
   ]
  },
  {
   "cell_type": "code",
   "execution_count": 6,
   "id": "5ca5c23e",
   "metadata": {},
   "outputs": [
    {
     "name": "stdout",
     "output_type": "stream",
     "text": [
      "0.12154999999999999 0.00018559214542766738\n"
     ]
    }
   ],
   "source": [
    "eq2=np.array([121,121,121.5,121.5,121.5,121.5,122,121.5,122,122])\n",
    "\n",
    "\n",
    "# eq2 medio\n",
    "M_eq2=np.mean(eq2)/1000\n",
    "\n",
    "#sigma equilibrio 2\n",
    "sigma_eq2=np.sqrt((np.std(eq2,ddof=1)/np.sqrt(10))**2+(0.5/np.sqrt(12))**2)/1000\n",
    "print(M_eq2,sigma_eq2)"
   ]
  },
  {
   "cell_type": "markdown",
   "id": "9904394a",
   "metadata": {},
   "source": [
    "# Array periodi"
   ]
  },
  {
   "cell_type": "markdown",
   "id": "9a8d03aa",
   "metadata": {},
   "source": [
    "10 periodi"
   ]
  },
  {
   "cell_type": "code",
   "execution_count": 7,
   "id": "0eb43ac9",
   "metadata": {},
   "outputs": [
    {
     "name": "stdout",
     "output_type": "stream",
     "text": [
      "0.013925108755272036\n",
      "0.594225 0.0013925108755272037\n"
     ]
    }
   ],
   "source": [
    "T_10_5=np.array([5.94, 5.96, 5.88, 5.84, 5.97, 5.94, 5.87, 5.96, 6.00, 5.94, \n",
    "                  5.97, 5.94, 6.08, 5.93, 5.91, 5.94, 5.95, 5.97, 5.96, 6.00, \n",
    "                  6.00, 5.97, 5.90, 5.95, 5.89, 5.89, 5.87, 5.94, 5.89, 5.94,\n",
    "                  5.88, 5.97, 5.95, 6.03, 5.94, 5.94, 5.89, 5.97, 5.90, 6.03])\n",
    "\n",
    "#medio\n",
    "M_T_10_5=np.mean(T_10_5)\n",
    "\n",
    "#sigma   (PARLARE DELL'INCERTEZZA TIPO B DA GIULIO OMESSA)\n",
    "sigma_T_10_5=np.sqrt((np.std(T_10_5,ddof=1)/np.sqrt(40))**2+(0.04/np.sqrt(12))**2)\n",
    "print(sigma_T_10_5)\n",
    "\n",
    "#divido per 10\n",
    "t_10_5=M_T_10_5/10\n",
    "sigma_t_10_5=sigma_T_10_5/10\n",
    "print(t_10_5,sigma_t_10_5)"
   ]
  },
  {
   "cell_type": "code",
   "execution_count": 8,
   "id": "b406cf02",
   "metadata": {},
   "outputs": [
    {
     "name": "stdout",
     "output_type": "stream",
     "text": [
      "0.014989258974858772\n",
      "0.8229749999999999 0.0014989258974858772\n"
     ]
    }
   ],
   "source": [
    "T_10_10=np.array([8.20, 8.27, 8.27, 8.19, 8.28, 8.19, 8.35, 8.21, 8.27, 8.28,\n",
    "                  8.28, 8.20, 8.33, 8.27, 8.21, 8.22, 8.25, 8.13, 8.13, 8.18, \n",
    "                  8.26, 8.34, 8.12, 8.14, 8.33, 8.20, 8.32, 8.21, 8.15, 8.20, \n",
    "                  8.20, 8.27, 8.20, 8.22, 8.25, 8.19, 8.14, 8.26, 8.26, 8.22])\n",
    "\n",
    "#medio\n",
    "M_T_10_10=np.mean(T_10_10)\n",
    "\n",
    "#sigma   (PARLARE DELL'INCERTEZZA TIPO B DA GIULIO OMESSA)\n",
    "sigma_T_10_10=np.sqrt((np.std(T_10_10,ddof=1)/np.sqrt(40))**2+(0.04/np.sqrt(12))**2)\n",
    "print(sigma_T_10_10)\n",
    "\n",
    "#divido per 10\n",
    "t_10_10=M_T_10_10/10\n",
    "sigma_t_10_10=sigma_T_10_10/10\n",
    "print(t_10_10,sigma_t_10_10)"
   ]
  },
  {
   "cell_type": "markdown",
   "id": "a048e227",
   "metadata": {},
   "source": [
    "40 periodi"
   ]
  },
  {
   "cell_type": "code",
   "execution_count": 9,
   "id": "03b7882b",
   "metadata": {},
   "outputs": [
    {
     "name": "stdout",
     "output_type": "stream",
     "text": [
      "0.020459988052565173\n",
      "0.593925 0.0005114997013141293\n"
     ]
    }
   ],
   "source": [
    "T_40_5=np.array([23.68, 23.84, 23.71, 23.81, 23.84, \n",
    "                 23.78, 23.75, 23.70, 23.71, 23.75])\n",
    "\n",
    "#medio\n",
    "M_T_40_5=np.mean(T_40_5)\n",
    "\n",
    "#sigma   (PARLARE DELL'INCERTEZZA TIPO B DA GIULIO OMESSA)\n",
    "sigma_T_40_5=np.sqrt((np.std(T_40_5,ddof=1)/np.sqrt(12))**2+(0.04/np.sqrt(12))**2)\n",
    "print(sigma_T_40_5)\n",
    "\n",
    "#divido per 40\n",
    "t_40_5=M_T_40_5/40\n",
    "sigma_t_40_5=sigma_T_40_5/40\n",
    "print(t_40_5,sigma_t_40_5)             #####QUESTO VIENE 0.020 NO 0.021"
   ]
  },
  {
   "cell_type": "code",
   "execution_count": 64,
   "id": "3fdbbd23",
   "metadata": {},
   "outputs": [
    {
     "name": "stdout",
     "output_type": "stream",
     "text": [
      "0.02829319795472147\n",
      "0.8233333333333333 0.0007073299488680368\n"
     ]
    }
   ],
   "source": [
    "T_40_10=np.array([32.97, 32.94, 33.07, 32.78, 32.88, 32.95,\n",
    "                         32.96, 32.82, 32.95, 33.03, 32.83, 33.02\n",
    "])\n",
    "\n",
    "\n",
    "#medio\n",
    "M_T_40_10=np.mean(T_40_10)\n",
    "\n",
    "#sigma   (PARLARE DELL'INCERTEZZA TIPO B DA GIULIO OMESSA)\n",
    "sigma_T_40_10=np.sqrt((np.std(T_40_10,ddof=1)/np.sqrt(12))**2+(0.04/np.sqrt(12))**2)\n",
    "print(sigma_T_40_10)\n",
    "\n",
    "#divido per 40\n",
    "t_40_10=M_T_40_10/40\n",
    "sigma_t_40_10=sigma_T_40_10/40\n",
    "print(t_40_10,sigma_t_40_10)            #####QUESTO VIENE 0.028 NO 0.029"
   ]
  },
  {
   "cell_type": "markdown",
   "id": "643bdd91",
   "metadata": {},
   "source": [
    "# k"
   ]
  },
  {
   "cell_type": "markdown",
   "id": "613ee249",
   "metadata": {},
   "source": [
    "10 periodi"
   ]
  },
  {
   "cell_type": "code",
   "execution_count": 11,
   "id": "e1aa28d7",
   "metadata": {},
   "outputs": [
    {
     "data": {
      "text/plain": [
       "0.452180392953494"
      ]
     },
     "execution_count": 11,
     "metadata": {},
     "output_type": "execute_result"
    }
   ],
   "source": [
    "k_10=4*np.pi**2*(M_masse10-M_masse5)/(t_10_10**2-t_10_5**2)\n",
    "k_10\n",
    "\n",
    "#incertezza con calcolatrice: 0.292410321\n",
    "\n",
    "s_k=np.sqrt(2*(4*np.pi**2*sigma_m/(t_10_10**2-t_10_5**2))**2+(8*np.pi**2*t_10_10*(M_masse10-M_masse5)*sigma_t_10_10/(t_10_10**2-t_10_5**2)**2)**2+(8*np.pi**2*t_10_5*(M_masse10-M_masse5)*sigma_t_10_5/(t_10_10**2-t_10_5**2)**2)**2)\n",
    "s_k"
   ]
  },
  {
   "cell_type": "markdown",
   "id": "1371b35b",
   "metadata": {},
   "source": [
    "40 periodi"
   ]
  },
  {
   "cell_type": "code",
   "execution_count": 12,
   "id": "e15d3c84",
   "metadata": {
    "scrolled": true
   },
   "outputs": [
    {
     "data": {
      "text/plain": [
       "0.19681487684205254"
      ]
     },
     "execution_count": 12,
     "metadata": {},
     "output_type": "execute_result"
    }
   ],
   "source": [
    "k_40=4*np.pi**2*(M_masse10-M_masse5)/(t_40_10**2-t_40_5**2)\n",
    "k_40\n",
    "\n",
    "#incertezza con calcolatrice: 0.198097825\n",
    "s_k=np.sqrt(2*(4*np.pi**2*sigma_m/(t_40_10**2-t_40_5**2))**2+(8*np.pi**2*t_40_10*(M_masse10-M_masse5)*sigma_t_40_10/(t_40_10**2-t_40_5**2)**2)**2+(8*np.pi**2*t_40_5*(M_masse10-M_masse5)*sigma_t_40_5/(t_40_10**2-t_40_5**2)**2)**2)\n",
    "s_k"
   ]
  },
  {
   "cell_type": "markdown",
   "id": "8ba6c0e6",
   "metadata": {},
   "source": [
    "# g"
   ]
  },
  {
   "cell_type": "markdown",
   "id": "1d194a0f",
   "metadata": {},
   "source": [
    "### 10 periodi"
   ]
  },
  {
   "cell_type": "code",
   "execution_count": 13,
   "id": "f2c46788",
   "metadata": {
    "scrolled": true
   },
   "outputs": [
    {
     "data": {
      "text/plain": [
       "9.930965100537962"
      ]
     },
     "execution_count": 13,
     "metadata": {},
     "output_type": "execute_result"
    }
   ],
   "source": [
    "g_10=4*np.pi**2*(M_eq2-M_eq1)/(t_10_10**2-t_10_5**2)\n",
    "g_10"
   ]
  },
  {
   "cell_type": "code",
   "execution_count": 14,
   "id": "0e1c4e0a",
   "metadata": {
    "scrolled": true
   },
   "outputs": [
    {
     "data": {
      "text/plain": [
       "0.09540415072117989"
      ]
     },
     "execution_count": 14,
     "metadata": {},
     "output_type": "execute_result"
    }
   ],
   "source": [
    "#INCERTEZZA CON FORMULE NOTEVOLI\n",
    "sigma_g_10=np.sqrt(sigma_eq2**2+sigma_eq1**2+(2*sigma_t_10_10*t_10_10)**2+(2*sigma_t_10_5*t_10_5)**2)*g_10\n",
    "sigma_g_10\n",
    "\n",
    "#INCERTEZZA CON DERIVATE calclatrice: 0.06227707982\n",
    "s_g=np.sqrt((4*np.pi**2*sigma_eq2/(t_10_10**2-t_10_5**2))**2+(4*np.pi**2*sigma_eq1/(t_10_10**2-t_10_5**2))**2+(8*np.pi**2*t_10_10*(M_eq2-M_eq1)*sigma_t_10_10/(t_10_10**2-t_10_5**2)**2)**2+(8*np.pi**2*t_10_5*(M_eq2-M_eq1)*sigma_t_10_5/(t_10_10**2-t_10_5**2)**2)**2)\n",
    "s_g"
   ]
  },
  {
   "cell_type": "markdown",
   "id": "461e03e8",
   "metadata": {},
   "source": [
    "### 40 periodi"
   ]
  },
  {
   "cell_type": "code",
   "execution_count": 15,
   "id": "ab86dfe9",
   "metadata": {
    "scrolled": false
   },
   "outputs": [
    {
     "data": {
      "text/plain": [
       "9.899969416111919"
      ]
     },
     "execution_count": 15,
     "metadata": {},
     "output_type": "execute_result"
    }
   ],
   "source": [
    "g_40=4*np.pi**2*(M_eq2-M_eq1)/(t_40_10**2-t_40_5**2)\n",
    "g_40\n",
    "\n",
    "#QUESTO VIENE DIVERSO CAPIRE IL PERCHÈ"
   ]
  },
  {
   "cell_type": "code",
   "execution_count": 16,
   "id": "0a7a6b09",
   "metadata": {},
   "outputs": [
    {
     "data": {
      "text/plain": [
       "0.04880667412879619"
      ]
     },
     "execution_count": 16,
     "metadata": {},
     "output_type": "execute_result"
    }
   ],
   "source": [
    "#INCERTEZZA CON FORMULE NOTEVOLI\n",
    "sigma_g_40=np.sqrt(sigma_eq2**2+sigma_eq1**2+(2*sigma_t_40_10*t_40_10)**2+(2*sigma_t_40_5*t_40_5)**2)*g_40\n",
    "sigma_g_40\n",
    "\n",
    "\n",
    "#INCERTEZZA CON DERIVATE qualche problema calcoaltrice: 0.04210448883\n",
    "s_g=np.sqrt((4*np.pi**2*sigma_eq2/(t_40_10**2-t_40_5**2))**2+(4*np.pi**2*sigma_eq1/(t_40_10**2-t_40_5**2))**2+(8*np.pi**2*t_40_10*(M_eq2-M_eq1)*sigma_t_40_10/(t_40_10**2-t_40_5**2)**2)**2+(8*np.pi**2*t_40_5*(M_eq2-M_eq1)*sigma_t_40_5/(t_40_10**2-t_40_5**2)**2)**2)\n",
    "s_g"
   ]
  },
  {
   "cell_type": "code",
   "execution_count": 17,
   "id": "16d7ac09",
   "metadata": {
    "scrolled": true
   },
   "outputs": [
    {
     "data": {
      "text/plain": [
       "1.9423695023528473"
      ]
     },
     "execution_count": 17,
     "metadata": {},
     "output_type": "execute_result"
    }
   ],
   "source": [
    "z=(g_10-9.81)/0.06227707982\n",
    "z"
   ]
  },
  {
   "cell_type": "markdown",
   "id": "83bfdb24",
   "metadata": {},
   "source": [
    "# Istogrammi"
   ]
  },
  {
   "cell_type": "code",
   "execution_count": 37,
   "id": "2e67a3d9",
   "metadata": {},
   "outputs": [],
   "source": [
    "t=T_10_5/10"
   ]
  },
  {
   "cell_type": "code",
   "execution_count": 42,
   "id": "cbf83676",
   "metadata": {},
   "outputs": [],
   "source": [
    "binsize=np.std(t,ddof=1)*0.7"
   ]
  },
  {
   "cell_type": "code",
   "execution_count": 43,
   "id": "4e91bac8",
   "metadata": {},
   "outputs": [],
   "source": [
    "interval=np.max(t)-np.min(t)"
   ]
  },
  {
   "cell_type": "code",
   "execution_count": 44,
   "id": "6fc53d17",
   "metadata": {},
   "outputs": [
    {
     "data": {
      "text/plain": [
       "6"
      ]
     },
     "execution_count": 44,
     "metadata": {},
     "output_type": "execute_result"
    }
   ],
   "source": [
    "nbin=int(interval/binsize)\n",
    "nbin"
   ]
  },
  {
   "cell_type": "code",
   "execution_count": 45,
   "id": "76ad4f22",
   "metadata": {},
   "outputs": [
    {
     "data": {
      "text/plain": [
       "Text(0.5, 1.0, 'Istogramma di T1 (dati raccolti su 10 peridi): $\\\\mu$=0.594 S=0.005')"
      ]
     },
     "execution_count": 45,
     "metadata": {},
     "output_type": "execute_result"
    },
    {
     "data": {
      "image/png": "[encoded data removed]",
      "text/plain": [
       "<Figure size 432x288 with 1 Axes>"
      ]
     },
     "metadata": {
      "needs_background": "light"
     },
     "output_type": "display_data"
    }
   ],
   "source": [
    "#istogramma\n",
    "plt.hist(t,bins=nbin,color='blue', alpha=0.75)\n",
    "plt.xlabel('T1[s]')\n",
    "plt.ylabel('Conteggi')\n",
    "plt.title(label='Istogramma di T1 (dati raccolti su 10 peridi): $\\mu$={0:.3f} S={1:.3f}'.format(np.mean(t),np.std(t,ddof=1)))\n",
    "\n",
    "#gaussiana\n",
    "#lnspc = np.linspace(t.min()-t.std(), t.max()+t.std(), 100) \n",
    "#norm_factor = t.size * binsize\n",
    "#f_gaus = norm_factor*stats.norm.pdf(lnspc,t.mean(),t.std())  \n",
    "#plt.plot(lnspc, f_gaus, linewidth=1, color='r',linestyle='--')"
   ]
  },
  {
   "cell_type": "code",
   "execution_count": 46,
   "id": "806d7af3",
   "metadata": {},
   "outputs": [
    {
     "data": {
      "text/plain": [
       "6"
      ]
     },
     "execution_count": 46,
     "metadata": {},
     "output_type": "execute_result"
    }
   ],
   "source": [
    "t=T_10_10/10\n",
    "binsize=np.std(t,ddof=1)*0.6\n",
    "interval=np.max(t)-np.min(t)\n",
    "nbin=int(interval/binsize)\n",
    "nbin"
   ]
  },
  {
   "cell_type": "code",
   "execution_count": 47,
   "id": "4288d80a",
   "metadata": {},
   "outputs": [
    {
     "data": {
      "text/plain": [
       "Text(0.5, 1.0, 'Istogramma di T2(dati raccolti su 10 periodi): $\\\\mu$=0.823 S=0.006')"
      ]
     },
     "execution_count": 47,
     "metadata": {},
     "output_type": "execute_result"
    },
    {
     "data": {
      "image/png": "[encoded data removed]",
      "text/plain": [
       "<Figure size 432x288 with 1 Axes>"
      ]
     },
     "metadata": {
      "needs_background": "light"
     },
     "output_type": "display_data"
    }
   ],
   "source": [
    "#istogramma\n",
    "plt.hist(t,bins=nbin,color='blue', alpha=0.75)\n",
    "plt.xlabel('T2[s]')\n",
    "plt.ylabel('Conteggi')\n",
    "plt.title(label='Istogramma di T2(dati raccolti su 10 periodi): $\\mu$={0:.3f} S={1:.3f}'.format(np.mean(t),np.std(t,ddof=1)))\n",
    "\n",
    "#gaussiana\n",
    "#lnspc = np.linspace(t.min()-t.std(), t.max()+t.std(), 100) \n",
    "#norm_factor = t.size * binsize\n",
    "#f_gaus = norm_factor*stats.norm.pdf(lnspc,t.mean(),t.std())  \n",
    "#plt.plot(lnspc, f_gaus, linewidth=1, color='r',linestyle='--')"
   ]
  },
  {
   "cell_type": "code",
   "execution_count": 48,
   "id": "49248e18",
   "metadata": {},
   "outputs": [
    {
     "data": {
      "text/plain": [
       "4"
      ]
     },
     "execution_count": 48,
     "metadata": {},
     "output_type": "execute_result"
    }
   ],
   "source": [
    "t=T_40_5/40\n",
    "binsize=np.std(t,ddof=1)*0.6\n",
    "interval=np.max(t)-np.min(t)\n",
    "nbin=int(interval/binsize)\n",
    "nbin"
   ]
  },
  {
   "cell_type": "code",
   "execution_count": 49,
   "id": "815a174f",
   "metadata": {},
   "outputs": [
    {
     "data": {
      "text/plain": [
       "Text(0.5, 1.0, 'Istogramma di T1* (dati raccolti su 40 periodi): $\\\\mu$=0.594 S=0.001')"
      ]
     },
     "execution_count": 49,
     "metadata": {},
     "output_type": "execute_result"
    },
    {
     "data": {
      "image/png": "[encoded data removed]",
      "text/plain": [
       "<Figure size 432x288 with 1 Axes>"
      ]
     },
     "metadata": {
      "needs_background": "light"
     },
     "output_type": "display_data"
    }
   ],
   "source": [
    "#istogramma\n",
    "plt.hist(t,bins=nbin,color='blue', alpha=0.75)\n",
    "plt.xlabel('T1*[s]')\n",
    "plt.ylabel('Conteggi')\n",
    "plt.title(label='Istogramma di T1* (dati raccolti su 40 periodi): $\\mu$={0:.3f} S={1:.3f}'.format(np.mean(t),np.std(t,ddof=1)))\n",
    "\n",
    "#gaussiana\n",
    "#lnspc = np.linspace(t.min()-t.std(), t.max()+t.std(), 100) \n",
    "#norm_factor = t.size * binsize\n",
    "#f_gaus = norm_factor*stats.norm.pdf(lnspc,t.mean(),t.std())  \n",
    "#plt.plot(lnspc, f_gaus, linewidth=1, color='r',linestyle='--')"
   ]
  },
  {
   "cell_type": "code",
   "execution_count": 65,
   "id": "c74fc089",
   "metadata": {},
   "outputs": [
    {
     "data": {
      "text/plain": [
       "6"
      ]
     },
     "execution_count": 65,
     "metadata": {},
     "output_type": "execute_result"
    }
   ],
   "source": [
    "t=T_40_10/40\n",
    "binsize=np.std(t,ddof=1)*0.5\n",
    "interval=np.max(t)-np.min(t)\n",
    "nbin=int(interval/binsize)\n",
    "nbin"
   ]
  },
  {
   "cell_type": "code",
   "execution_count": 66,
   "id": "653dcc32",
   "metadata": {},
   "outputs": [
    {
     "data": {
      "text/plain": [
       "Text(0.5, 1.0, 'Istogramma di T2* (dati raccolti su 40 periodi): $\\\\mu$=0.823 S=0.002')"
      ]
     },
     "execution_count": 66,
     "metadata": {},
     "output_type": "execute_result"
    },
    {
     "data": {
      "image/png": "[encoded data removed]",
      "text/plain": [
       "<Figure size 432x288 with 1 Axes>"
      ]
     },
     "metadata": {
      "needs_background": "light"
     },
     "output_type": "display_data"
    }
   ],
   "source": [
    "#istogramma\n",
    "plt.hist(t,bins=nbin,color='blue', alpha=0.75)\n",
    "plt.xlabel('T2*[s]')\n",
    "plt.ylabel('Conteggi')\n",
    "plt.title(label='Istogramma di T2* (dati raccolti su 40 periodi): $\\mu$={0:.3f} S={1:.3f}'.format(np.mean(t),np.std(t,ddof=1)))\n",
    "\n",
    "#gaussiana\n",
    "#lnspc = np.linspace(t.min()-t.std(), t.max()+t.std(), 100) \n",
    "#norm_factor = t.size * binsize\n",
    "#f_gaus = norm_factor*stats.norm.pdf(lnspc,t.mean(),t.std())  \n",
    "#plt.plot(lnspc, f_gaus, linewidth=1, color='r',linestyle='--')"
   ]
  },
  {
   "cell_type": "markdown",
   "id": "da6e3cd0",
   "metadata": {},
   "source": [
    "# Compatibilità"
   ]
  },
  {
   "cell_type": "code",
   "execution_count": 29,
   "id": "4f43d026",
   "metadata": {
    "scrolled": true
   },
   "outputs": [
    {
     "data": {
      "text/plain": [
       "-0.27436984238237194"
      ]
     },
     "execution_count": 29,
     "metadata": {},
     "output_type": "execute_result"
    }
   ],
   "source": [
    "Z= (49.18-49.27)/np.sqrt(0.2**2+0.26**2)\n",
    "Z"
   ]
  },
  {
   "cell_type": "markdown",
   "id": "bf8d9618",
   "metadata": {},
   "source": [
    "g1 [ms−2] 9.931±0.095 g3 [ms−2] 9.925±0.071\n",
    "g2 [ms−2] 9.900±0.050 g4 [ms−2] 9.921±0.072\n",
    "k1 [N m−1] 49.34±0.45 k3 [N m−1] 49.27±0.26\n",
    "k2 [N m−1] 49.18±0.20 "
   ]
  }
 ],
 "metadata": {
  "kernelspec": {
   "display_name": "Python 3 (ipykernel)",
   "language": "python",
   "name": "python3"
  },
  "language_info": {
   "codemirror_mode": {
    "name": "ipython",
    "version": 3
   },
   "file_extension": ".py",
   "mimetype": "text/x-python",
   "name": "python",
   "nbconvert_exporter": "python",
   "pygments_lexer": "ipython3",
   "version": "3.8.10"
  }
 },
 "nbformat": 4,
 "nbformat_minor": 5
}
