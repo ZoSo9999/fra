{
 "cells": [
  {
   "cell_type": "code",
   "execution_count": 5,
   "metadata": {},
   "outputs": [],
   "source": [
    "import matplotlib.pyplot as plt\n",
    "import numpy as np\n",
    "from scipy import stats\n",
    "import pandas as pd\n",
    "\n",
    "import sys\n",
    "sys.path.append(\"/home/zoso/Documenti/librerie\")\n",
    "import fra_lib as fra"
   ]
  },
  {
   "cell_type": "markdown",
   "metadata": {},
   "source": [
    "# Array dati"
   ]
  },
  {
   "cell_type": "code",
   "execution_count": 6,
   "metadata": {},
   "outputs": [
    {
     "name": "stdout",
     "output_type": "stream",
     "text": [
      "[176.411524 271.293841 320.732281 361.456144 463.497841]\n",
      "somma in quadratura delle incertezze: 0.10266612553969949\n",
      "somma in quadratura delle incertezze: 0.07683965989860522\n",
      "somma in quadratura delle incertezze: 0.07558585993571953\n",
      "somma in quadratura delle incertezze: 0.09203441385336983\n",
      "somma in quadratura delle incertezze: 0.06668249812023815\n",
      "[2.17024249 2.17433837 2.33809828 2.85551548 2.59342798] 0.24267032964268398\n",
      "somma in quadratura delle incertezze: 0.09609890738192611\n"
     ]
    },
    {
     "data": {
      "text/plain": [
       "23.464000000000002"
      ]
     },
     "execution_count": 6,
     "metadata": {},
     "output_type": "execute_result"
    }
   ],
   "source": [
    "n_bul = np.array([0, 2, 3, 4, 6])\n",
    "T_0= np.array([13.559,13.650,13.180,13.103,13.065,13.252,13.398,13.219,13.279,13.115])\n",
    "T_2=np.array([16.5, 16.39, 16.7, 16.45, 16.63, 16.45, 16.38, 16.4, 16.28, 16.53])\n",
    "T_3=np.array([17.82, 17.75, 18.09, 17.78, 17.83, 17.89, 18.01, 18.08, 17.89, 17.95])\n",
    "T_4=np.array([18.97, 18.81, 18.75, 18.94, 19.06, 19.25, 19, 19.26, 18.95, 19.13])\n",
    "T_6=np.array([21.4, 21.51, 21.45, 21.58, 21.45, 21.58, 21.68, 21.45, 21.57, 21.62])\n",
    "\n",
    "T_n=np.array([23.64, 23.59, 23.52, 23.2, 23.37])\n",
    "\n",
    "\n",
    "bulloni_misurati=np.array([53.8, 53.4, 53.9, 53.5, 53.4, 54])\n",
    "M=bulloni_misurati.mean()\n",
    "std= np.std(bulloni_misurati)\n",
    "T_quad=np.array([T_0.mean()**2, T_2.mean()**2, T_3.mean()**2, T_4.mean()**2, T_6.mean()**2])\n",
    "print(T_quad)\n",
    "\n",
    "a=fra.s_q(T_0, 0.053)\n",
    "b=fra.s_q(T_2, 0.053)\n",
    "c=fra.s_q(T_3, 0.053)\n",
    "d=fra.s_q(T_4, 0.053)\n",
    "e=fra.s_q(T_6, 0.053)\n",
    "u_T_quad= np.array([T_0.mean()*2*a, T_2.mean()*2*b, T_3.mean()*2*c, T_4.mean()*2*d, T_6.mean()*2*e])\n",
    "\n",
    "print(u_T_quad, std)\n",
    "\n",
    "\n",
    "fra.s_q(T_n, 0.053)\n",
    "T_n.mean()"
   ]
  },
  {
   "cell_type": "code",
   "execution_count": 7,
   "metadata": {},
   "outputs": [],
   "source": [
    "nM=np.array([M*0, M*2, M*3, M*4, M*6])\n",
    "nM=nM*0.001\n",
    "u_nM=np.array([std*0, std*2, std*3, std*4, std*6])\n",
    "u_nM=u_nM*0.001\n",
    "\n"
   ]
  },
  {
   "cell_type": "markdown",
   "metadata": {},
   "source": [
    "# Fit lineare"
   ]
  },
  {
   "cell_type": "code",
   "execution_count": 8,
   "metadata": {},
   "outputs": [
    {
     "name": "stdout",
     "output_type": "stream",
     "text": [
      "m         =  886.9658\n",
      "sigma(m)  =  9.9686\n",
      "c         =  176.1542\n",
      "sigma(c)  =  1.7879\n",
      "cov(m, c) =  -14.2999\n",
      "rho(m, c) =  -0.8023\n"
     ]
    },
    {
     "data": {
      "image/png": "[encoded data removed]",
      "text/plain": [
       "<Figure size 432x288 with 1 Axes>"
      ]
     },
     "metadata": {
      "needs_background": "light"
     },
     "output_type": "display_data"
    },
    {
     "name": "stdout",
     "output_type": "stream",
     "text": [
      "Chi^2mis = 4.2326\n",
      "ndf = 3\n",
      "p_value=0.24 > 0.05\n",
      "Test del Chi2 al livello di significatività alpha=0.05 superato\n"
     ]
    },
    {
     "data": {
      "image/png": "[encoded data removed]",
      "text/plain": [
       "<Figure size 432x288 with 1 Axes>"
      ]
     },
     "metadata": {
      "needs_background": "light"
     },
     "output_type": "display_data"
    }
   ],
   "source": [
    "m, sm, c, sc, cov, rho, alpha = fra.lin_fit(nM, T_quad, u_T_quad, xlabel=\"(nM) [kg]\", ylabel=\"$T^2$ [$s^2$]\", ylabel1=\"$T^2$\", uy_label=\"$s^2$\", plot=True, residui=False, chi2=True)\n",
    "\n",
    "fra.residui_norm(m, c, nM, T_quad, u_T_quad, y_label=\"T^2\", uy_label=\"s^2\", x_label=\"nM[kg]\")"
   ]
  },
  {
   "cell_type": "code",
   "execution_count": 7,
   "metadata": {},
   "outputs": [
    {
     "name": "stdout",
     "output_type": "stream",
     "text": [
      "[0.         0.43048056 0.64572084 0.86096112 1.29144168] [2.17024249 2.17433837 2.33809828 2.85551548 2.59342798]\n"
     ]
    }
   ],
   "source": [
    "print(u_nM*m, u_T_quad)"
   ]
  },
  {
   "cell_type": "code",
   "execution_count": 15,
   "metadata": {},
   "outputs": [
    {
     "name": "stdout",
     "output_type": "stream",
     "text": [
      "23.30813824239344 0.0028995016420571783\n"
     ]
    }
   ],
   "source": [
    "a,b=fra.y_estrapolato(0.4139, m, c, sm, sc, cov)\n",
    "\n",
    "b=b**2+m**2*0.0014**2\n",
    "print(np.sqrt(a), np.sqrt(b)/(2*a))"
   ]
  },
  {
   "cell_type": "code",
   "execution_count": 16,
   "metadata": {},
   "outputs": [
    {
     "data": {
      "text/plain": [
       "-1.6242590655478202"
      ]
     },
     "execution_count": 16,
     "metadata": {},
     "output_type": "execute_result"
    }
   ],
   "source": [
    "fra.confronto(23.308, 23.464, 0.096, 0.0029)\n",
    "#\n",
    "# incertezze con nuovo uy\n",
    "#uy = np.sqrt((m*u_nM)**2+u_T_quad**2)\n",
    "#m, sm, c, sc, cov, rho, alpha = fra.lin_fit(nM, T_quad, uy, xlabel=\"x [ux]\", ylabel=\"y [uy]\", ylabel1=\"y\", uy_label=\"uy\", plot=True, residui=True, chi2=False)"
   ]
  },
  {
   "cell_type": "markdown",
   "metadata": {},
   "source": [
    "## Tabella input"
   ]
  },
  {
   "cell_type": "code",
   "execution_count": 17,
   "metadata": {},
   "outputs": [
    {
     "name": "stdout",
     "output_type": "stream",
     "text": [
      "$\\overline{x}$ & 0.1 & UNITÀ \\\\ \n",
      "\\hline \n",
      "\n",
      "$\\overline{y}$ & 303.8 & UNITÀ \\\\ \n",
      "\\hline \n",
      "\n",
      "$\\overline{x^2}$ & 0.0 & UNITÀ \\\\ \n",
      "\\hline \n",
      "\n",
      "$\\overline{xy}$ & 53.9 & UNITÀ \\\\ \n",
      "\\hline \n",
      "\n",
      "$Var[x]$ & 0.0 & UNITÀ \\\\ \n",
      "\\hline \n",
      "\n",
      "$Cov[x,y]$ & 10.2 & UNITÀ \\\\ \n",
      "\\hline \n",
      "\n",
      "$\\sum_i \\sigma_{y_i}^{-2}$ & 0.9 & UNITÀ \\\\ \n",
      "\\hline \n",
      "\n"
     ]
    }
   ],
   "source": [
    "#è sufficiente mettere al posto di x array sulle X, al posto di y array sulle Y\n",
    "    #al posto di uy l'array delle incertezze definitive\n",
    "# le unità di misura sono quelle ovvie per le medie, per la varianza e unità di x \n",
    "    #al quadrato, per la coavrianza prodotto tra x e y e per l'ultima riga l'inverso\n",
    "    #al quadrato di y\n",
    "\n",
    "fra.saint_tab(nM, T_quad, u_T_quad)"
   ]
  }
 ],
 "metadata": {
  "interpreter": {
   "hash": "916dbcbb3f70747c44a77c7bcd40155683ae19c65e1c03b4aa3499c5328201f1"
  },
  "kernelspec": {
   "display_name": "Python 3.8.10 64-bit",
   "language": "python",
   "name": "python3"
  },
  "language_info": {
   "codemirror_mode": {
    "name": "ipython",
    "version": 3
   },
   "file_extension": ".py",
   "mimetype": "text/x-python",
   "name": "python",
   "nbconvert_exporter": "python",
   "pygments_lexer": "ipython3",
   "version": "3.8.10"
  },
  "orig_nbformat": 4
 },
 "nbformat": 4,
 "nbformat_minor": 2
}
