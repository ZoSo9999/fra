{
 "cells": [
  {
   "cell_type": "code",
   "execution_count": 1,
   "id": "b26e3120",
   "metadata": {},
   "outputs": [],
   "source": [
    "import numpy as np\n",
    "import math\n",
    "import matplotlib.pyplot as plt\n",
    "import matplotlib.mlab as mlab\n",
    "from scipy import stats\n",
    "import pandas as pd"
   ]
  },
  {
   "cell_type": "markdown",
   "id": "4fdb0da9",
   "metadata": {},
   "source": [
    "# Misure dei 30 cilindri"
   ]
  },
  {
   "cell_type": "code",
   "execution_count": 2,
   "id": "49dedb19",
   "metadata": {},
   "outputs": [
    {
     "data": {
      "text/plain": [
       "array([6.1, 6.1, 6.1, 4.2, 4.1, 4.3, 4.3, 6.5, 6.7, 4.1, 6.1, 4.2, 4. ,\n",
       "       4.3, 4.5, 2.7, 6.1, 6.1, 2.7, 2.4, 6.7, 3.6, 4.4, 4.3, 2.6, 2.7,\n",
       "       2.7, 2.6, 4.2, 4.1])"
      ]
     },
     "execution_count": 2,
     "metadata": {},
     "output_type": "execute_result"
    }
   ],
   "source": [
    "masse=np.array([6.1,6.1,6.1,4.2,4.1,4.3,4.3,6.5,6.7,4.1,6.1,4.2,4.0,4.3,4.5,2.7,6.1,6.1,2.7,2.4,6.7,3.6,4.4,4.3,2.6,2.7,2.7,2.6,4.2,4.1])\n",
    "masse=np.round(masse,3)\n",
    "masse"
   ]
  },
  {
   "cell_type": "code",
   "execution_count": 3,
   "id": "f8621589",
   "metadata": {},
   "outputs": [
    {
     "name": "stdout",
     "output_type": "stream",
     "text": [
      "1 20.003\n",
      "2 20.455\n",
      "3 20.488\n",
      "4 20.489\n",
      "5 20.07\n",
      "6 20.811\n",
      "7 20.595\n",
      "8 21.136\n",
      "9 21.685\n",
      "10 20.085\n",
      "11 20.202\n",
      "12 20.49\n",
      "13 20.051\n",
      "14 21.318\n",
      "15 21.102\n",
      "16 20.09\n",
      "17 20.03\n",
      "18 20.491\n",
      "19 20.49\n",
      "20 18.0\n",
      "21 21.621\n",
      "22 18.462\n",
      "23 21.1\n",
      "24 20.888\n",
      "25 20.475\n",
      "26 20.56\n",
      "27 20.045\n",
      "28 20.489\n",
      "29 20.038\n",
      "30 20.05\n"
     ]
    }
   ],
   "source": [
    "lunghezze=np.array([20.003,20.455,20.488,20.489,20.070,20.811,20.595,21.136,21.685,20.085,20.202,20.490,20.051,21.318,21.102,20.090,20.030,20.491,20.490,18.00,21.621,18.462,21.100,20.888,20.475,20.560,20.045,20.489,20.038,20.050])\n",
    "\n",
    "for ix,x in enumerate(lunghezze):\n",
    "    print(ix+1,lunghezze[ix])"
   ]
  },
  {
   "cell_type": "markdown",
   "id": "ddaaf329",
   "metadata": {},
   "source": [
    "5,8 su,9 su,10,(13),(14),16 su,21 su,22,25,26 su,28,30"
   ]
  },
  {
   "cell_type": "code",
   "execution_count": 4,
   "id": "8b412aa5",
   "metadata": {},
   "outputs": [
    {
     "data": {
      "text/plain": [
       "array([20.006, 19.958, 19.991, 19.992, 20.073, 20.814, 20.598, 21.139,\n",
       "       21.688, 20.088, 20.205, 19.993, 20.054, 21.321, 21.105, 20.093,\n",
       "       20.033, 19.994, 19.993, 18.003, 21.624, 17.965, 21.103, 20.891,\n",
       "       19.978, 20.563, 20.048, 19.992, 20.041, 20.053])"
      ]
     },
     "execution_count": 4,
     "metadata": {},
     "output_type": "execute_result"
    }
   ],
   "source": [
    "for ix,x in enumerate(lunghezze):\n",
    "    lunghezze[ix]=lunghezze[ix]+0.003\n",
    "\n",
    "lunghezze[1]=lunghezze[1]-0.5\n",
    "lunghezze[2]=lunghezze[2]-0.5\n",
    "\n",
    "lunghezze[3]=lunghezze[3]-0.5\n",
    "lunghezze[11]=lunghezze[11]-0.5\n",
    "lunghezze[17]=lunghezze[17]-0.5\n",
    "lunghezze[18]=lunghezze[18]-0.5\n",
    "lunghezze[21]=lunghezze[21]-0.5\n",
    "lunghezze[24]=lunghezze[24]-0.5\n",
    "\n",
    "lunghezze[27]=lunghezze[27]-0.5\n",
    "\n",
    "\n",
    "    \n",
    "lunghezze"
   ]
  },
  {
   "cell_type": "code",
   "execution_count": 5,
   "id": "ea7cbb31",
   "metadata": {},
   "outputs": [
    {
     "data": {
      "text/plain": [
       "(2, 3, 4, 12, 18, 19, 22, 25, 28)"
      ]
     },
     "execution_count": 5,
     "metadata": {},
     "output_type": "execute_result"
    }
   ],
   "source": [
    "2,3,4,12,18,19,22,25,28\n"
   ]
  },
  {
   "cell_type": "code",
   "execution_count": 6,
   "id": "a011ae4e",
   "metadata": {},
   "outputs": [
    {
     "data": {
      "text/plain": [
       "array([12.465, 12.46 , 12.467, 10.435, 10.459, 10.456, 10.458, 12.115,\n",
       "       12.115, 10.454, 12.452, 10.447, 10.463, 10.46 , 10.458,  8.026,\n",
       "       12.463, 12.455,  8.458,  8.5  , 12.11 , 10.453, 10.453, 10.459,\n",
       "        8.461,  8.042,  8.458,  8.443, 10.455, 10.458])"
      ]
     },
     "execution_count": 6,
     "metadata": {},
     "output_type": "execute_result"
    }
   ],
   "source": [
    "diametri=np.array([12.465,12.460,12.467,10.435,10.459,10.456,10.458,12.115,12.115,10.454,12.452,10.447,10.463,10.460,10.458,8.026,12.463,12.455,8.458,8.500,12.110,10.453,10.453,10.459,8.461,8.042,8.458,8.443,10.455,10.458])\n",
    "diametri"
   ]
  },
  {
   "cell_type": "markdown",
   "id": "db1aa40d",
   "metadata": {},
   "source": [
    "5,8 su,9 su,10,(13),(14),16 su,21 su,22,25,26 su,28,30"
   ]
  },
  {
   "cell_type": "code",
   "execution_count": 7,
   "id": "2a643f35",
   "metadata": {},
   "outputs": [
    {
     "data": {
      "text/plain": [
       "array([11.968, 11.963, 11.97 ,  9.938,  9.962,  9.959,  9.961, 12.118,\n",
       "       12.118,  9.957, 11.955,  9.95 ,  9.966,  9.963,  9.961,  8.029,\n",
       "       11.966, 11.958,  7.961,  8.003, 12.113,  9.956,  9.956,  9.962,\n",
       "        7.964,  8.045,  7.961,  7.946,  9.958,  9.961])"
      ]
     },
     "execution_count": 7,
     "metadata": {},
     "output_type": "execute_result"
    }
   ],
   "source": [
    "for ix,x in enumerate(diametri):\n",
    "    diametri[ix]=diametri[ix]-0.497\n",
    "diametri[7]=diametri[7]+0.5\n",
    "diametri[8]=diametri[8]+0.5\n",
    "diametri[15]=diametri[15]+0.5\n",
    "diametri[20]=diametri[20]+0.5\n",
    "diametri[25]=diametri[25]+0.5\n",
    "\n",
    "\n",
    "\n",
    "\n",
    "\n",
    "\n",
    "\n",
    "diametri"
   ]
  },
  {
   "cell_type": "code",
   "execution_count": 8,
   "id": "b06d633e",
   "metadata": {},
   "outputs": [],
   "source": [
    "densità=np.empty((30))"
   ]
  },
  {
   "cell_type": "code",
   "execution_count": 9,
   "id": "357020cc",
   "metadata": {
    "scrolled": true
   },
   "outputs": [
    {
     "data": {
      "text/plain": [
       "array([2.71041959, 2.71920988, 2.71154698, 2.70835245, 2.62052686,\n",
       "       2.65211016, 2.67884534, 2.66610433, 2.67857321, 2.62120062,\n",
       "       2.68956434, 2.70168855, 2.55698002, 2.58696613, 2.73609641,\n",
       "       2.65403217, 2.70767145, 2.71658418, 2.71306794, 2.65015237,\n",
       "       2.68871924, 2.57404196, 2.67823586, 2.64074381, 2.61257613,\n",
       "       2.58306485, 2.70562486, 2.6225882 , 2.69088896, 2.62366717])"
      ]
     },
     "execution_count": 9,
     "metadata": {},
     "output_type": "execute_result"
    }
   ],
   "source": [
    "for ix,x in enumerate(masse):\n",
    "    densità[ix]=4*masse[ix]/(math.pi*pow(diametri[ix],2)*lunghezze[ix])*1000\n",
    "    \n",
    "densità    "
   ]
  },
  {
   "cell_type": "markdown",
   "id": "d5aa5226",
   "metadata": {},
   "source": [
    "5,8 su,9 su,10,(13),(14),16 su,21 su,22,25,26 su,28,30\n",
    "26,28,13,14,25"
   ]
  },
  {
   "cell_type": "code",
   "execution_count": 10,
   "id": "d3be2cfc",
   "metadata": {},
   "outputs": [
    {
     "name": "stdout",
     "output_type": "stream",
     "text": [
      "1 & 6.1 & 20.006 & 11.968 & 2.710419593360151 \\\\\n",
      "2 & 6.1 & 19.958 & 11.963000000000001 & 2.719209882114117 \\\\\n",
      "3 & 6.1 & 19.991 & 11.97 & 2.711546981807067 \\\\\n",
      "4 & 4.2 & 19.992 & 9.938 & 2.708352454508654 \\\\\n",
      "5 & 4.1 & 20.073 & 9.962 & 2.6205268627045513 \\\\\n",
      "6 & 4.3 & 20.814 & 9.959 & 2.652110159774611 \\\\\n",
      "7 & 4.3 & 20.598 & 9.961 & 2.6788453360431532 \\\\\n",
      "8 & 6.5 & 21.139 & 12.118 & 2.6661043298690195 \\\\\n",
      "9 & 6.7 & 21.688 & 12.118 & 2.6785732072679544 \\\\\n",
      "10 & 4.1 & 20.088 & 9.957 & 2.621200616276974 \\\\\n",
      "11 & 6.1 & 20.205000000000002 & 11.955 & 2.689564339929149 \\\\\n",
      "12 & 4.2 & 19.993 & 9.95 & 2.7016885459102298 \\\\\n",
      "13 & 4.0 & 20.054 & 9.966 & 2.5569800151882407 \\\\\n",
      "14 & 4.3 & 21.321 & 9.963000000000001 & 2.586966134089098 \\\\\n",
      "15 & 4.5 & 21.105 & 9.961 & 2.736096406595769 \\\\\n",
      "16 & 2.7 & 20.093 & 8.029 & 2.6540321699802227 \\\\\n",
      "17 & 6.1 & 20.033 & 11.966 & 2.7076714492116674 \\\\\n",
      "18 & 6.1 & 19.994 & 11.958 & 2.7165841828143056 \\\\\n",
      "19 & 2.7 & 19.993 & 7.961 & 2.7130679373102486 \\\\\n",
      "20 & 2.4 & 18.003 & 8.003 & 2.650152374512781 \\\\\n",
      "21 & 6.7 & 21.624 & 12.113 & 2.6887192355153586 \\\\\n",
      "22 & 3.6 & 17.965 & 9.956 & 2.5740419590248242 \\\\\n",
      "23 & 4.4 & 21.103 & 9.956 & 2.678235857633147 \\\\\n",
      "24 & 4.3 & 20.891000000000002 & 9.962 & 2.6407438093284936 \\\\\n",
      "25 & 2.6 & 19.978 & 7.964 & 2.612576133213472 \\\\\n",
      "26 & 2.7 & 20.563 & 8.045 & 2.583064854574465 \\\\\n",
      "27 & 2.7 & 20.048000000000002 & 7.961 & 2.7056248638589278 \\\\\n",
      "28 & 2.6 & 19.992 & 7.946 & 2.6225881953037886 \\\\\n",
      "29 & 4.2 & 20.041 & 9.958 & 2.690888961367233 \\\\\n",
      "30 & 4.1 & 20.053 & 9.961 & 2.623667172115396 \\\\\n"
     ]
    }
   ],
   "source": [
    "for ix,x in enumerate(masse):\n",
    "    print ('{0} & {1} & {2} & {3} & {4} \\\\\\\\'.format(ix+1,masse[ix],lunghezze[ix],diametri[ix],densità[ix]))\n",
    "    ##print ('\\hline')"
   ]
  },
  {
   "cell_type": "code",
   "execution_count": 11,
   "id": "b5e8e3ea",
   "metadata": {
    "scrolled": false
   },
   "outputs": [
    {
     "data": {
      "text/plain": [
       "2.6633281340401016"
      ]
     },
     "execution_count": 11,
     "metadata": {},
     "output_type": "execute_result"
    }
   ],
   "source": [
    "media=np.mean(densità)\n",
    "media"
   ]
  },
  {
   "cell_type": "markdown",
   "id": "eac27422",
   "metadata": {},
   "source": [
    "# Massa campione 1"
   ]
  },
  {
   "cell_type": "code",
   "execution_count": 12,
   "id": "a7576e09",
   "metadata": {},
   "outputs": [],
   "source": [
    "massa1=np.array([6.1, 6.1, 6.0, 6.0, 6.1, 6.0, 6.0, 6.0, 6.1, 6.0, 6.0, 6.1, 6.0, 6.1, 6.1, 6.0, 6.1, 6.1, 6.0, 6.1, 6.1, 6.0, 6.1, 6.1, 6.1, 6.1, 6.1, 6.0, 6.2, 6.1, 6.1])"
   ]
  },
  {
   "cell_type": "code",
   "execution_count": 13,
   "id": "f1d8c90f",
   "metadata": {},
   "outputs": [
    {
     "data": {
      "text/plain": [
       "31"
      ]
     },
     "execution_count": 13,
     "metadata": {},
     "output_type": "execute_result"
    }
   ],
   "source": [
    "len(massa1)"
   ]
  },
  {
   "cell_type": "code",
   "execution_count": 14,
   "id": "519a26a5",
   "metadata": {},
   "outputs": [],
   "source": [
    "std_massa1=np.std(massa1,ddof=1)"
   ]
  },
  {
   "cell_type": "code",
   "execution_count": 15,
   "id": "9a77e837",
   "metadata": {},
   "outputs": [
    {
     "data": {
      "text/plain": [
       "0.05506594287321444"
      ]
     },
     "execution_count": 15,
     "metadata": {},
     "output_type": "execute_result"
    }
   ],
   "source": [
    "std_massa1"
   ]
  },
  {
   "cell_type": "code",
   "execution_count": 16,
   "id": "4fedac49",
   "metadata": {},
   "outputs": [
    {
     "data": {
      "text/plain": [
       "0.02886751345948129"
      ]
     },
     "execution_count": 16,
     "metadata": {},
     "output_type": "execute_result"
    }
   ],
   "source": [
    "sigmaB=0.1/pow(12,1/2)\n",
    "sigmaB"
   ]
  },
  {
   "cell_type": "code",
   "execution_count": 17,
   "id": "b82d5c8b",
   "metadata": {},
   "outputs": [
    {
     "data": {
      "text/plain": [
       "0.009890135301132813"
      ]
     },
     "execution_count": 17,
     "metadata": {},
     "output_type": "execute_result"
    }
   ],
   "source": [
    "sigmaA=std_massa1/pow(31,1/2)\n",
    "sigmaA"
   ]
  },
  {
   "cell_type": "code",
   "execution_count": 18,
   "id": "acd50fa2",
   "metadata": {},
   "outputs": [],
   "source": [
    "sigmatotM=pow(pow(std_massa1,2)+pow(sigmaB,2),1/2)"
   ]
  },
  {
   "cell_type": "code",
   "execution_count": 19,
   "id": "39f2908d",
   "metadata": {
    "scrolled": true
   },
   "outputs": [
    {
     "data": {
      "text/plain": [
       "0.062173880350589746"
      ]
     },
     "execution_count": 19,
     "metadata": {},
     "output_type": "execute_result"
    }
   ],
   "source": [
    "sigmatotM"
   ]
  },
  {
   "cell_type": "markdown",
   "id": "a9bb4d6d",
   "metadata": {},
   "source": [
    "# Altezza campione 1"
   ]
  },
  {
   "cell_type": "code",
   "execution_count": 20,
   "id": "1f8beb4e",
   "metadata": {},
   "outputs": [],
   "source": [
    "altezza1=np.array([20.003, 20.003, 20.001, 20.004, 20.000, 20.000, 20.002, 20.003, 20.002, 20.001, 20.002, 20.003, 20.001, 20.002, 20.001, 20.000, 20.000, 20.000, 20.003, 20.001, 20.001, 20.000, 20.000, 20.000, 20.005, 20.003, 20.003, 20.003, 20.000, 20.002  ])\n",
    "for ix,x in enumerate(altezza1):\n",
    "    altezza1[ix]=altezza1[ix]+0.003"
   ]
  },
  {
   "cell_type": "code",
   "execution_count": 21,
   "id": "7a31e1e0",
   "metadata": {},
   "outputs": [
    {
     "data": {
      "text/plain": [
       "0.0014259499757470267"
      ]
     },
     "execution_count": 21,
     "metadata": {},
     "output_type": "execute_result"
    }
   ],
   "source": [
    "std_altezza1=np.std(altezza1, ddof=1)\n",
    "std_altezza1"
   ]
  },
  {
   "cell_type": "code",
   "execution_count": 22,
   "id": "daaa96c1",
   "metadata": {
    "scrolled": true
   },
   "outputs": [
    {
     "data": {
      "text/plain": [
       "0.0011547005383792516"
      ]
     },
     "execution_count": 22,
     "metadata": {},
     "output_type": "execute_result"
    }
   ],
   "source": [
    "sigmaB=0.004/pow(12,1/2)\n",
    "sigmaB"
   ]
  },
  {
   "cell_type": "code",
   "execution_count": 23,
   "id": "75da2aaf",
   "metadata": {},
   "outputs": [
    {
     "data": {
      "text/plain": [
       "0.0018348478592696124"
      ]
     },
     "execution_count": 23,
     "metadata": {},
     "output_type": "execute_result"
    }
   ],
   "source": [
    "sigmatotA=pow(pow(std_altezza1,2)+pow(sigmaB,2),1/2)\n",
    "sigmatotA"
   ]
  },
  {
   "cell_type": "markdown",
   "id": "b01c62e8",
   "metadata": {},
   "source": [
    "# Diametro campione 1"
   ]
  },
  {
   "cell_type": "code",
   "execution_count": 24,
   "id": "d0eab564",
   "metadata": {},
   "outputs": [],
   "source": [
    "diametro1=np.array([12.465, 12.467, 12.468, 12.468,12.469, 12.468, 12.475, 12.463, 12.470, 12.462,12.466, 12.465, 12.471, 12.469, 12.459, 12.469, 12.468, 12.467, 12.463, 12.468, \n",
    "12.460, 12.455, 12.466, 12.467, 12.470, 12.460, 12.458, 12.459, 12.464, 12.467])\n",
    "for ix,x in enumerate(diametro1):\n",
    "    diametro1[ix]=diametro1[ix]-0.497"
   ]
  },
  {
   "cell_type": "code",
   "execution_count": 25,
   "id": "81e492a5",
   "metadata": {},
   "outputs": [
    {
     "data": {
      "text/plain": [
       "0.004462358533125804"
      ]
     },
     "execution_count": 25,
     "metadata": {},
     "output_type": "execute_result"
    }
   ],
   "source": [
    "std_diametro1=np.std(diametro1, ddof=1)\n",
    "std_diametro1"
   ]
  },
  {
   "cell_type": "code",
   "execution_count": 26,
   "id": "f09eb6f8",
   "metadata": {},
   "outputs": [
    {
     "data": {
      "text/plain": [
       "0.00460933585362295"
      ]
     },
     "execution_count": 26,
     "metadata": {},
     "output_type": "execute_result"
    }
   ],
   "source": [
    "sigmatotD=pow(pow(std_diametro1,2)+pow(sigmaB,2),1/2)\n",
    "sigmatotD"
   ]
  },
  {
   "cell_type": "markdown",
   "id": "5e11e616",
   "metadata": {},
   "source": [
    "# Incertezza su densità"
   ]
  },
  {
   "cell_type": "code",
   "execution_count": 27,
   "id": "be8d7efd",
   "metadata": {},
   "outputs": [],
   "source": [
    "rel_masse=np.empty((30))\n",
    "rel_alt=np.empty((30))\n",
    "rel_diam=np.empty((30))\n",
    "sigmarho=np.empty((30))\n",
    "for ix,x in enumerate(masse):\n",
    "    rel_masse[ix]=sigmatotM/masse[ix]\n",
    "    rel_alt[ix]=sigmatotA/lunghezze[ix]\n",
    "    rel_diam[ix]=sigmatotD/diametri[ix]\n",
    "    sigmarho[ix]=densità[ix]*pow(pow(rel_masse[ix],2)+4*pow(rel_diam[ix],2)+pow(rel_alt[ix],2),1/2)"
   ]
  },
  {
   "cell_type": "code",
   "execution_count": 28,
   "id": "894aa808",
   "metadata": {},
   "outputs": [
    {
     "data": {
      "text/plain": [
       "array([0.02770568, 0.02779561, 0.02771718, 0.04017197, 0.03981326,\n",
       "       0.03842619, 0.03881353, 0.02558343, 0.02494073, 0.03982357,\n",
       "       0.02749265, 0.04007294, 0.03981535, 0.03748223, 0.03788851,\n",
       "       0.06119177, 0.02767761, 0.02776883, 0.06255424, 0.06872264,\n",
       "       0.02503527, 0.04451967, 0.0379265 , 0.03826145, 0.06254823,\n",
       "       0.05955522, 0.06238262, 0.06278826, 0.03991263, 0.03986098])"
      ]
     },
     "execution_count": 28,
     "metadata": {},
     "output_type": "execute_result"
    }
   ],
   "source": [
    "sigmarho"
   ]
  },
  {
   "cell_type": "code",
   "execution_count": 29,
   "id": "fc2a45a8",
   "metadata": {},
   "outputs": [
    {
     "data": {
      "text/plain": [
       "array([0.02770568, 0.02779561, 0.02771718, 0.04017197, 0.03981326,\n",
       "       0.03842619, 0.03881353, 0.02558343, 0.02494073, 0.03982357,\n",
       "       0.02749265, 0.04007294, 0.03981535, 0.03748223, 0.03788851,\n",
       "       0.06119177, 0.02767761, 0.02776883, 0.06255424, 0.06872264,\n",
       "       0.02503527, 0.04451967, 0.0379265 , 0.03826145, 0.06254823,\n",
       "       0.05955522, 0.06238262, 0.06278826, 0.03991263, 0.03986098])"
      ]
     },
     "execution_count": 29,
     "metadata": {},
     "output_type": "execute_result"
    }
   ],
   "source": [
    "sigmarho_round=np.round(sigmarho,3)\n",
    "sigmarho"
   ]
  },
  {
   "cell_type": "code",
   "execution_count": 30,
   "id": "aa25a8ac",
   "metadata": {},
   "outputs": [
    {
     "data": {
      "text/plain": [
       "array([2.71041959, 2.71920988, 2.71154698, 2.70835245, 2.62052686,\n",
       "       2.65211016, 2.67884534, 2.66610433, 2.67857321, 2.62120062,\n",
       "       2.68956434, 2.70168855, 2.55698002, 2.58696613, 2.73609641,\n",
       "       2.65403217, 2.70767145, 2.71658418, 2.71306794, 2.65015237,\n",
       "       2.68871924, 2.57404196, 2.67823586, 2.64074381, 2.61257613,\n",
       "       2.58306485, 2.70562486, 2.6225882 , 2.69088896, 2.62366717])"
      ]
     },
     "execution_count": 30,
     "metadata": {},
     "output_type": "execute_result"
    }
   ],
   "source": [
    "densità_round=np.round(densità,3)\n",
    "densità"
   ]
  },
  {
   "cell_type": "code",
   "execution_count": 31,
   "id": "d49df479",
   "metadata": {},
   "outputs": [
    {
     "data": {
      "text/plain": [
       "30"
      ]
     },
     "execution_count": 31,
     "metadata": {},
     "output_type": "execute_result"
    }
   ],
   "source": [
    "len(densità)"
   ]
  },
  {
   "cell_type": "code",
   "execution_count": 32,
   "id": "d5cb8fb4",
   "metadata": {
    "scrolled": true
   },
   "outputs": [
    {
     "name": "stdout",
     "output_type": "stream",
     "text": [
      "1 & 6.1 & 20.006 & 11.968 & 2.71$\\pm$0.028 \\\\\n",
      "2 & 6.1 & 19.958 & 11.963 & 2.719$\\pm$0.028 \\\\\n",
      "3 & 6.1 & 19.991 & 11.97 & 2.712$\\pm$0.028 \\\\\n",
      "4 & 4.2 & 19.992 & 9.938 & 2.708$\\pm$0.04 \\\\\n",
      "5 & 4.1 & 20.073 & 9.962 & 2.621$\\pm$0.04 \\\\\n",
      "6 & 4.3 & 20.814 & 9.959 & 2.652$\\pm$0.038 \\\\\n",
      "7 & 4.3 & 20.598 & 9.961 & 2.679$\\pm$0.039 \\\\\n",
      "8 & 6.5 & 21.139 & 12.118 & 2.666$\\pm$0.026 \\\\\n",
      "9 & 6.7 & 21.688 & 12.118 & 2.679$\\pm$0.025 \\\\\n",
      "10 & 4.1 & 20.088 & 9.957 & 2.621$\\pm$0.04 \\\\\n",
      "11 & 6.1 & 20.205 & 11.955 & 2.69$\\pm$0.027 \\\\\n",
      "12 & 4.2 & 19.993 & 9.95 & 2.702$\\pm$0.04 \\\\\n",
      "13 & 4.0 & 20.054 & 9.966 & 2.557$\\pm$0.04 \\\\\n",
      "14 & 4.3 & 21.321 & 9.963 & 2.587$\\pm$0.037 \\\\\n",
      "15 & 4.5 & 21.105 & 9.961 & 2.736$\\pm$0.038 \\\\\n",
      "16 & 2.7 & 20.093 & 8.029 & 2.654$\\pm$0.061 \\\\\n",
      "17 & 6.1 & 20.033 & 11.966 & 2.708$\\pm$0.028 \\\\\n",
      "18 & 6.1 & 19.994 & 11.958 & 2.717$\\pm$0.028 \\\\\n",
      "19 & 2.7 & 19.993 & 7.961 & 2.713$\\pm$0.063 \\\\\n",
      "20 & 2.4 & 18.003 & 8.003 & 2.65$\\pm$0.069 \\\\\n",
      "21 & 6.7 & 21.624 & 12.113 & 2.689$\\pm$0.025 \\\\\n",
      "22 & 3.6 & 17.965 & 9.956 & 2.574$\\pm$0.045 \\\\\n",
      "23 & 4.4 & 21.103 & 9.956 & 2.678$\\pm$0.038 \\\\\n",
      "24 & 4.3 & 20.891 & 9.962 & 2.641$\\pm$0.038 \\\\\n",
      "25 & 2.6 & 19.978 & 7.964 & 2.613$\\pm$0.063 \\\\\n",
      "26 & 2.7 & 20.563 & 8.045 & 2.583$\\pm$0.06 \\\\\n",
      "27 & 2.7 & 20.048 & 7.961 & 2.706$\\pm$0.062 \\\\\n",
      "28 & 2.6 & 19.992 & 7.946 & 2.623$\\pm$0.063 \\\\\n",
      "29 & 4.2 & 20.041 & 9.958 & 2.691$\\pm$0.04 \\\\\n",
      "30 & 4.1 & 20.053 & 9.961 & 2.624$\\pm$0.04 \\\\\n"
     ]
    }
   ],
   "source": [
    "for ix,x in enumerate(masse):\n",
    "    print ('{0} & {1} & {2} & {3} & {4}$\\pm${5} \\\\\\\\'.format(ix+1,masse[ix],np.round(lunghezze[ix],3),np.round(diametri[ix],3),densità_round[ix],sigmarho_round[ix]))\n",
    "    ##print ('\\hline')"
   ]
  },
  {
   "cell_type": "markdown",
   "id": "24287bb8",
   "metadata": {},
   "source": [
    "# Migliore stima densità"
   ]
  },
  {
   "cell_type": "code",
   "execution_count": 33,
   "id": "1a519c40",
   "metadata": {
    "scrolled": true
   },
   "outputs": [
    {
     "name": "stdout",
     "output_type": "stream",
     "text": [
      "0.0065425883348658965\n"
     ]
    },
    {
     "data": {
      "text/plain": [
       "2.6749773051080767"
      ]
     },
     "execution_count": 33,
     "metadata": {},
     "output_type": "execute_result"
    }
   ],
   "source": [
    "N=0\n",
    "D=0\n",
    "for ix,x in enumerate(densità):\n",
    "    N=N+densità[ix]*(1/pow(sigmarho[ix],2))\n",
    "    D=D+1/pow(sigmarho[ix],2)\n",
    "rho=N/D\n",
    "s_rho=1/pow(D,1/2)\n",
    "print(s_rho)\n",
    "rho"
   ]
  },
  {
   "cell_type": "markdown",
   "id": "9e7ba54f",
   "metadata": {},
   "source": [
    "rho è la migliore stima della densità, mentre s_rho è la sua incertezza"
   ]
  },
  {
   "cell_type": "markdown",
   "id": "9a3ef643",
   "metadata": {},
   "source": [
    "# Istogrmma densità"
   ]
  },
  {
   "cell_type": "code",
   "execution_count": 34,
   "id": "21924a95",
   "metadata": {},
   "outputs": [
    {
     "data": {
      "text/plain": [
       "7"
      ]
     },
     "execution_count": 34,
     "metadata": {},
     "output_type": "execute_result"
    }
   ],
   "source": [
    "binsize=np.std(densità,ddof=1)*0.5\n",
    "interval=densità.max()-densità.min()\n",
    "nbins=int(interval/binsize)\n",
    "nbins"
   ]
  },
  {
   "cell_type": "code",
   "execution_count": 35,
   "id": "03440fb3",
   "metadata": {},
   "outputs": [
    {
     "data": {
      "text/plain": [
       "2.6633281340401016"
      ]
     },
     "execution_count": 35,
     "metadata": {},
     "output_type": "execute_result"
    }
   ],
   "source": [
    "density_mean=np.mean(densità)\n",
    "density_mean\n"
   ]
  },
  {
   "cell_type": "code",
   "execution_count": 42,
   "id": "862982fb",
   "metadata": {},
   "outputs": [
    {
     "data": {
      "text/plain": [
       "[<matplotlib.lines.Line2D at 0x7f15707a6e20>]"
      ]
     },
     "execution_count": 42,
     "metadata": {},
     "output_type": "execute_result"
    },
    {
     "data": {
      "image/png": "[encoded data removed]",
      "text/plain": [
       "<Figure size 432x288 with 1 Axes>"
      ]
     },
     "metadata": {
      "needs_background": "light"
     },
     "output_type": "display_data"
    }
   ],
   "source": [
    "counts , bins , patches = plt.hist(densità,bins=nbins,label='binsize=S/2',color=\"blue\",alpha=0.75)\n",
    "plt.xlabel('densità [g/cm^3]')\n",
    "plt.ylabel('Conteggi')\n",
    "plt.title(label='Istogramma delle densità:  $\\mu$={0:.3f} S={1:.3f}'.format(density_mean,np.std(densità,ddof=1)))\n",
    "plt.legend()\n",
    "\n",
    "\n",
    "lnspc = np.linspace(densità.min()-densità.std(), densità.max()+densità.std(), 100) \n",
    "norm_factor = densità.size * binsize\n",
    "f_gaus = norm_factor*stats.norm.pdf(lnspc,densità.mean(),densità.std())  \n",
    "plt.plot(lnspc, f_gaus, linewidth=1, color='r',linestyle='--')"
   ]
  },
  {
   "cell_type": "markdown",
   "id": "a9e2634b",
   "metadata": {},
   "source": [
    "# Metodo grafico"
   ]
  },
  {
   "cell_type": "code",
   "execution_count": 37,
   "id": "008872ef",
   "metadata": {},
   "outputs": [],
   "source": [
    "masseG=np.array([18.3,30.7,48.2,62.5,75.3, 90.2,102.1,114.6,122.7,133.7])"
   ]
  },
  {
   "cell_type": "code",
   "execution_count": 38,
   "id": "9e340c95",
   "metadata": {},
   "outputs": [],
   "source": [
    "volumiG=np.array([6,11,18,23,28,34,38,42,44,49])"
   ]
  },
  {
   "cell_type": "code",
   "execution_count": 39,
   "id": "f0c5912c",
   "metadata": {},
   "outputs": [
    {
     "name": "stdout",
     "output_type": "stream",
     "text": [
      "1 & 18.3 & 6 \\\\\n",
      "2 & 30.7 & 11 \\\\\n",
      "3 & 48.2 & 18 \\\\\n",
      "4 & 62.5 & 23 \\\\\n",
      "5 & 75.3 & 28 \\\\\n",
      "6 & 90.2 & 34 \\\\\n",
      "7 & 102.1 & 38 \\\\\n",
      "8 & 114.6 & 42 \\\\\n",
      "9 & 122.7 & 44 \\\\\n",
      "10 & 133.7 & 49 \\\\\n"
     ]
    }
   ],
   "source": [
    "for ix,x in enumerate(masseG):\n",
    "    print ('{0} & {1} & {2} \\\\\\\\'.format(ix+1,masseG[ix],volumiG[ix]))"
   ]
  }
 ],
 "metadata": {
  "kernelspec": {
   "display_name": "Python 3 (ipykernel)",
   "language": "python",
   "name": "python3"
  },
  "language_info": {
   "codemirror_mode": {
    "name": "ipython",
    "version": 3
   },
   "file_extension": ".py",
   "mimetype": "text/x-python",
   "name": "python",
   "nbconvert_exporter": "python",
   "pygments_lexer": "ipython3",
   "version": "3.8.10"
  }
 },
 "nbformat": 4,
 "nbformat_minor": 5
}
